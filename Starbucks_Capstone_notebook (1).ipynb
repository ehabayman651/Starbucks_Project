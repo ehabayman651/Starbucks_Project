{
 "cells": [
  {
   "cell_type": "markdown",
   "metadata": {},
   "source": [
    "# Starbucks Capstone Project\n",
    "\n",
    "## Ehab Ayman Said\n",
    "\n",
    "### Domain Background\n",
    "\n",
    "Starbucks is the world largest coffee chain with locations exceeding 33,000 branches around the world. Serving millions of customers everyday does not solely happen because of their coffee quality but also due to the well usage of the customer data acquired from their mobile application. The mobile app gives daily offers to the customers through which they can redeem the offer and pick up the order from the store. In this project, we will go through the data set that mimics the customer behavior to predict how likely will they take an offer using their historical response to previous offers.\n",
    "\n",
    "### Problem Statement\n",
    "\n",
    "The challenge is to combine the data to predict how likely customers will respond to different offer types such as (BOGO, discount, informational) and determine the offer that will be most likely used by the customer. As a result, a tailored offer will be sent to each customer based on the model response predictions.\n",
    "\n",
    "### Datasets and inputs\n",
    "\n",
    "The data we will use are seperate in 3 different files:\n",
    "1- portfolio.json: which contains offer ids and meta data about each offer (duration, type, etc.)\n",
    "2- profile.json: demographic data for each customer.\n",
    "3- transcript.json: records for transactions, offers received, offers viewed, and offers completed\n",
    "\n",
    "### Schema and explanation of each variable in the files:\n",
    "- Portfolio.json (Rows = 10, Columns = 6)\n",
    "• id (string) - offer id\n",
    "• offer_type (string) - type of offer (BOGO, discount, informational)\n",
    "• difficulty (int) - minimum required spend to complete an offer\n",
    "• reward (int) - reward given for completing an offer\n",
    "• duration (int) - time for offer to be open, in days\n",
    "• channels (list of strings)\n",
    "- Profile.json (Rows = 17000, Columns = 5)\n",
    "• age (int) - age of the customer\n",
    "• became_member_on (int) - date when customer created an app account\n",
    "• gender (str) – gender type (some entries contain 'O' for other rather than M or F)\n",
    "• id (str) - customer id\n",
    "• income (float) - customer's income\n",
    "- Transcript.json (Rows = 306534, Columns = 4)\n",
    "• event (str) - record description (transaction, offer received, offer viewed, etc.)\n",
    "• person (str) - customer id\n",
    "• time (int) - time in hours since start of test. The data begins at time t=0\n",
    "• value - (dict of strings) - either an offer id or transaction amount depending on the record\n",
    "\n",
    "### Solution Statement\n",
    "\n",
    "First, I will use the provided data to know how parameters like (Age, Income, Gender, Demographic location) would affect the customer response. Also, which offer is getting picked the most for a given age category or income category (high, low, intermediate). Then, Using RandomForstClassifier, I will determine which offer will be most likely picked by the customer giving the same features.\n",
    "\n",
    "### Benchmark Model\n",
    "\n",
    "I will use KNeighborClassifier as a baseline to the model. Kneighbor is easy to implement and understand and as the size of data is not big, the Classifier will do probably do well at providing heads up information about our problem and how well our model will do in the prediction process.\n",
    "\n",
    "### Evaluation Metrics\n",
    "\n",
    "As for the evaluation metrics, I will use F1-Score (weighted average of the precision and recall) for both the benchmark model and evaluation model. The F1-Score provides great assessment of the model's quality. The score will be between 0 and 1, while zero means low quality and one means high quality.\n",
    "\n",
    "### Project Design\n",
    "\n",
    "The project workflow will be as followed:\n",
    "1- Download and explore the data.\n",
    "- Checking data sizes, number of nulls, column names, general description of the data..etc.\n",
    "2- Data cleaning and preprocessing.\n",
    "- Removing any null values, duplicated values, correct column names, remove any illogical values, correct data types, scale the values in case of applying heat map to select features.\n",
    "3- Data visualization\n",
    "- Using different visualization libraries like SeaBorn and Matplotlib to visualize the data, see how the data is trending and check for which categories to make the model learn from.\n",
    "4- Applying the benchmark model\n",
    "- Creating a baseline model through which I can compare the created model progress.\n",
    "5- Data training and validation\n",
    "- Training the model on the selected features to be able to predict which offer will most likely be picked by the customers. Checking if other supervised algorithms can do better like DecisionTree and XGBoost.\n",
    "6- Data testing\n",
    "- Testing the trained model on the Testing data to check its accuracy.\n",
    "7- Create a summary describing the project findings in a blog post.\n",
    "\n",
    "### References\n",
    "\n",
    "Ahmad, A.K., Jafar, A. & Aljoumaa, K. Customer churn prediction in telecom using machine learning in big data platform. J Big Data 6, 28 (2019). https://doi.org/10.1186/s40537-019-0191-6\n"
   ]
  },
  {
   "cell_type": "code",
   "execution_count": 1,
   "metadata": {},
   "outputs": [],
   "source": [
    "import pandas as pd\n",
    "import numpy as np\n",
    "import math\n",
    "import json\n",
    "%matplotlib inline\n",
    "import seaborn as sns\n",
    "import matplotlib.pyplot as plt\n",
    "from sklearn.preprocessing import MinMaxScaler\n",
    "from sklearn.model_selection import train_test_split\n",
    "from sklearn.ensemble import RandomForestClassifier\n",
    "from sklearn.neighbors import KNeighborsClassifier\n",
    "from sklearn.metrics import fbeta_score, accuracy_score\n",
    "from sklearn.metrics import f1_score\n",
    "from sklearn.tree import DecisionTreeClassifier \n",
    "from sklearn.model_selection import cross_val_score\n",
    "from datetime import datetime\n",
    "import warnings\n",
    "warnings.filterwarnings('ignore')\n",
    "\n",
    "\n",
    "# read in the json files\n",
    "portfolio = pd.read_json('data/portfolio.json', orient='records', lines=True)\n",
    "profile = pd.read_json('data/profile.json', orient='records', lines=True)\n",
    "transcript = pd.read_json('data/transcript.json', orient='records', lines=True)"
   ]
  },
  {
   "cell_type": "markdown",
   "metadata": {},
   "source": [
    "## Overview"
   ]
  },
  {
   "cell_type": "markdown",
   "metadata": {},
   "source": [
    "### 1- Portfolio file"
   ]
  },
  {
   "cell_type": "code",
   "execution_count": 2,
   "metadata": {},
   "outputs": [
    {
     "data": {
      "text/html": [
       "<div>\n",
       "<style scoped>\n",
       "    .dataframe tbody tr th:only-of-type {\n",
       "        vertical-align: middle;\n",
       "    }\n",
       "\n",
       "    .dataframe tbody tr th {\n",
       "        vertical-align: top;\n",
       "    }\n",
       "\n",
       "    .dataframe thead th {\n",
       "        text-align: right;\n",
       "    }\n",
       "</style>\n",
       "<table border=\"1\" class=\"dataframe\">\n",
       "  <thead>\n",
       "    <tr style=\"text-align: right;\">\n",
       "      <th></th>\n",
       "      <th>reward</th>\n",
       "      <th>channels</th>\n",
       "      <th>difficulty</th>\n",
       "      <th>duration</th>\n",
       "      <th>offer_type</th>\n",
       "      <th>id</th>\n",
       "    </tr>\n",
       "  </thead>\n",
       "  <tbody>\n",
       "    <tr>\n",
       "      <th>0</th>\n",
       "      <td>10</td>\n",
       "      <td>[email, mobile, social]</td>\n",
       "      <td>10</td>\n",
       "      <td>7</td>\n",
       "      <td>bogo</td>\n",
       "      <td>ae264e3637204a6fb9bb56bc8210ddfd</td>\n",
       "    </tr>\n",
       "    <tr>\n",
       "      <th>1</th>\n",
       "      <td>10</td>\n",
       "      <td>[web, email, mobile, social]</td>\n",
       "      <td>10</td>\n",
       "      <td>5</td>\n",
       "      <td>bogo</td>\n",
       "      <td>4d5c57ea9a6940dd891ad53e9dbe8da0</td>\n",
       "    </tr>\n",
       "    <tr>\n",
       "      <th>2</th>\n",
       "      <td>0</td>\n",
       "      <td>[web, email, mobile]</td>\n",
       "      <td>0</td>\n",
       "      <td>4</td>\n",
       "      <td>informational</td>\n",
       "      <td>3f207df678b143eea3cee63160fa8bed</td>\n",
       "    </tr>\n",
       "    <tr>\n",
       "      <th>3</th>\n",
       "      <td>5</td>\n",
       "      <td>[web, email, mobile]</td>\n",
       "      <td>5</td>\n",
       "      <td>7</td>\n",
       "      <td>bogo</td>\n",
       "      <td>9b98b8c7a33c4b65b9aebfe6a799e6d9</td>\n",
       "    </tr>\n",
       "    <tr>\n",
       "      <th>4</th>\n",
       "      <td>5</td>\n",
       "      <td>[web, email]</td>\n",
       "      <td>20</td>\n",
       "      <td>10</td>\n",
       "      <td>discount</td>\n",
       "      <td>0b1e1539f2cc45b7b9fa7c272da2e1d7</td>\n",
       "    </tr>\n",
       "  </tbody>\n",
       "</table>\n",
       "</div>"
      ],
      "text/plain": [
       "   reward                      channels  difficulty  duration     offer_type  \\\n",
       "0      10       [email, mobile, social]          10         7           bogo   \n",
       "1      10  [web, email, mobile, social]          10         5           bogo   \n",
       "2       0          [web, email, mobile]           0         4  informational   \n",
       "3       5          [web, email, mobile]           5         7           bogo   \n",
       "4       5                  [web, email]          20        10       discount   \n",
       "\n",
       "                                 id  \n",
       "0  ae264e3637204a6fb9bb56bc8210ddfd  \n",
       "1  4d5c57ea9a6940dd891ad53e9dbe8da0  \n",
       "2  3f207df678b143eea3cee63160fa8bed  \n",
       "3  9b98b8c7a33c4b65b9aebfe6a799e6d9  \n",
       "4  0b1e1539f2cc45b7b9fa7c272da2e1d7  "
      ]
     },
     "execution_count": 2,
     "metadata": {},
     "output_type": "execute_result"
    }
   ],
   "source": [
    "portfolio.head()"
   ]
  },
  {
   "cell_type": "code",
   "execution_count": 3,
   "metadata": {},
   "outputs": [
    {
     "data": {
      "text/plain": [
       "(10, 6)"
      ]
     },
     "execution_count": 3,
     "metadata": {},
     "output_type": "execute_result"
    }
   ],
   "source": [
    "portfolio.shape"
   ]
  },
  {
   "cell_type": "code",
   "execution_count": 4,
   "metadata": {},
   "outputs": [
    {
     "name": "stdout",
     "output_type": "stream",
     "text": [
      "<class 'pandas.core.frame.DataFrame'>\n",
      "RangeIndex: 10 entries, 0 to 9\n",
      "Data columns (total 6 columns):\n",
      " #   Column      Non-Null Count  Dtype \n",
      "---  ------      --------------  ----- \n",
      " 0   reward      10 non-null     int64 \n",
      " 1   channels    10 non-null     object\n",
      " 2   difficulty  10 non-null     int64 \n",
      " 3   duration    10 non-null     int64 \n",
      " 4   offer_type  10 non-null     object\n",
      " 5   id          10 non-null     object\n",
      "dtypes: int64(3), object(3)\n",
      "memory usage: 608.0+ bytes\n"
     ]
    }
   ],
   "source": [
    "portfolio.info()"
   ]
  },
  {
   "cell_type": "code",
   "execution_count": 5,
   "metadata": {},
   "outputs": [
    {
     "data": {
      "text/plain": [
       "reward        0\n",
       "channels      0\n",
       "difficulty    0\n",
       "duration      0\n",
       "offer_type    0\n",
       "id            0\n",
       "dtype: int64"
      ]
     },
     "execution_count": 5,
     "metadata": {},
     "output_type": "execute_result"
    }
   ],
   "source": [
    "portfolio.isnull().sum()"
   ]
  },
  {
   "cell_type": "code",
   "execution_count": 6,
   "metadata": {},
   "outputs": [
    {
     "data": {
      "text/plain": [
       "bogo             4\n",
       "discount         4\n",
       "informational    2\n",
       "Name: offer_type, dtype: int64"
      ]
     },
     "execution_count": 6,
     "metadata": {},
     "output_type": "execute_result"
    }
   ],
   "source": [
    "portfolio.offer_type.value_counts()"
   ]
  },
  {
   "cell_type": "code",
   "execution_count": 7,
   "metadata": {},
   "outputs": [
    {
     "data": {
      "image/png": "[encoded data removed]",
      "text/plain": [
       "<Figure size 720x576 with 1 Axes>"
      ]
     },
     "metadata": {
      "needs_background": "light"
     },
     "output_type": "display_data"
    }
   ],
   "source": [
    "plt.figure(figsize =(10,8))\n",
    "portfolio.offer_type.hist(bins = 10)\n",
    "plt.title('Count of offer types')\n",
    "plt.legend;"
   ]
  },
  {
   "cell_type": "markdown",
   "metadata": {},
   "source": [
    "### 2- Profile file\n"
   ]
  },
  {
   "cell_type": "code",
   "execution_count": 8,
   "metadata": {},
   "outputs": [
    {
     "data": {
      "text/html": [
       "<div>\n",
       "<style scoped>\n",
       "    .dataframe tbody tr th:only-of-type {\n",
       "        vertical-align: middle;\n",
       "    }\n",
       "\n",
       "    .dataframe tbody tr th {\n",
       "        vertical-align: top;\n",
       "    }\n",
       "\n",
       "    .dataframe thead th {\n",
       "        text-align: right;\n",
       "    }\n",
       "</style>\n",
       "<table border=\"1\" class=\"dataframe\">\n",
       "  <thead>\n",
       "    <tr style=\"text-align: right;\">\n",
       "      <th></th>\n",
       "      <th>gender</th>\n",
       "      <th>age</th>\n",
       "      <th>id</th>\n",
       "      <th>became_member_on</th>\n",
       "      <th>income</th>\n",
       "    </tr>\n",
       "  </thead>\n",
       "  <tbody>\n",
       "    <tr>\n",
       "      <th>0</th>\n",
       "      <td>None</td>\n",
       "      <td>118</td>\n",
       "      <td>68be06ca386d4c31939f3a4f0e3dd783</td>\n",
       "      <td>20170212</td>\n",
       "      <td>NaN</td>\n",
       "    </tr>\n",
       "    <tr>\n",
       "      <th>1</th>\n",
       "      <td>F</td>\n",
       "      <td>55</td>\n",
       "      <td>0610b486422d4921ae7d2bf64640c50b</td>\n",
       "      <td>20170715</td>\n",
       "      <td>112000.0</td>\n",
       "    </tr>\n",
       "    <tr>\n",
       "      <th>2</th>\n",
       "      <td>None</td>\n",
       "      <td>118</td>\n",
       "      <td>38fe809add3b4fcf9315a9694bb96ff5</td>\n",
       "      <td>20180712</td>\n",
       "      <td>NaN</td>\n",
       "    </tr>\n",
       "    <tr>\n",
       "      <th>3</th>\n",
       "      <td>F</td>\n",
       "      <td>75</td>\n",
       "      <td>78afa995795e4d85b5d9ceeca43f5fef</td>\n",
       "      <td>20170509</td>\n",
       "      <td>100000.0</td>\n",
       "    </tr>\n",
       "    <tr>\n",
       "      <th>4</th>\n",
       "      <td>None</td>\n",
       "      <td>118</td>\n",
       "      <td>a03223e636434f42ac4c3df47e8bac43</td>\n",
       "      <td>20170804</td>\n",
       "      <td>NaN</td>\n",
       "    </tr>\n",
       "  </tbody>\n",
       "</table>\n",
       "</div>"
      ],
      "text/plain": [
       "  gender  age                                id  became_member_on    income\n",
       "0   None  118  68be06ca386d4c31939f3a4f0e3dd783          20170212       NaN\n",
       "1      F   55  0610b486422d4921ae7d2bf64640c50b          20170715  112000.0\n",
       "2   None  118  38fe809add3b4fcf9315a9694bb96ff5          20180712       NaN\n",
       "3      F   75  78afa995795e4d85b5d9ceeca43f5fef          20170509  100000.0\n",
       "4   None  118  a03223e636434f42ac4c3df47e8bac43          20170804       NaN"
      ]
     },
     "execution_count": 8,
     "metadata": {},
     "output_type": "execute_result"
    }
   ],
   "source": [
    "profile.head()"
   ]
  },
  {
   "cell_type": "code",
   "execution_count": 9,
   "metadata": {},
   "outputs": [
    {
     "name": "stdout",
     "output_type": "stream",
     "text": [
      "<class 'pandas.core.frame.DataFrame'>\n",
      "RangeIndex: 17000 entries, 0 to 16999\n",
      "Data columns (total 5 columns):\n",
      " #   Column            Non-Null Count  Dtype  \n",
      "---  ------            --------------  -----  \n",
      " 0   gender            14825 non-null  object \n",
      " 1   age               17000 non-null  int64  \n",
      " 2   id                17000 non-null  object \n",
      " 3   became_member_on  17000 non-null  int64  \n",
      " 4   income            14825 non-null  float64\n",
      "dtypes: float64(1), int64(2), object(2)\n",
      "memory usage: 664.2+ KB\n"
     ]
    }
   ],
   "source": [
    "profile.info()"
   ]
  },
  {
   "cell_type": "code",
   "execution_count": 10,
   "metadata": {},
   "outputs": [
    {
     "data": {
      "text/plain": [
       "gender              2175\n",
       "age                    0\n",
       "id                     0\n",
       "became_member_on       0\n",
       "income              2175\n",
       "dtype: int64"
      ]
     },
     "execution_count": 10,
     "metadata": {},
     "output_type": "execute_result"
    }
   ],
   "source": [
    "profile.isnull().sum()"
   ]
  },
  {
   "cell_type": "code",
   "execution_count": 11,
   "metadata": {},
   "outputs": [
    {
     "data": {
      "text/plain": [
       "118    2175\n",
       "58      408\n",
       "53      372\n",
       "51      363\n",
       "54      359\n",
       "       ... \n",
       "100      12\n",
       "96        8\n",
       "98        5\n",
       "99        5\n",
       "101       5\n",
       "Name: age, Length: 85, dtype: int64"
      ]
     },
     "execution_count": 11,
     "metadata": {},
     "output_type": "execute_result"
    }
   ],
   "source": [
    "profile.age.value_counts()"
   ]
  },
  {
   "cell_type": "code",
   "execution_count": 12,
   "metadata": {},
   "outputs": [
    {
     "data": {
      "text/html": [
       "<div>\n",
       "<style scoped>\n",
       "    .dataframe tbody tr th:only-of-type {\n",
       "        vertical-align: middle;\n",
       "    }\n",
       "\n",
       "    .dataframe tbody tr th {\n",
       "        vertical-align: top;\n",
       "    }\n",
       "\n",
       "    .dataframe thead th {\n",
       "        text-align: right;\n",
       "    }\n",
       "</style>\n",
       "<table border=\"1\" class=\"dataframe\">\n",
       "  <thead>\n",
       "    <tr style=\"text-align: right;\">\n",
       "      <th></th>\n",
       "      <th>age</th>\n",
       "      <th>became_member_on</th>\n",
       "      <th>income</th>\n",
       "    </tr>\n",
       "  </thead>\n",
       "  <tbody>\n",
       "    <tr>\n",
       "      <th>count</th>\n",
       "      <td>17000.000000</td>\n",
       "      <td>1.700000e+04</td>\n",
       "      <td>14825.000000</td>\n",
       "    </tr>\n",
       "    <tr>\n",
       "      <th>mean</th>\n",
       "      <td>62.531412</td>\n",
       "      <td>2.016703e+07</td>\n",
       "      <td>65404.991568</td>\n",
       "    </tr>\n",
       "    <tr>\n",
       "      <th>std</th>\n",
       "      <td>26.738580</td>\n",
       "      <td>1.167750e+04</td>\n",
       "      <td>21598.299410</td>\n",
       "    </tr>\n",
       "    <tr>\n",
       "      <th>min</th>\n",
       "      <td>18.000000</td>\n",
       "      <td>2.013073e+07</td>\n",
       "      <td>30000.000000</td>\n",
       "    </tr>\n",
       "    <tr>\n",
       "      <th>25%</th>\n",
       "      <td>45.000000</td>\n",
       "      <td>2.016053e+07</td>\n",
       "      <td>49000.000000</td>\n",
       "    </tr>\n",
       "    <tr>\n",
       "      <th>50%</th>\n",
       "      <td>58.000000</td>\n",
       "      <td>2.017080e+07</td>\n",
       "      <td>64000.000000</td>\n",
       "    </tr>\n",
       "    <tr>\n",
       "      <th>75%</th>\n",
       "      <td>73.000000</td>\n",
       "      <td>2.017123e+07</td>\n",
       "      <td>80000.000000</td>\n",
       "    </tr>\n",
       "    <tr>\n",
       "      <th>max</th>\n",
       "      <td>118.000000</td>\n",
       "      <td>2.018073e+07</td>\n",
       "      <td>120000.000000</td>\n",
       "    </tr>\n",
       "  </tbody>\n",
       "</table>\n",
       "</div>"
      ],
      "text/plain": [
       "                age  became_member_on         income\n",
       "count  17000.000000      1.700000e+04   14825.000000\n",
       "mean      62.531412      2.016703e+07   65404.991568\n",
       "std       26.738580      1.167750e+04   21598.299410\n",
       "min       18.000000      2.013073e+07   30000.000000\n",
       "25%       45.000000      2.016053e+07   49000.000000\n",
       "50%       58.000000      2.017080e+07   64000.000000\n",
       "75%       73.000000      2.017123e+07   80000.000000\n",
       "max      118.000000      2.018073e+07  120000.000000"
      ]
     },
     "execution_count": 12,
     "metadata": {},
     "output_type": "execute_result"
    }
   ],
   "source": [
    "profile.describe()"
   ]
  },
  {
   "cell_type": "code",
   "execution_count": 13,
   "metadata": {},
   "outputs": [
    {
     "data": {
      "text/html": [
       "<div>\n",
       "<style scoped>\n",
       "    .dataframe tbody tr th:only-of-type {\n",
       "        vertical-align: middle;\n",
       "    }\n",
       "\n",
       "    .dataframe tbody tr th {\n",
       "        vertical-align: top;\n",
       "    }\n",
       "\n",
       "    .dataframe thead th {\n",
       "        text-align: right;\n",
       "    }\n",
       "</style>\n",
       "<table border=\"1\" class=\"dataframe\">\n",
       "  <thead>\n",
       "    <tr style=\"text-align: right;\">\n",
       "      <th></th>\n",
       "      <th>gender</th>\n",
       "      <th>age</th>\n",
       "      <th>id</th>\n",
       "      <th>became_member_on</th>\n",
       "      <th>income</th>\n",
       "    </tr>\n",
       "  </thead>\n",
       "  <tbody>\n",
       "    <tr>\n",
       "      <th>0</th>\n",
       "      <td>None</td>\n",
       "      <td>118</td>\n",
       "      <td>68be06ca386d4c31939f3a4f0e3dd783</td>\n",
       "      <td>20170212</td>\n",
       "      <td>NaN</td>\n",
       "    </tr>\n",
       "    <tr>\n",
       "      <th>2</th>\n",
       "      <td>None</td>\n",
       "      <td>118</td>\n",
       "      <td>38fe809add3b4fcf9315a9694bb96ff5</td>\n",
       "      <td>20180712</td>\n",
       "      <td>NaN</td>\n",
       "    </tr>\n",
       "    <tr>\n",
       "      <th>4</th>\n",
       "      <td>None</td>\n",
       "      <td>118</td>\n",
       "      <td>a03223e636434f42ac4c3df47e8bac43</td>\n",
       "      <td>20170804</td>\n",
       "      <td>NaN</td>\n",
       "    </tr>\n",
       "    <tr>\n",
       "      <th>6</th>\n",
       "      <td>None</td>\n",
       "      <td>118</td>\n",
       "      <td>8ec6ce2a7e7949b1bf142def7d0e0586</td>\n",
       "      <td>20170925</td>\n",
       "      <td>NaN</td>\n",
       "    </tr>\n",
       "    <tr>\n",
       "      <th>7</th>\n",
       "      <td>None</td>\n",
       "      <td>118</td>\n",
       "      <td>68617ca6246f4fbc85e91a2a49552598</td>\n",
       "      <td>20171002</td>\n",
       "      <td>NaN</td>\n",
       "    </tr>\n",
       "    <tr>\n",
       "      <th>...</th>\n",
       "      <td>...</td>\n",
       "      <td>...</td>\n",
       "      <td>...</td>\n",
       "      <td>...</td>\n",
       "      <td>...</td>\n",
       "    </tr>\n",
       "    <tr>\n",
       "      <th>16980</th>\n",
       "      <td>None</td>\n",
       "      <td>118</td>\n",
       "      <td>5c686d09ca4d475a8f750f2ba07e0440</td>\n",
       "      <td>20160901</td>\n",
       "      <td>NaN</td>\n",
       "    </tr>\n",
       "    <tr>\n",
       "      <th>16982</th>\n",
       "      <td>None</td>\n",
       "      <td>118</td>\n",
       "      <td>d9ca82f550ac4ee58b6299cf1e5c824a</td>\n",
       "      <td>20160415</td>\n",
       "      <td>NaN</td>\n",
       "    </tr>\n",
       "    <tr>\n",
       "      <th>16989</th>\n",
       "      <td>None</td>\n",
       "      <td>118</td>\n",
       "      <td>ca45ee1883624304bac1e4c8a114f045</td>\n",
       "      <td>20180305</td>\n",
       "      <td>NaN</td>\n",
       "    </tr>\n",
       "    <tr>\n",
       "      <th>16991</th>\n",
       "      <td>None</td>\n",
       "      <td>118</td>\n",
       "      <td>a9a20fa8b5504360beb4e7c8712f8306</td>\n",
       "      <td>20160116</td>\n",
       "      <td>NaN</td>\n",
       "    </tr>\n",
       "    <tr>\n",
       "      <th>16994</th>\n",
       "      <td>None</td>\n",
       "      <td>118</td>\n",
       "      <td>c02b10e8752c4d8e9b73f918558531f7</td>\n",
       "      <td>20151211</td>\n",
       "      <td>NaN</td>\n",
       "    </tr>\n",
       "  </tbody>\n",
       "</table>\n",
       "<p>2175 rows × 5 columns</p>\n",
       "</div>"
      ],
      "text/plain": [
       "      gender  age                                id  became_member_on  income\n",
       "0       None  118  68be06ca386d4c31939f3a4f0e3dd783          20170212     NaN\n",
       "2       None  118  38fe809add3b4fcf9315a9694bb96ff5          20180712     NaN\n",
       "4       None  118  a03223e636434f42ac4c3df47e8bac43          20170804     NaN\n",
       "6       None  118  8ec6ce2a7e7949b1bf142def7d0e0586          20170925     NaN\n",
       "7       None  118  68617ca6246f4fbc85e91a2a49552598          20171002     NaN\n",
       "...      ...  ...                               ...               ...     ...\n",
       "16980   None  118  5c686d09ca4d475a8f750f2ba07e0440          20160901     NaN\n",
       "16982   None  118  d9ca82f550ac4ee58b6299cf1e5c824a          20160415     NaN\n",
       "16989   None  118  ca45ee1883624304bac1e4c8a114f045          20180305     NaN\n",
       "16991   None  118  a9a20fa8b5504360beb4e7c8712f8306          20160116     NaN\n",
       "16994   None  118  c02b10e8752c4d8e9b73f918558531f7          20151211     NaN\n",
       "\n",
       "[2175 rows x 5 columns]"
      ]
     },
     "execution_count": 13,
     "metadata": {},
     "output_type": "execute_result"
    }
   ],
   "source": [
    "profile[profile.age == 118]"
   ]
  },
  {
   "cell_type": "code",
   "execution_count": 14,
   "metadata": {},
   "outputs": [],
   "source": [
    "profile = profile[profile.age != 118]"
   ]
  },
  {
   "cell_type": "code",
   "execution_count": 15,
   "metadata": {},
   "outputs": [
    {
     "data": {
      "text/plain": [
       "(14825, 5)"
      ]
     },
     "execution_count": 15,
     "metadata": {},
     "output_type": "execute_result"
    }
   ],
   "source": [
    "profile.shape"
   ]
  },
  {
   "cell_type": "code",
   "execution_count": 16,
   "metadata": {},
   "outputs": [
    {
     "data": {
      "text/plain": [
       "58     408\n",
       "53     372\n",
       "51     363\n",
       "59     359\n",
       "54     359\n",
       "      ... \n",
       "100     12\n",
       "96       8\n",
       "98       5\n",
       "101      5\n",
       "99       5\n",
       "Name: age, Length: 84, dtype: int64"
      ]
     },
     "execution_count": 16,
     "metadata": {},
     "output_type": "execute_result"
    }
   ],
   "source": [
    "profile.age.value_counts()"
   ]
  },
  {
   "cell_type": "code",
   "execution_count": 17,
   "metadata": {},
   "outputs": [
    {
     "data": {
      "text/plain": [
       "<AxesSubplot:xlabel='age'>"
      ]
     },
     "execution_count": 17,
     "metadata": {},
     "output_type": "execute_result"
    },
    {
     "data": {
      "image/png": "[encoded data removed]",
      "text/plain": [
       "<Figure size 432x288 with 1 Axes>"
      ]
     },
     "metadata": {
      "needs_background": "light"
     },
     "output_type": "display_data"
    }
   ],
   "source": [
    "sns.boxplot(profile['age'])"
   ]
  },
  {
   "cell_type": "markdown",
   "metadata": {},
   "source": [
    "#### customers above 70 do not use the starbucks application that much."
   ]
  },
  {
   "cell_type": "code",
   "execution_count": 18,
   "metadata": {},
   "outputs": [
    {
     "data": {
      "text/html": [
       "<div>\n",
       "<style scoped>\n",
       "    .dataframe tbody tr th:only-of-type {\n",
       "        vertical-align: middle;\n",
       "    }\n",
       "\n",
       "    .dataframe tbody tr th {\n",
       "        vertical-align: top;\n",
       "    }\n",
       "\n",
       "    .dataframe thead th {\n",
       "        text-align: right;\n",
       "    }\n",
       "</style>\n",
       "<table border=\"1\" class=\"dataframe\">\n",
       "  <thead>\n",
       "    <tr style=\"text-align: right;\">\n",
       "      <th></th>\n",
       "      <th>age</th>\n",
       "      <th>became_member_on</th>\n",
       "      <th>income</th>\n",
       "    </tr>\n",
       "  </thead>\n",
       "  <tbody>\n",
       "    <tr>\n",
       "      <th>count</th>\n",
       "      <td>14825.000000</td>\n",
       "      <td>1.482500e+04</td>\n",
       "      <td>14825.000000</td>\n",
       "    </tr>\n",
       "    <tr>\n",
       "      <th>mean</th>\n",
       "      <td>54.393524</td>\n",
       "      <td>2.016689e+07</td>\n",
       "      <td>65404.991568</td>\n",
       "    </tr>\n",
       "    <tr>\n",
       "      <th>std</th>\n",
       "      <td>17.383705</td>\n",
       "      <td>1.188565e+04</td>\n",
       "      <td>21598.299410</td>\n",
       "    </tr>\n",
       "    <tr>\n",
       "      <th>min</th>\n",
       "      <td>18.000000</td>\n",
       "      <td>2.013073e+07</td>\n",
       "      <td>30000.000000</td>\n",
       "    </tr>\n",
       "    <tr>\n",
       "      <th>25%</th>\n",
       "      <td>42.000000</td>\n",
       "      <td>2.016052e+07</td>\n",
       "      <td>49000.000000</td>\n",
       "    </tr>\n",
       "    <tr>\n",
       "      <th>50%</th>\n",
       "      <td>55.000000</td>\n",
       "      <td>2.017080e+07</td>\n",
       "      <td>64000.000000</td>\n",
       "    </tr>\n",
       "    <tr>\n",
       "      <th>75%</th>\n",
       "      <td>66.000000</td>\n",
       "      <td>2.017123e+07</td>\n",
       "      <td>80000.000000</td>\n",
       "    </tr>\n",
       "    <tr>\n",
       "      <th>max</th>\n",
       "      <td>101.000000</td>\n",
       "      <td>2.018073e+07</td>\n",
       "      <td>120000.000000</td>\n",
       "    </tr>\n",
       "  </tbody>\n",
       "</table>\n",
       "</div>"
      ],
      "text/plain": [
       "                age  became_member_on         income\n",
       "count  14825.000000      1.482500e+04   14825.000000\n",
       "mean      54.393524      2.016689e+07   65404.991568\n",
       "std       17.383705      1.188565e+04   21598.299410\n",
       "min       18.000000      2.013073e+07   30000.000000\n",
       "25%       42.000000      2.016052e+07   49000.000000\n",
       "50%       55.000000      2.017080e+07   64000.000000\n",
       "75%       66.000000      2.017123e+07   80000.000000\n",
       "max      101.000000      2.018073e+07  120000.000000"
      ]
     },
     "execution_count": 18,
     "metadata": {},
     "output_type": "execute_result"
    }
   ],
   "source": [
    "profile.describe()"
   ]
  },
  {
   "cell_type": "code",
   "execution_count": 19,
   "metadata": {
    "scrolled": true
   },
   "outputs": [
    {
     "data": {
      "text/html": [
       "<div>\n",
       "<style scoped>\n",
       "    .dataframe tbody tr th:only-of-type {\n",
       "        vertical-align: middle;\n",
       "    }\n",
       "\n",
       "    .dataframe tbody tr th {\n",
       "        vertical-align: top;\n",
       "    }\n",
       "\n",
       "    .dataframe thead th {\n",
       "        text-align: right;\n",
       "    }\n",
       "</style>\n",
       "<table border=\"1\" class=\"dataframe\">\n",
       "  <thead>\n",
       "    <tr style=\"text-align: right;\">\n",
       "      <th></th>\n",
       "      <th>gender</th>\n",
       "      <th>age</th>\n",
       "      <th>id</th>\n",
       "      <th>became_member_on</th>\n",
       "      <th>income</th>\n",
       "    </tr>\n",
       "  </thead>\n",
       "  <tbody>\n",
       "    <tr>\n",
       "      <th>3</th>\n",
       "      <td>F</td>\n",
       "      <td>75</td>\n",
       "      <td>78afa995795e4d85b5d9ceeca43f5fef</td>\n",
       "      <td>20170509</td>\n",
       "      <td>100000.0</td>\n",
       "    </tr>\n",
       "    <tr>\n",
       "      <th>5</th>\n",
       "      <td>M</td>\n",
       "      <td>68</td>\n",
       "      <td>e2127556f4f64592b11af22de27a7932</td>\n",
       "      <td>20180426</td>\n",
       "      <td>70000.0</td>\n",
       "    </tr>\n",
       "    <tr>\n",
       "      <th>8</th>\n",
       "      <td>M</td>\n",
       "      <td>65</td>\n",
       "      <td>389bc3fa690240e798340f5a15918d5c</td>\n",
       "      <td>20180209</td>\n",
       "      <td>53000.0</td>\n",
       "    </tr>\n",
       "    <tr>\n",
       "      <th>13</th>\n",
       "      <td>F</td>\n",
       "      <td>61</td>\n",
       "      <td>aa4862eba776480b8bb9c68455b8c2e1</td>\n",
       "      <td>20170911</td>\n",
       "      <td>57000.0</td>\n",
       "    </tr>\n",
       "    <tr>\n",
       "      <th>15</th>\n",
       "      <td>F</td>\n",
       "      <td>62</td>\n",
       "      <td>31dda685af34476cad5bc968bdb01c53</td>\n",
       "      <td>20160211</td>\n",
       "      <td>71000.0</td>\n",
       "    </tr>\n",
       "    <tr>\n",
       "      <th>...</th>\n",
       "      <td>...</td>\n",
       "      <td>...</td>\n",
       "      <td>...</td>\n",
       "      <td>...</td>\n",
       "      <td>...</td>\n",
       "    </tr>\n",
       "    <tr>\n",
       "      <th>16988</th>\n",
       "      <td>M</td>\n",
       "      <td>64</td>\n",
       "      <td>f653cf2d8bba42d0a53c2937ee2e5893</td>\n",
       "      <td>20180104</td>\n",
       "      <td>51000.0</td>\n",
       "    </tr>\n",
       "    <tr>\n",
       "      <th>16990</th>\n",
       "      <td>F</td>\n",
       "      <td>70</td>\n",
       "      <td>79edb810789c447e8d212a324b44cc16</td>\n",
       "      <td>20160310</td>\n",
       "      <td>39000.0</td>\n",
       "    </tr>\n",
       "    <tr>\n",
       "      <th>16996</th>\n",
       "      <td>M</td>\n",
       "      <td>61</td>\n",
       "      <td>2cb4f97358b841b9a9773a7aa05a9d77</td>\n",
       "      <td>20180713</td>\n",
       "      <td>72000.0</td>\n",
       "    </tr>\n",
       "    <tr>\n",
       "      <th>16998</th>\n",
       "      <td>F</td>\n",
       "      <td>83</td>\n",
       "      <td>9dc1421481194dcd9400aec7c9ae6366</td>\n",
       "      <td>20160307</td>\n",
       "      <td>50000.0</td>\n",
       "    </tr>\n",
       "    <tr>\n",
       "      <th>16999</th>\n",
       "      <td>F</td>\n",
       "      <td>62</td>\n",
       "      <td>e4052622e5ba45a8b96b59aba68cf068</td>\n",
       "      <td>20170722</td>\n",
       "      <td>82000.0</td>\n",
       "    </tr>\n",
       "  </tbody>\n",
       "</table>\n",
       "<p>5542 rows × 5 columns</p>\n",
       "</div>"
      ],
      "text/plain": [
       "      gender  age                                id  became_member_on  \\\n",
       "3          F   75  78afa995795e4d85b5d9ceeca43f5fef          20170509   \n",
       "5          M   68  e2127556f4f64592b11af22de27a7932          20180426   \n",
       "8          M   65  389bc3fa690240e798340f5a15918d5c          20180209   \n",
       "13         F   61  aa4862eba776480b8bb9c68455b8c2e1          20170911   \n",
       "15         F   62  31dda685af34476cad5bc968bdb01c53          20160211   \n",
       "...      ...  ...                               ...               ...   \n",
       "16988      M   64  f653cf2d8bba42d0a53c2937ee2e5893          20180104   \n",
       "16990      F   70  79edb810789c447e8d212a324b44cc16          20160310   \n",
       "16996      M   61  2cb4f97358b841b9a9773a7aa05a9d77          20180713   \n",
       "16998      F   83  9dc1421481194dcd9400aec7c9ae6366          20160307   \n",
       "16999      F   62  e4052622e5ba45a8b96b59aba68cf068          20170722   \n",
       "\n",
       "         income  \n",
       "3      100000.0  \n",
       "5       70000.0  \n",
       "8       53000.0  \n",
       "13      57000.0  \n",
       "15      71000.0  \n",
       "...         ...  \n",
       "16988   51000.0  \n",
       "16990   39000.0  \n",
       "16996   72000.0  \n",
       "16998   50000.0  \n",
       "16999   82000.0  \n",
       "\n",
       "[5542 rows x 5 columns]"
      ]
     },
     "execution_count": 19,
     "metadata": {},
     "output_type": "execute_result"
    }
   ],
   "source": [
    "profile[(profile['age'] > 60) & (profile['age'] <= 101)]"
   ]
  },
  {
   "cell_type": "code",
   "execution_count": 20,
   "metadata": {},
   "outputs": [
    {
     "data": {
      "image/png": "[encoded data removed]",
      "text/plain": [
       "<Figure size 720x576 with 1 Axes>"
      ]
     },
     "metadata": {
      "needs_background": "light"
     },
     "output_type": "display_data"
    }
   ],
   "source": [
    "plt.figure(figsize =(10,8))\n",
    "profile.gender.hist(bins = 10)\n",
    "plt.title('Count of customers based on their gender')\n",
    "plt.legend;"
   ]
  },
  {
   "cell_type": "markdown",
   "metadata": {},
   "source": [
    "### 3- Transcript file"
   ]
  },
  {
   "cell_type": "code",
   "execution_count": 21,
   "metadata": {},
   "outputs": [
    {
     "data": {
      "text/html": [
       "<div>\n",
       "<style scoped>\n",
       "    .dataframe tbody tr th:only-of-type {\n",
       "        vertical-align: middle;\n",
       "    }\n",
       "\n",
       "    .dataframe tbody tr th {\n",
       "        vertical-align: top;\n",
       "    }\n",
       "\n",
       "    .dataframe thead th {\n",
       "        text-align: right;\n",
       "    }\n",
       "</style>\n",
       "<table border=\"1\" class=\"dataframe\">\n",
       "  <thead>\n",
       "    <tr style=\"text-align: right;\">\n",
       "      <th></th>\n",
       "      <th>person</th>\n",
       "      <th>event</th>\n",
       "      <th>value</th>\n",
       "      <th>time</th>\n",
       "    </tr>\n",
       "  </thead>\n",
       "  <tbody>\n",
       "    <tr>\n",
       "      <th>0</th>\n",
       "      <td>78afa995795e4d85b5d9ceeca43f5fef</td>\n",
       "      <td>offer received</td>\n",
       "      <td>{'offer id': '9b98b8c7a33c4b65b9aebfe6a799e6d9'}</td>\n",
       "      <td>0</td>\n",
       "    </tr>\n",
       "    <tr>\n",
       "      <th>1</th>\n",
       "      <td>a03223e636434f42ac4c3df47e8bac43</td>\n",
       "      <td>offer received</td>\n",
       "      <td>{'offer id': '0b1e1539f2cc45b7b9fa7c272da2e1d7'}</td>\n",
       "      <td>0</td>\n",
       "    </tr>\n",
       "    <tr>\n",
       "      <th>2</th>\n",
       "      <td>e2127556f4f64592b11af22de27a7932</td>\n",
       "      <td>offer received</td>\n",
       "      <td>{'offer id': '2906b810c7d4411798c6938adc9daaa5'}</td>\n",
       "      <td>0</td>\n",
       "    </tr>\n",
       "    <tr>\n",
       "      <th>3</th>\n",
       "      <td>8ec6ce2a7e7949b1bf142def7d0e0586</td>\n",
       "      <td>offer received</td>\n",
       "      <td>{'offer id': 'fafdcd668e3743c1bb461111dcafc2a4'}</td>\n",
       "      <td>0</td>\n",
       "    </tr>\n",
       "    <tr>\n",
       "      <th>4</th>\n",
       "      <td>68617ca6246f4fbc85e91a2a49552598</td>\n",
       "      <td>offer received</td>\n",
       "      <td>{'offer id': '4d5c57ea9a6940dd891ad53e9dbe8da0'}</td>\n",
       "      <td>0</td>\n",
       "    </tr>\n",
       "  </tbody>\n",
       "</table>\n",
       "</div>"
      ],
      "text/plain": [
       "                             person           event  \\\n",
       "0  78afa995795e4d85b5d9ceeca43f5fef  offer received   \n",
       "1  a03223e636434f42ac4c3df47e8bac43  offer received   \n",
       "2  e2127556f4f64592b11af22de27a7932  offer received   \n",
       "3  8ec6ce2a7e7949b1bf142def7d0e0586  offer received   \n",
       "4  68617ca6246f4fbc85e91a2a49552598  offer received   \n",
       "\n",
       "                                              value  time  \n",
       "0  {'offer id': '9b98b8c7a33c4b65b9aebfe6a799e6d9'}     0  \n",
       "1  {'offer id': '0b1e1539f2cc45b7b9fa7c272da2e1d7'}     0  \n",
       "2  {'offer id': '2906b810c7d4411798c6938adc9daaa5'}     0  \n",
       "3  {'offer id': 'fafdcd668e3743c1bb461111dcafc2a4'}     0  \n",
       "4  {'offer id': '4d5c57ea9a6940dd891ad53e9dbe8da0'}     0  "
      ]
     },
     "execution_count": 21,
     "metadata": {},
     "output_type": "execute_result"
    }
   ],
   "source": [
    "transcript.head()"
   ]
  },
  {
   "cell_type": "code",
   "execution_count": 22,
   "metadata": {},
   "outputs": [
    {
     "name": "stdout",
     "output_type": "stream",
     "text": [
      "<class 'pandas.core.frame.DataFrame'>\n",
      "RangeIndex: 306534 entries, 0 to 306533\n",
      "Data columns (total 4 columns):\n",
      " #   Column  Non-Null Count   Dtype \n",
      "---  ------  --------------   ----- \n",
      " 0   person  306534 non-null  object\n",
      " 1   event   306534 non-null  object\n",
      " 2   value   306534 non-null  object\n",
      " 3   time    306534 non-null  int64 \n",
      "dtypes: int64(1), object(3)\n",
      "memory usage: 9.4+ MB\n"
     ]
    }
   ],
   "source": [
    "transcript.info()"
   ]
  },
  {
   "cell_type": "code",
   "execution_count": 23,
   "metadata": {},
   "outputs": [
    {
     "data": {
      "text/plain": [
       "(306534, 4)"
      ]
     },
     "execution_count": 23,
     "metadata": {},
     "output_type": "execute_result"
    }
   ],
   "source": [
    "transcript.shape"
   ]
  },
  {
   "cell_type": "code",
   "execution_count": 24,
   "metadata": {},
   "outputs": [
    {
     "data": {
      "text/html": [
       "<div>\n",
       "<style scoped>\n",
       "    .dataframe tbody tr th:only-of-type {\n",
       "        vertical-align: middle;\n",
       "    }\n",
       "\n",
       "    .dataframe tbody tr th {\n",
       "        vertical-align: top;\n",
       "    }\n",
       "\n",
       "    .dataframe thead th {\n",
       "        text-align: right;\n",
       "    }\n",
       "</style>\n",
       "<table border=\"1\" class=\"dataframe\">\n",
       "  <thead>\n",
       "    <tr style=\"text-align: right;\">\n",
       "      <th></th>\n",
       "      <th>time</th>\n",
       "    </tr>\n",
       "  </thead>\n",
       "  <tbody>\n",
       "    <tr>\n",
       "      <th>count</th>\n",
       "      <td>306534.000000</td>\n",
       "    </tr>\n",
       "    <tr>\n",
       "      <th>mean</th>\n",
       "      <td>366.382940</td>\n",
       "    </tr>\n",
       "    <tr>\n",
       "      <th>std</th>\n",
       "      <td>200.326314</td>\n",
       "    </tr>\n",
       "    <tr>\n",
       "      <th>min</th>\n",
       "      <td>0.000000</td>\n",
       "    </tr>\n",
       "    <tr>\n",
       "      <th>25%</th>\n",
       "      <td>186.000000</td>\n",
       "    </tr>\n",
       "    <tr>\n",
       "      <th>50%</th>\n",
       "      <td>408.000000</td>\n",
       "    </tr>\n",
       "    <tr>\n",
       "      <th>75%</th>\n",
       "      <td>528.000000</td>\n",
       "    </tr>\n",
       "    <tr>\n",
       "      <th>max</th>\n",
       "      <td>714.000000</td>\n",
       "    </tr>\n",
       "  </tbody>\n",
       "</table>\n",
       "</div>"
      ],
      "text/plain": [
       "                time\n",
       "count  306534.000000\n",
       "mean      366.382940\n",
       "std       200.326314\n",
       "min         0.000000\n",
       "25%       186.000000\n",
       "50%       408.000000\n",
       "75%       528.000000\n",
       "max       714.000000"
      ]
     },
     "execution_count": 24,
     "metadata": {},
     "output_type": "execute_result"
    }
   ],
   "source": [
    "transcript.describe()"
   ]
  },
  {
   "cell_type": "code",
   "execution_count": 25,
   "metadata": {},
   "outputs": [
    {
     "data": {
      "text/plain": [
       "<AxesSubplot:>"
      ]
     },
     "execution_count": 25,
     "metadata": {},
     "output_type": "execute_result"
    },
    {
     "data": {
      "image/png": "[encoded data removed]",
      "text/plain": [
       "<Figure size 432x288 with 1 Axes>"
      ]
     },
     "metadata": {
      "needs_background": "light"
     },
     "output_type": "display_data"
    }
   ],
   "source": [
    "transcript.event.value_counts().hist()"
   ]
  },
  {
   "cell_type": "code",
   "execution_count": 26,
   "metadata": {},
   "outputs": [
    {
     "data": {
      "image/png": "[encoded data removed]",
      "text/plain": [
       "<Figure size 720x576 with 1 Axes>"
      ]
     },
     "metadata": {
      "needs_background": "light"
     },
     "output_type": "display_data"
    }
   ],
   "source": [
    "plt.figure(figsize =(10,8))\n",
    "transcript.event.hist(bins = 10, color = 'salmon')\n",
    "plt.title('Categorizing the type of events')\n",
    "plt.legend;"
   ]
  },
  {
   "cell_type": "markdown",
   "metadata": {},
   "source": [
    "## Data Cleaning\n",
    "\n",
    "### In this section, I'll do the following:\n",
    "    1- rename some columns for better accessibility. \n",
    "    2- remove customers above 70 as they wouldn't use the app that much as seen from the boxplot in the data exploration section.\n",
    "    3- categorize the age column into 4 groups (teens, young_adults, mid_aged_adults,old_aged_adults).\n",
    "\n"
   ]
  },
  {
   "cell_type": "markdown",
   "metadata": {},
   "source": [
    "#### creating a function to change columns names"
   ]
  },
  {
   "cell_type": "code",
   "execution_count": 27,
   "metadata": {},
   "outputs": [],
   "source": [
    "def column_rename(df, new_name):\n",
    "    \"\"\"\"\n",
    "    Parameters:\n",
    "    df: The dataframe containing the columns to rename\n",
    "    new_name: the new renamed column\n",
    "    \n",
    "    Returns:\n",
    "    \n",
    "    df: The dataframe containing the renamed columns\n",
    "    \n",
    "    \"\"\"\n",
    "    df = df.rename(columns = new_name)\n",
    "    \n",
    "    return df\n",
    "\n",
    "    "
   ]
  },
  {
   "cell_type": "code",
   "execution_count": 28,
   "metadata": {},
   "outputs": [
    {
     "data": {
      "text/html": [
       "<div>\n",
       "<style scoped>\n",
       "    .dataframe tbody tr th:only-of-type {\n",
       "        vertical-align: middle;\n",
       "    }\n",
       "\n",
       "    .dataframe tbody tr th {\n",
       "        vertical-align: top;\n",
       "    }\n",
       "\n",
       "    .dataframe thead th {\n",
       "        text-align: right;\n",
       "    }\n",
       "</style>\n",
       "<table border=\"1\" class=\"dataframe\">\n",
       "  <thead>\n",
       "    <tr style=\"text-align: right;\">\n",
       "      <th></th>\n",
       "      <th>gender</th>\n",
       "      <th>age</th>\n",
       "      <th>id</th>\n",
       "      <th>became_member_on</th>\n",
       "      <th>income</th>\n",
       "    </tr>\n",
       "  </thead>\n",
       "  <tbody>\n",
       "    <tr>\n",
       "      <th>1</th>\n",
       "      <td>F</td>\n",
       "      <td>55</td>\n",
       "      <td>0610b486422d4921ae7d2bf64640c50b</td>\n",
       "      <td>20170715</td>\n",
       "      <td>112000.0</td>\n",
       "    </tr>\n",
       "  </tbody>\n",
       "</table>\n",
       "</div>"
      ],
      "text/plain": [
       "  gender  age                                id  became_member_on    income\n",
       "1      F   55  0610b486422d4921ae7d2bf64640c50b          20170715  112000.0"
      ]
     },
     "execution_count": 28,
     "metadata": {},
     "output_type": "execute_result"
    }
   ],
   "source": [
    "profile.head(1)"
   ]
  },
  {
   "cell_type": "code",
   "execution_count": 29,
   "metadata": {},
   "outputs": [
    {
     "data": {
      "text/html": [
       "<div>\n",
       "<style scoped>\n",
       "    .dataframe tbody tr th:only-of-type {\n",
       "        vertical-align: middle;\n",
       "    }\n",
       "\n",
       "    .dataframe tbody tr th {\n",
       "        vertical-align: top;\n",
       "    }\n",
       "\n",
       "    .dataframe thead th {\n",
       "        text-align: right;\n",
       "    }\n",
       "</style>\n",
       "<table border=\"1\" class=\"dataframe\">\n",
       "  <thead>\n",
       "    <tr style=\"text-align: right;\">\n",
       "      <th></th>\n",
       "      <th>reward</th>\n",
       "      <th>channels</th>\n",
       "      <th>difficulty</th>\n",
       "      <th>duration</th>\n",
       "      <th>offer_type</th>\n",
       "      <th>id</th>\n",
       "    </tr>\n",
       "  </thead>\n",
       "  <tbody>\n",
       "    <tr>\n",
       "      <th>0</th>\n",
       "      <td>10</td>\n",
       "      <td>[email, mobile, social]</td>\n",
       "      <td>10</td>\n",
       "      <td>7</td>\n",
       "      <td>bogo</td>\n",
       "      <td>ae264e3637204a6fb9bb56bc8210ddfd</td>\n",
       "    </tr>\n",
       "  </tbody>\n",
       "</table>\n",
       "</div>"
      ],
      "text/plain": [
       "   reward                 channels  difficulty  duration offer_type  \\\n",
       "0      10  [email, mobile, social]          10         7       bogo   \n",
       "\n",
       "                                 id  \n",
       "0  ae264e3637204a6fb9bb56bc8210ddfd  "
      ]
     },
     "execution_count": 29,
     "metadata": {},
     "output_type": "execute_result"
    }
   ],
   "source": [
    "portfolio.head(1)"
   ]
  },
  {
   "cell_type": "code",
   "execution_count": 30,
   "metadata": {},
   "outputs": [
    {
     "data": {
      "text/html": [
       "<div>\n",
       "<style scoped>\n",
       "    .dataframe tbody tr th:only-of-type {\n",
       "        vertical-align: middle;\n",
       "    }\n",
       "\n",
       "    .dataframe tbody tr th {\n",
       "        vertical-align: top;\n",
       "    }\n",
       "\n",
       "    .dataframe thead th {\n",
       "        text-align: right;\n",
       "    }\n",
       "</style>\n",
       "<table border=\"1\" class=\"dataframe\">\n",
       "  <thead>\n",
       "    <tr style=\"text-align: right;\">\n",
       "      <th></th>\n",
       "      <th>person</th>\n",
       "      <th>event</th>\n",
       "      <th>value</th>\n",
       "      <th>time</th>\n",
       "    </tr>\n",
       "  </thead>\n",
       "  <tbody>\n",
       "    <tr>\n",
       "      <th>0</th>\n",
       "      <td>78afa995795e4d85b5d9ceeca43f5fef</td>\n",
       "      <td>offer received</td>\n",
       "      <td>{'offer id': '9b98b8c7a33c4b65b9aebfe6a799e6d9'}</td>\n",
       "      <td>0</td>\n",
       "    </tr>\n",
       "  </tbody>\n",
       "</table>\n",
       "</div>"
      ],
      "text/plain": [
       "                             person           event  \\\n",
       "0  78afa995795e4d85b5d9ceeca43f5fef  offer received   \n",
       "\n",
       "                                              value  time  \n",
       "0  {'offer id': '9b98b8c7a33c4b65b9aebfe6a799e6d9'}     0  "
      ]
     },
     "execution_count": 30,
     "metadata": {},
     "output_type": "execute_result"
    }
   ],
   "source": [
    "transcript.head(1)"
   ]
  },
  {
   "cell_type": "markdown",
   "metadata": {},
   "source": [
    "#### Changing the name of the columns for profile, transcript and portfolio files"
   ]
  },
  {
   "cell_type": "code",
   "execution_count": 31,
   "metadata": {},
   "outputs": [],
   "source": [
    "new_name = {'id':'Customer_ID','became_member_on':'joining_date', 'income':'Customer_income'}\n",
    "profile_df= column_rename(profile, new_name)"
   ]
  },
  {
   "cell_type": "code",
   "execution_count": 32,
   "metadata": {},
   "outputs": [
    {
     "data": {
      "text/html": [
       "<div>\n",
       "<style scoped>\n",
       "    .dataframe tbody tr th:only-of-type {\n",
       "        vertical-align: middle;\n",
       "    }\n",
       "\n",
       "    .dataframe tbody tr th {\n",
       "        vertical-align: top;\n",
       "    }\n",
       "\n",
       "    .dataframe thead th {\n",
       "        text-align: right;\n",
       "    }\n",
       "</style>\n",
       "<table border=\"1\" class=\"dataframe\">\n",
       "  <thead>\n",
       "    <tr style=\"text-align: right;\">\n",
       "      <th></th>\n",
       "      <th>gender</th>\n",
       "      <th>age</th>\n",
       "      <th>Customer_ID</th>\n",
       "      <th>joining_date</th>\n",
       "      <th>Customer_income</th>\n",
       "    </tr>\n",
       "  </thead>\n",
       "  <tbody>\n",
       "    <tr>\n",
       "      <th>1</th>\n",
       "      <td>F</td>\n",
       "      <td>55</td>\n",
       "      <td>0610b486422d4921ae7d2bf64640c50b</td>\n",
       "      <td>20170715</td>\n",
       "      <td>112000.0</td>\n",
       "    </tr>\n",
       "  </tbody>\n",
       "</table>\n",
       "</div>"
      ],
      "text/plain": [
       "  gender  age                       Customer_ID  joining_date  Customer_income\n",
       "1      F   55  0610b486422d4921ae7d2bf64640c50b      20170715         112000.0"
      ]
     },
     "execution_count": 32,
     "metadata": {},
     "output_type": "execute_result"
    }
   ],
   "source": [
    "profile_df.head(1)"
   ]
  },
  {
   "cell_type": "code",
   "execution_count": 33,
   "metadata": {},
   "outputs": [],
   "source": [
    "new_name = {'id':'Offer_ID'}\n",
    "portfolio_df = column_rename(portfolio, new_name)"
   ]
  },
  {
   "cell_type": "code",
   "execution_count": 34,
   "metadata": {
    "scrolled": true
   },
   "outputs": [
    {
     "data": {
      "text/html": [
       "<div>\n",
       "<style scoped>\n",
       "    .dataframe tbody tr th:only-of-type {\n",
       "        vertical-align: middle;\n",
       "    }\n",
       "\n",
       "    .dataframe tbody tr th {\n",
       "        vertical-align: top;\n",
       "    }\n",
       "\n",
       "    .dataframe thead th {\n",
       "        text-align: right;\n",
       "    }\n",
       "</style>\n",
       "<table border=\"1\" class=\"dataframe\">\n",
       "  <thead>\n",
       "    <tr style=\"text-align: right;\">\n",
       "      <th></th>\n",
       "      <th>reward</th>\n",
       "      <th>channels</th>\n",
       "      <th>difficulty</th>\n",
       "      <th>duration</th>\n",
       "      <th>offer_type</th>\n",
       "      <th>Offer_ID</th>\n",
       "    </tr>\n",
       "  </thead>\n",
       "  <tbody>\n",
       "    <tr>\n",
       "      <th>0</th>\n",
       "      <td>10</td>\n",
       "      <td>[email, mobile, social]</td>\n",
       "      <td>10</td>\n",
       "      <td>7</td>\n",
       "      <td>bogo</td>\n",
       "      <td>ae264e3637204a6fb9bb56bc8210ddfd</td>\n",
       "    </tr>\n",
       "  </tbody>\n",
       "</table>\n",
       "</div>"
      ],
      "text/plain": [
       "   reward                 channels  difficulty  duration offer_type  \\\n",
       "0      10  [email, mobile, social]          10         7       bogo   \n",
       "\n",
       "                           Offer_ID  \n",
       "0  ae264e3637204a6fb9bb56bc8210ddfd  "
      ]
     },
     "execution_count": 34,
     "metadata": {},
     "output_type": "execute_result"
    }
   ],
   "source": [
    "portfolio_df.head(1)"
   ]
  },
  {
   "cell_type": "code",
   "execution_count": 35,
   "metadata": {},
   "outputs": [],
   "source": [
    "new_name = {'person' :'Customer_ID'}\n",
    "Transcript_df = column_rename(transcript, new_name)"
   ]
  },
  {
   "cell_type": "code",
   "execution_count": 36,
   "metadata": {},
   "outputs": [
    {
     "data": {
      "text/html": [
       "<div>\n",
       "<style scoped>\n",
       "    .dataframe tbody tr th:only-of-type {\n",
       "        vertical-align: middle;\n",
       "    }\n",
       "\n",
       "    .dataframe tbody tr th {\n",
       "        vertical-align: top;\n",
       "    }\n",
       "\n",
       "    .dataframe thead th {\n",
       "        text-align: right;\n",
       "    }\n",
       "</style>\n",
       "<table border=\"1\" class=\"dataframe\">\n",
       "  <thead>\n",
       "    <tr style=\"text-align: right;\">\n",
       "      <th></th>\n",
       "      <th>Customer_ID</th>\n",
       "      <th>event</th>\n",
       "      <th>value</th>\n",
       "      <th>time</th>\n",
       "    </tr>\n",
       "  </thead>\n",
       "  <tbody>\n",
       "    <tr>\n",
       "      <th>0</th>\n",
       "      <td>78afa995795e4d85b5d9ceeca43f5fef</td>\n",
       "      <td>offer received</td>\n",
       "      <td>{'offer id': '9b98b8c7a33c4b65b9aebfe6a799e6d9'}</td>\n",
       "      <td>0</td>\n",
       "    </tr>\n",
       "    <tr>\n",
       "      <th>1</th>\n",
       "      <td>a03223e636434f42ac4c3df47e8bac43</td>\n",
       "      <td>offer received</td>\n",
       "      <td>{'offer id': '0b1e1539f2cc45b7b9fa7c272da2e1d7'}</td>\n",
       "      <td>0</td>\n",
       "    </tr>\n",
       "    <tr>\n",
       "      <th>2</th>\n",
       "      <td>e2127556f4f64592b11af22de27a7932</td>\n",
       "      <td>offer received</td>\n",
       "      <td>{'offer id': '2906b810c7d4411798c6938adc9daaa5'}</td>\n",
       "      <td>0</td>\n",
       "    </tr>\n",
       "    <tr>\n",
       "      <th>3</th>\n",
       "      <td>8ec6ce2a7e7949b1bf142def7d0e0586</td>\n",
       "      <td>offer received</td>\n",
       "      <td>{'offer id': 'fafdcd668e3743c1bb461111dcafc2a4'}</td>\n",
       "      <td>0</td>\n",
       "    </tr>\n",
       "    <tr>\n",
       "      <th>4</th>\n",
       "      <td>68617ca6246f4fbc85e91a2a49552598</td>\n",
       "      <td>offer received</td>\n",
       "      <td>{'offer id': '4d5c57ea9a6940dd891ad53e9dbe8da0'}</td>\n",
       "      <td>0</td>\n",
       "    </tr>\n",
       "    <tr>\n",
       "      <th>...</th>\n",
       "      <td>...</td>\n",
       "      <td>...</td>\n",
       "      <td>...</td>\n",
       "      <td>...</td>\n",
       "    </tr>\n",
       "    <tr>\n",
       "      <th>306529</th>\n",
       "      <td>b3a1272bc9904337b331bf348c3e8c17</td>\n",
       "      <td>transaction</td>\n",
       "      <td>{'amount': 1.5899999999999999}</td>\n",
       "      <td>714</td>\n",
       "    </tr>\n",
       "    <tr>\n",
       "      <th>306530</th>\n",
       "      <td>68213b08d99a4ae1b0dcb72aebd9aa35</td>\n",
       "      <td>transaction</td>\n",
       "      <td>{'amount': 9.53}</td>\n",
       "      <td>714</td>\n",
       "    </tr>\n",
       "    <tr>\n",
       "      <th>306531</th>\n",
       "      <td>a00058cf10334a308c68e7631c529907</td>\n",
       "      <td>transaction</td>\n",
       "      <td>{'amount': 3.61}</td>\n",
       "      <td>714</td>\n",
       "    </tr>\n",
       "    <tr>\n",
       "      <th>306532</th>\n",
       "      <td>76ddbd6576844afe811f1a3c0fbb5bec</td>\n",
       "      <td>transaction</td>\n",
       "      <td>{'amount': 3.5300000000000002}</td>\n",
       "      <td>714</td>\n",
       "    </tr>\n",
       "    <tr>\n",
       "      <th>306533</th>\n",
       "      <td>c02b10e8752c4d8e9b73f918558531f7</td>\n",
       "      <td>transaction</td>\n",
       "      <td>{'amount': 4.05}</td>\n",
       "      <td>714</td>\n",
       "    </tr>\n",
       "  </tbody>\n",
       "</table>\n",
       "<p>306534 rows × 4 columns</p>\n",
       "</div>"
      ],
      "text/plain": [
       "                             Customer_ID           event  \\\n",
       "0       78afa995795e4d85b5d9ceeca43f5fef  offer received   \n",
       "1       a03223e636434f42ac4c3df47e8bac43  offer received   \n",
       "2       e2127556f4f64592b11af22de27a7932  offer received   \n",
       "3       8ec6ce2a7e7949b1bf142def7d0e0586  offer received   \n",
       "4       68617ca6246f4fbc85e91a2a49552598  offer received   \n",
       "...                                  ...             ...   \n",
       "306529  b3a1272bc9904337b331bf348c3e8c17     transaction   \n",
       "306530  68213b08d99a4ae1b0dcb72aebd9aa35     transaction   \n",
       "306531  a00058cf10334a308c68e7631c529907     transaction   \n",
       "306532  76ddbd6576844afe811f1a3c0fbb5bec     transaction   \n",
       "306533  c02b10e8752c4d8e9b73f918558531f7     transaction   \n",
       "\n",
       "                                                   value  time  \n",
       "0       {'offer id': '9b98b8c7a33c4b65b9aebfe6a799e6d9'}     0  \n",
       "1       {'offer id': '0b1e1539f2cc45b7b9fa7c272da2e1d7'}     0  \n",
       "2       {'offer id': '2906b810c7d4411798c6938adc9daaa5'}     0  \n",
       "3       {'offer id': 'fafdcd668e3743c1bb461111dcafc2a4'}     0  \n",
       "4       {'offer id': '4d5c57ea9a6940dd891ad53e9dbe8da0'}     0  \n",
       "...                                                  ...   ...  \n",
       "306529                    {'amount': 1.5899999999999999}   714  \n",
       "306530                                  {'amount': 9.53}   714  \n",
       "306531                                  {'amount': 3.61}   714  \n",
       "306532                    {'amount': 3.5300000000000002}   714  \n",
       "306533                                  {'amount': 4.05}   714  \n",
       "\n",
       "[306534 rows x 4 columns]"
      ]
     },
     "execution_count": 36,
     "metadata": {},
     "output_type": "execute_result"
    }
   ],
   "source": [
    "Transcript_df"
   ]
  },
  {
   "cell_type": "markdown",
   "metadata": {},
   "source": [
    "#### Categorizing the keys of value column into new columns and then dropping the value column"
   ]
  },
  {
   "cell_type": "code",
   "execution_count": 37,
   "metadata": {},
   "outputs": [],
   "source": [
    "Transcript_df['Offer_ID'] = Transcript_df['value'].apply(lambda x: x.get('offer_id'))\n",
    "Transcript_df['Offer ID'] = Transcript_df['value'].apply(lambda x: x.get('offer id'))\n",
    "Transcript_df['Profit'] = Transcript_df['value'].apply(lambda x: x.get('reward'))\n",
    "Transcript_df['Loss'] = Transcript_df['value'].apply(lambda x: x.get('amount'))\n"
   ]
  },
  {
   "cell_type": "code",
   "execution_count": 38,
   "metadata": {},
   "outputs": [
    {
     "data": {
      "text/html": [
       "<div>\n",
       "<style scoped>\n",
       "    .dataframe tbody tr th:only-of-type {\n",
       "        vertical-align: middle;\n",
       "    }\n",
       "\n",
       "    .dataframe tbody tr th {\n",
       "        vertical-align: top;\n",
       "    }\n",
       "\n",
       "    .dataframe thead th {\n",
       "        text-align: right;\n",
       "    }\n",
       "</style>\n",
       "<table border=\"1\" class=\"dataframe\">\n",
       "  <thead>\n",
       "    <tr style=\"text-align: right;\">\n",
       "      <th></th>\n",
       "      <th>Customer_ID</th>\n",
       "      <th>event</th>\n",
       "      <th>value</th>\n",
       "      <th>time</th>\n",
       "      <th>Offer_ID</th>\n",
       "      <th>Offer ID</th>\n",
       "      <th>Profit</th>\n",
       "      <th>Loss</th>\n",
       "    </tr>\n",
       "  </thead>\n",
       "  <tbody>\n",
       "    <tr>\n",
       "      <th>0</th>\n",
       "      <td>78afa995795e4d85b5d9ceeca43f5fef</td>\n",
       "      <td>offer received</td>\n",
       "      <td>{'offer id': '9b98b8c7a33c4b65b9aebfe6a799e6d9'}</td>\n",
       "      <td>0</td>\n",
       "      <td>None</td>\n",
       "      <td>9b98b8c7a33c4b65b9aebfe6a799e6d9</td>\n",
       "      <td>NaN</td>\n",
       "      <td>NaN</td>\n",
       "    </tr>\n",
       "  </tbody>\n",
       "</table>\n",
       "</div>"
      ],
      "text/plain": [
       "                        Customer_ID           event  \\\n",
       "0  78afa995795e4d85b5d9ceeca43f5fef  offer received   \n",
       "\n",
       "                                              value  time Offer_ID  \\\n",
       "0  {'offer id': '9b98b8c7a33c4b65b9aebfe6a799e6d9'}     0     None   \n",
       "\n",
       "                           Offer ID  Profit  Loss  \n",
       "0  9b98b8c7a33c4b65b9aebfe6a799e6d9     NaN   NaN  "
      ]
     },
     "execution_count": 38,
     "metadata": {},
     "output_type": "execute_result"
    }
   ],
   "source": [
    "Transcript_df.head(1)"
   ]
  },
  {
   "cell_type": "code",
   "execution_count": 39,
   "metadata": {},
   "outputs": [],
   "source": [
    "# Merging offer id and offer_id into offer_id column\n",
    "Transcript_df['Offer_ID'] = Transcript_df.apply(lambda x : x['Offer ID'] if x['Offer_ID'] == None else x['Offer_ID'], axis = 1)"
   ]
  },
  {
   "cell_type": "markdown",
   "metadata": {},
   "source": [
    "#### Dropping both offer ID and value columns"
   ]
  },
  {
   "cell_type": "code",
   "execution_count": 40,
   "metadata": {},
   "outputs": [],
   "source": [
    "Transcript_df.drop(['Offer ID','value'], axis = 1, inplace=True)\n",
    "Transcript_df.fillna(0, inplace= True)"
   ]
  },
  {
   "cell_type": "markdown",
   "metadata": {},
   "source": [
    "#### Categorizing Age column into 4 age groups"
   ]
  },
  {
   "cell_type": "code",
   "execution_count": 41,
   "metadata": {},
   "outputs": [],
   "source": [
    "def category(df):\n",
    "    \"\"\"\n",
    "    Parameters:\n",
    "    df: Input Dataframe \n",
    "    \n",
    "    Returns:\n",
    "    \n",
    "    df: Dataframe with categorized age groups\n",
    "    \n",
    "      \n",
    "    \"\"\"\n",
    "    df.loc[(df.age<20), 'Group'] = 'Teenager'\n",
    "    df.loc[(df.age>=20) & (df.age<40), 'Group'] = 'Young_Adult'\n",
    "    df.loc[(df.age>=40) & (df.age<60), 'Group'] = 'Mid_Aged_Adult'\n",
    "    df.loc[(df.age>=60) & (df.age<110), 'Group'] = 'Old_Aged_Adult'\n",
    "    \n",
    "   \n",
    "    \n",
    "    return df"
   ]
  },
  {
   "cell_type": "code",
   "execution_count": 42,
   "metadata": {},
   "outputs": [],
   "source": [
    "profile_df = category(profile_df)"
   ]
  },
  {
   "cell_type": "code",
   "execution_count": 43,
   "metadata": {},
   "outputs": [
    {
     "data": {
      "text/html": [
       "<div>\n",
       "<style scoped>\n",
       "    .dataframe tbody tr th:only-of-type {\n",
       "        vertical-align: middle;\n",
       "    }\n",
       "\n",
       "    .dataframe tbody tr th {\n",
       "        vertical-align: top;\n",
       "    }\n",
       "\n",
       "    .dataframe thead th {\n",
       "        text-align: right;\n",
       "    }\n",
       "</style>\n",
       "<table border=\"1\" class=\"dataframe\">\n",
       "  <thead>\n",
       "    <tr style=\"text-align: right;\">\n",
       "      <th></th>\n",
       "      <th>gender</th>\n",
       "      <th>age</th>\n",
       "      <th>Customer_ID</th>\n",
       "      <th>joining_date</th>\n",
       "      <th>Customer_income</th>\n",
       "      <th>Group</th>\n",
       "    </tr>\n",
       "  </thead>\n",
       "  <tbody>\n",
       "    <tr>\n",
       "      <th>1</th>\n",
       "      <td>F</td>\n",
       "      <td>55</td>\n",
       "      <td>0610b486422d4921ae7d2bf64640c50b</td>\n",
       "      <td>20170715</td>\n",
       "      <td>112000.0</td>\n",
       "      <td>Mid_Aged_Adult</td>\n",
       "    </tr>\n",
       "  </tbody>\n",
       "</table>\n",
       "</div>"
      ],
      "text/plain": [
       "  gender  age                       Customer_ID  joining_date  \\\n",
       "1      F   55  0610b486422d4921ae7d2bf64640c50b      20170715   \n",
       "\n",
       "   Customer_income           Group  \n",
       "1         112000.0  Mid_Aged_Adult  "
      ]
     },
     "execution_count": 43,
     "metadata": {},
     "output_type": "execute_result"
    }
   ],
   "source": [
    "profile_df.head(1)"
   ]
  },
  {
   "cell_type": "markdown",
   "metadata": {},
   "source": [
    "## EDA - Exploratory Data Analysis\n",
    "\n",
    "### In this section I'll do the following:\n",
    "    1- Merge the three dataframe together into one dataframe\n",
    "    2- Analysis the Dataframe\n",
    "    3- Clean and prepare the data\n",
    "    4- Build an ML model & train the data\n",
    "    \n",
    "    "
   ]
  },
  {
   "cell_type": "code",
   "execution_count": 44,
   "metadata": {},
   "outputs": [],
   "source": [
    "def merging(profile, portfolio, Transcript):\n",
    "    \"\"\"\n",
    "    Merging the three dataframes into one DF\n",
    "    \n",
    "    Parameters:\n",
    "    profile_df: the cleaned profile dataframe\n",
    "    portfolio_df: the cleaned portfolio dataframe\n",
    "    Transcript_df: the cleaned transcript dataframe\n",
    "    \n",
    "    Returns:\n",
    "    df: the dataframe combining all three Dataframes together\n",
    "    \"\"\"\n",
    "    \n",
    "    df = pd.merge(portfolio_df,Transcript_df, on= 'Offer_ID')\n",
    "    df = pd.merge(df, profile_df, on = 'Customer_ID')\n",
    "    \n",
    "    return df\n",
    "    \n",
    "    \n",
    "\n"
   ]
  },
  {
   "cell_type": "markdown",
   "metadata": {},
   "source": [
    "#### Merging the 3 files together"
   ]
  },
  {
   "cell_type": "code",
   "execution_count": 45,
   "metadata": {},
   "outputs": [],
   "source": [
    "df = merging(profile_df, portfolio_df, Transcript_df)"
   ]
  },
  {
   "cell_type": "markdown",
   "metadata": {},
   "source": [
    "#### Checking for null values"
   ]
  },
  {
   "cell_type": "code",
   "execution_count": 46,
   "metadata": {},
   "outputs": [
    {
     "data": {
      "text/plain": [
       "reward             0\n",
       "channels           0\n",
       "difficulty         0\n",
       "duration           0\n",
       "offer_type         0\n",
       "Offer_ID           0\n",
       "Customer_ID        0\n",
       "event              0\n",
       "time               0\n",
       "Profit             0\n",
       "Loss               0\n",
       "gender             0\n",
       "age                0\n",
       "joining_date       0\n",
       "Customer_income    0\n",
       "Group              0\n",
       "dtype: int64"
      ]
     },
     "execution_count": 46,
     "metadata": {},
     "output_type": "execute_result"
    }
   ],
   "source": [
    "df.isnull().sum()"
   ]
  },
  {
   "cell_type": "code",
   "execution_count": 47,
   "metadata": {
    "scrolled": false
   },
   "outputs": [
    {
     "data": {
      "text/html": [
       "<div>\n",
       "<style scoped>\n",
       "    .dataframe tbody tr th:only-of-type {\n",
       "        vertical-align: middle;\n",
       "    }\n",
       "\n",
       "    .dataframe tbody tr th {\n",
       "        vertical-align: top;\n",
       "    }\n",
       "\n",
       "    .dataframe thead th {\n",
       "        text-align: right;\n",
       "    }\n",
       "</style>\n",
       "<table border=\"1\" class=\"dataframe\">\n",
       "  <thead>\n",
       "    <tr style=\"text-align: right;\">\n",
       "      <th></th>\n",
       "      <th>reward</th>\n",
       "      <th>channels</th>\n",
       "      <th>difficulty</th>\n",
       "      <th>duration</th>\n",
       "      <th>offer_type</th>\n",
       "      <th>Offer_ID</th>\n",
       "      <th>Customer_ID</th>\n",
       "      <th>event</th>\n",
       "      <th>time</th>\n",
       "      <th>Profit</th>\n",
       "      <th>Loss</th>\n",
       "      <th>gender</th>\n",
       "      <th>age</th>\n",
       "      <th>joining_date</th>\n",
       "      <th>Customer_income</th>\n",
       "      <th>Group</th>\n",
       "    </tr>\n",
       "  </thead>\n",
       "  <tbody>\n",
       "    <tr>\n",
       "      <th>0</th>\n",
       "      <td>10</td>\n",
       "      <td>[email, mobile, social]</td>\n",
       "      <td>10</td>\n",
       "      <td>7</td>\n",
       "      <td>bogo</td>\n",
       "      <td>ae264e3637204a6fb9bb56bc8210ddfd</td>\n",
       "      <td>4b0da7e80e5945209a1fdddfe813dbe0</td>\n",
       "      <td>offer received</td>\n",
       "      <td>0</td>\n",
       "      <td>0.0</td>\n",
       "      <td>0.0</td>\n",
       "      <td>M</td>\n",
       "      <td>64</td>\n",
       "      <td>20170909</td>\n",
       "      <td>100000.0</td>\n",
       "      <td>Old_Aged_Adult</td>\n",
       "    </tr>\n",
       "  </tbody>\n",
       "</table>\n",
       "</div>"
      ],
      "text/plain": [
       "   reward                 channels  difficulty  duration offer_type  \\\n",
       "0      10  [email, mobile, social]          10         7       bogo   \n",
       "\n",
       "                           Offer_ID                       Customer_ID  \\\n",
       "0  ae264e3637204a6fb9bb56bc8210ddfd  4b0da7e80e5945209a1fdddfe813dbe0   \n",
       "\n",
       "            event  time  Profit  Loss gender  age  joining_date  \\\n",
       "0  offer received     0     0.0   0.0      M   64      20170909   \n",
       "\n",
       "   Customer_income           Group  \n",
       "0         100000.0  Old_Aged_Adult  "
      ]
     },
     "execution_count": 47,
     "metadata": {},
     "output_type": "execute_result"
    }
   ],
   "source": [
    "df.head(1)"
   ]
  },
  {
   "cell_type": "markdown",
   "metadata": {},
   "source": [
    "#### Changing the date formation of joining_date column "
   ]
  },
  {
   "cell_type": "code",
   "execution_count": 48,
   "metadata": {},
   "outputs": [],
   "source": [
    "df['joining_date'] = df['joining_date'].apply(lambda x: pd.to_datetime(str(x), format = '%Y%m%d'))"
   ]
  },
  {
   "cell_type": "markdown",
   "metadata": {},
   "source": [
    "### Plotting age group distribution of the customers"
   ]
  },
  {
   "cell_type": "code",
   "execution_count": 49,
   "metadata": {},
   "outputs": [
    {
     "data": {
      "image/png": "[encoded data removed]",
      "text/plain": [
       "<Figure size 432x288 with 1 Axes>"
      ]
     },
     "metadata": {
      "needs_background": "light"
     },
     "output_type": "display_data"
    }
   ],
   "source": [
    "df.Group.value_counts().plot.bar(title = 'Age group distribution of the customers')\n",
    "plt.legend;"
   ]
  },
  {
   "cell_type": "markdown",
   "metadata": {},
   "source": [
    "#### As we can observe from the above bar plot, The majority of the customers are above 40 and the lowest percentage of customers using the app are for young adults and teenagers, which is quite shocking."
   ]
  },
  {
   "cell_type": "markdown",
   "metadata": {},
   "source": [
    "### Plotting Age groups relative to their income"
   ]
  },
  {
   "cell_type": "code",
   "execution_count": 50,
   "metadata": {},
   "outputs": [
    {
     "data": {
      "text/plain": [
       "<AxesSubplot:xlabel='Group', ylabel='Customer_income'>"
      ]
     },
     "execution_count": 50,
     "metadata": {},
     "output_type": "execute_result"
    },
    {
     "data": {
      "image/png": "[encoded data removed]",
      "text/plain": [
       "<Figure size 432x288 with 1 Axes>"
      ]
     },
     "metadata": {
      "needs_background": "light"
     },
     "output_type": "display_data"
    }
   ],
   "source": [
    "sns.barplot(data = df, x= df['Group'], y= df['Customer_income'])"
   ]
  },
  {
   "cell_type": "code",
   "execution_count": 51,
   "metadata": {},
   "outputs": [
    {
     "data": {
      "text/plain": [
       "66414.11914922214"
      ]
     },
     "execution_count": 51,
     "metadata": {},
     "output_type": "execute_result"
    }
   ],
   "source": [
    "df.Customer_income.mean()"
   ]
  },
  {
   "cell_type": "markdown",
   "metadata": {},
   "source": [
    "### Plotting the number of used offers relative to customer's salary"
   ]
  },
  {
   "cell_type": "code",
   "execution_count": 52,
   "metadata": {},
   "outputs": [
    {
     "data": {
      "image/png": "[encoded data removed]",
      "text/plain": [
       "<Figure size 432x288 with 1 Axes>"
      ]
     },
     "metadata": {
      "needs_background": "light"
     },
     "output_type": "display_data"
    }
   ],
   "source": [
    "df.offer_type.value_counts().plot.bar(title = 'Count of offers used relative to customer salary')\n",
    "plt.legend;"
   ]
  },
  {
   "cell_type": "markdown",
   "metadata": {},
   "source": [
    "#### As seen from the above chart, 'BOGO' and ' 'Discount' are mostly used by customers"
   ]
  },
  {
   "cell_type": "markdown",
   "metadata": {},
   "source": [
    "### Plotting the Type of offer used relative to Age group"
   ]
  },
  {
   "cell_type": "code",
   "execution_count": 53,
   "metadata": {},
   "outputs": [
    {
     "data": {
      "image/png": "[encoded data removed]",
      "text/plain": [
       "<Figure size 432x288 with 1 Axes>"
      ]
     },
     "metadata": {
      "needs_background": "light"
     },
     "output_type": "display_data"
    }
   ],
   "source": [
    "df.groupby('Group')['offer_type'].value_counts().plot.barh(title = 'Count of used offers relative to age group')\n",
    "plt.legend;"
   ]
  },
  {
   "cell_type": "markdown",
   "metadata": {},
   "source": [
    "#### From the plot above we can conclude the for all the age groups, discount and bogo are mostly picked by them with informational being the least to be picked."
   ]
  },
  {
   "cell_type": "code",
   "execution_count": 54,
   "metadata": {},
   "outputs": [
    {
     "data": {
      "image/png": "[encoded data removed]",
      "text/plain": [
       "<Figure size 432x288 with 1 Axes>"
      ]
     },
     "metadata": {
      "needs_background": "light"
     },
     "output_type": "display_data"
    }
   ],
   "source": [
    "df.groupby('event')['offer_type'].value_counts().plot.barh(title = 'count of event relative to offer type')\n",
    "plt.legend;"
   ]
  },
  {
   "cell_type": "code",
   "execution_count": 55,
   "metadata": {},
   "outputs": [
    {
     "data": {
      "image/png": "[encoded data removed]",
      "text/plain": [
       "<Figure size 432x288 with 1 Axes>"
      ]
     },
     "metadata": {
      "needs_background": "light"
     },
     "output_type": "display_data"
    }
   ],
   "source": [
    "df.groupby('event')['Group'].value_counts().plot.barh('count of the event relative to age group')\n",
    "plt.legend;"
   ]
  },
  {
   "cell_type": "code",
   "execution_count": 56,
   "metadata": {},
   "outputs": [
    {
     "data": {
      "image/png": "[encoded data removed]",
      "text/plain": [
       "<Figure size 432x288 with 1 Axes>"
      ]
     },
     "metadata": {
      "needs_background": "light"
     },
     "output_type": "display_data"
    }
   ],
   "source": [
    "df.groupby('offer_type')['Group'].value_counts().plot.barh('count of the event relative to age group')\n",
    "plt.legend;\n"
   ]
  },
  {
   "cell_type": "markdown",
   "metadata": {},
   "source": [
    "#### As we can see from the above two plots, offers are mostly viewed and picked by both mid-aged and old-aged customers, with the least percentage to the teenagers. Also, the most picked offer is the 'discount' offer."
   ]
  },
  {
   "cell_type": "code",
   "execution_count": 57,
   "metadata": {},
   "outputs": [
    {
     "data": {
      "image/png": "[encoded data removed]",
      "text/plain": [
       "<Figure size 432x288 with 1 Axes>"
      ]
     },
     "metadata": {},
     "output_type": "display_data"
    }
   ],
   "source": [
    "df.gender.value_counts().plot(kind = 'pie', autopct = '%1.1f%%', startangle = 90);"
   ]
  },
  {
   "cell_type": "markdown",
   "metadata": {},
   "source": [
    "#### The majority of the customers are Male with around 56% while female customers are around 43%"
   ]
  },
  {
   "cell_type": "code",
   "execution_count": 58,
   "metadata": {},
   "outputs": [
    {
     "data": {
      "text/plain": [
       "<AxesSubplot:ylabel='gender,event'>"
      ]
     },
     "execution_count": 58,
     "metadata": {},
     "output_type": "execute_result"
    },
    {
     "data": {
      "image/png": "[encoded data removed]",
      "text/plain": [
       "<Figure size 432x288 with 1 Axes>"
      ]
     },
     "metadata": {
      "needs_background": "light"
     },
     "output_type": "display_data"
    }
   ],
   "source": [
    "df.groupby('gender')['event'].value_counts().plot.barh()"
   ]
  },
  {
   "cell_type": "markdown",
   "metadata": {},
   "source": [
    "#### computing the percentage of both Male and female who received & completed the offer"
   ]
  },
  {
   "cell_type": "code",
   "execution_count": 59,
   "metadata": {},
   "outputs": [
    {
     "name": "stdout",
     "output_type": "stream",
     "text": [
      "Percentage of Male customers completing the received offer 20 %\n",
      "Percentage of Female customers completed the received offer 24 %\n"
     ]
    }
   ],
   "source": [
    "completed_male = df.query('gender == \"M\" & event == \"offer completed\"')['event'].count()\n",
    "total_male = df.query('gender == \"M\"')['event'].count()\n",
    "pct_male = completed_male/total_male * 100\n",
    "print(\"Percentage of Male customers completing the received offer\", round(pct_male),\"%\")\n",
    "\n",
    "completed_female = df.query('gender == \"F\" & event == \"offer completed\" ')['event'].count()\n",
    "total_female = df.query('gender == \"F\"')['event'].count()\n",
    "pct_female = completed_female/total_female * 100\n",
    "print(\"Percentage of Female customers completed the received offer\", round(pct_female),\"%\")"
   ]
  },
  {
   "cell_type": "markdown",
   "metadata": {},
   "source": [
    "#### from the above two charts, we can see that Men customers are higher in numbers than female customer. But, the percentage of women completing the offer relative to their total count is higher than men who completed the offer relative to their total count."
   ]
  },
  {
   "cell_type": "code",
   "execution_count": 60,
   "metadata": {},
   "outputs": [],
   "source": [
    "gender = df[df['gender'] != 'O']"
   ]
  },
  {
   "cell_type": "code",
   "execution_count": 61,
   "metadata": {},
   "outputs": [
    {
     "data": {
      "image/png": "[encoded data removed]",
      "text/plain": [
       "<Figure size 432x288 with 1 Axes>"
      ]
     },
     "metadata": {
      "needs_background": "light"
     },
     "output_type": "display_data"
    }
   ],
   "source": [
    "x= [1,2]\n",
    "y= [pct_male,pct_female]\n",
    "colors = ['brown', 'khaki']\n",
    "labels = [\"Male\", \"Female\"]\n",
    "plt.bar(x,y, tick_label= labels, color = colors)\n",
    "plt.xlabel(\"Gender Type\")\n",
    "plt.ylabel(\"Percentage\");\n"
   ]
  },
  {
   "cell_type": "code",
   "execution_count": 62,
   "metadata": {},
   "outputs": [
    {
     "data": {
      "image/png": "[encoded data removed]",
      "text/plain": [
       "<Figure size 432x288 with 1 Axes>"
      ]
     },
     "metadata": {
      "needs_background": "light"
     },
     "output_type": "display_data"
    }
   ],
   "source": [
    "df.groupby('gender')['Group'].value_counts().plot.bar(title = 'Age distribution relative to gender type');"
   ]
  },
  {
   "cell_type": "markdown",
   "metadata": {},
   "source": [
    "## Building an ML model to predict customer behavior to given offer types\n",
    "### in this section we will do the following:\n",
    "    1- Prepare the data\n",
    "    2- Split & Train the data\n",
    "    3- Train & test the data\n",
    "    4- Draw conclusions"
   ]
  },
  {
   "cell_type": "code",
   "execution_count": 63,
   "metadata": {},
   "outputs": [
    {
     "data": {
      "text/html": [
       "<div>\n",
       "<style scoped>\n",
       "    .dataframe tbody tr th:only-of-type {\n",
       "        vertical-align: middle;\n",
       "    }\n",
       "\n",
       "    .dataframe tbody tr th {\n",
       "        vertical-align: top;\n",
       "    }\n",
       "\n",
       "    .dataframe thead th {\n",
       "        text-align: right;\n",
       "    }\n",
       "</style>\n",
       "<table border=\"1\" class=\"dataframe\">\n",
       "  <thead>\n",
       "    <tr style=\"text-align: right;\">\n",
       "      <th></th>\n",
       "      <th>reward</th>\n",
       "      <th>channels</th>\n",
       "      <th>difficulty</th>\n",
       "      <th>duration</th>\n",
       "      <th>offer_type</th>\n",
       "      <th>Offer_ID</th>\n",
       "      <th>Customer_ID</th>\n",
       "      <th>event</th>\n",
       "      <th>time</th>\n",
       "      <th>Profit</th>\n",
       "      <th>Loss</th>\n",
       "      <th>gender</th>\n",
       "      <th>age</th>\n",
       "      <th>joining_date</th>\n",
       "      <th>Customer_income</th>\n",
       "      <th>Group</th>\n",
       "    </tr>\n",
       "  </thead>\n",
       "  <tbody>\n",
       "    <tr>\n",
       "      <th>0</th>\n",
       "      <td>10</td>\n",
       "      <td>[email, mobile, social]</td>\n",
       "      <td>10</td>\n",
       "      <td>7</td>\n",
       "      <td>bogo</td>\n",
       "      <td>ae264e3637204a6fb9bb56bc8210ddfd</td>\n",
       "      <td>4b0da7e80e5945209a1fdddfe813dbe0</td>\n",
       "      <td>offer received</td>\n",
       "      <td>0</td>\n",
       "      <td>0.0</td>\n",
       "      <td>0.0</td>\n",
       "      <td>M</td>\n",
       "      <td>64</td>\n",
       "      <td>2017-09-09</td>\n",
       "      <td>100000.0</td>\n",
       "      <td>Old_Aged_Adult</td>\n",
       "    </tr>\n",
       "    <tr>\n",
       "      <th>1</th>\n",
       "      <td>10</td>\n",
       "      <td>[email, mobile, social]</td>\n",
       "      <td>10</td>\n",
       "      <td>7</td>\n",
       "      <td>bogo</td>\n",
       "      <td>ae264e3637204a6fb9bb56bc8210ddfd</td>\n",
       "      <td>4b0da7e80e5945209a1fdddfe813dbe0</td>\n",
       "      <td>offer viewed</td>\n",
       "      <td>102</td>\n",
       "      <td>0.0</td>\n",
       "      <td>0.0</td>\n",
       "      <td>M</td>\n",
       "      <td>64</td>\n",
       "      <td>2017-09-09</td>\n",
       "      <td>100000.0</td>\n",
       "      <td>Old_Aged_Adult</td>\n",
       "    </tr>\n",
       "    <tr>\n",
       "      <th>2</th>\n",
       "      <td>10</td>\n",
       "      <td>[email, mobile, social]</td>\n",
       "      <td>10</td>\n",
       "      <td>7</td>\n",
       "      <td>bogo</td>\n",
       "      <td>ae264e3637204a6fb9bb56bc8210ddfd</td>\n",
       "      <td>4b0da7e80e5945209a1fdddfe813dbe0</td>\n",
       "      <td>offer received</td>\n",
       "      <td>504</td>\n",
       "      <td>0.0</td>\n",
       "      <td>0.0</td>\n",
       "      <td>M</td>\n",
       "      <td>64</td>\n",
       "      <td>2017-09-09</td>\n",
       "      <td>100000.0</td>\n",
       "      <td>Old_Aged_Adult</td>\n",
       "    </tr>\n",
       "    <tr>\n",
       "      <th>3</th>\n",
       "      <td>10</td>\n",
       "      <td>[email, mobile, social]</td>\n",
       "      <td>10</td>\n",
       "      <td>7</td>\n",
       "      <td>bogo</td>\n",
       "      <td>ae264e3637204a6fb9bb56bc8210ddfd</td>\n",
       "      <td>4b0da7e80e5945209a1fdddfe813dbe0</td>\n",
       "      <td>offer viewed</td>\n",
       "      <td>510</td>\n",
       "      <td>0.0</td>\n",
       "      <td>0.0</td>\n",
       "      <td>M</td>\n",
       "      <td>64</td>\n",
       "      <td>2017-09-09</td>\n",
       "      <td>100000.0</td>\n",
       "      <td>Old_Aged_Adult</td>\n",
       "    </tr>\n",
       "    <tr>\n",
       "      <th>4</th>\n",
       "      <td>10</td>\n",
       "      <td>[email, mobile, social]</td>\n",
       "      <td>10</td>\n",
       "      <td>7</td>\n",
       "      <td>bogo</td>\n",
       "      <td>ae264e3637204a6fb9bb56bc8210ddfd</td>\n",
       "      <td>4b0da7e80e5945209a1fdddfe813dbe0</td>\n",
       "      <td>offer completed</td>\n",
       "      <td>510</td>\n",
       "      <td>10.0</td>\n",
       "      <td>0.0</td>\n",
       "      <td>M</td>\n",
       "      <td>64</td>\n",
       "      <td>2017-09-09</td>\n",
       "      <td>100000.0</td>\n",
       "      <td>Old_Aged_Adult</td>\n",
       "    </tr>\n",
       "  </tbody>\n",
       "</table>\n",
       "</div>"
      ],
      "text/plain": [
       "   reward                 channels  difficulty  duration offer_type  \\\n",
       "0      10  [email, mobile, social]          10         7       bogo   \n",
       "1      10  [email, mobile, social]          10         7       bogo   \n",
       "2      10  [email, mobile, social]          10         7       bogo   \n",
       "3      10  [email, mobile, social]          10         7       bogo   \n",
       "4      10  [email, mobile, social]          10         7       bogo   \n",
       "\n",
       "                           Offer_ID                       Customer_ID  \\\n",
       "0  ae264e3637204a6fb9bb56bc8210ddfd  4b0da7e80e5945209a1fdddfe813dbe0   \n",
       "1  ae264e3637204a6fb9bb56bc8210ddfd  4b0da7e80e5945209a1fdddfe813dbe0   \n",
       "2  ae264e3637204a6fb9bb56bc8210ddfd  4b0da7e80e5945209a1fdddfe813dbe0   \n",
       "3  ae264e3637204a6fb9bb56bc8210ddfd  4b0da7e80e5945209a1fdddfe813dbe0   \n",
       "4  ae264e3637204a6fb9bb56bc8210ddfd  4b0da7e80e5945209a1fdddfe813dbe0   \n",
       "\n",
       "             event  time  Profit  Loss gender  age joining_date  \\\n",
       "0   offer received     0     0.0   0.0      M   64   2017-09-09   \n",
       "1     offer viewed   102     0.0   0.0      M   64   2017-09-09   \n",
       "2   offer received   504     0.0   0.0      M   64   2017-09-09   \n",
       "3     offer viewed   510     0.0   0.0      M   64   2017-09-09   \n",
       "4  offer completed   510    10.0   0.0      M   64   2017-09-09   \n",
       "\n",
       "   Customer_income           Group  \n",
       "0         100000.0  Old_Aged_Adult  \n",
       "1         100000.0  Old_Aged_Adult  \n",
       "2         100000.0  Old_Aged_Adult  \n",
       "3         100000.0  Old_Aged_Adult  \n",
       "4         100000.0  Old_Aged_Adult  "
      ]
     },
     "execution_count": 63,
     "metadata": {},
     "output_type": "execute_result"
    }
   ],
   "source": [
    "df.head()"
   ]
  },
  {
   "cell_type": "markdown",
   "metadata": {},
   "source": [
    "### We will change the following:\n",
    "#### 1- change offer types into numerical categorization to be applicable in the normalization process\n",
    "#### 2- remove joining date\n",
    "#### 3- change Offer_ID and Customer_ID into numberical categorization to be applicabale in the normalization process\n",
    "#### 4- Change the group column into numerical categorization to be applicable in the normalization process\n",
    "#### 5- Scale and normalize the data"
   ]
  },
  {
   "cell_type": "code",
   "execution_count": 64,
   "metadata": {},
   "outputs": [],
   "source": [
    "def prepare(df):\n",
    "    \"\"\"\n",
    "    Prepare the dataframe to be fed into the model\n",
    "    \n",
    "    Parameters:\n",
    "    df: Merged dataframe\n",
    "    \n",
    "    Return:\n",
    "    \n",
    "    df: prepared dataframe with the above mentioned adjusments\n",
    "    \"\"\"\n",
    "    #Categorize offer type, gender and age groups\n",
    "    variables = ['offer_type','Group']\n",
    "    df = pd.get_dummies(df, columns = variables)\n",
    "    #joining the channels column to the above dummy and dropping the channels column\n",
    "    df = df.drop('channels', 1).join(df.channels.str.join('|').str.get_dummies())\n",
    "    \n",
    "    #Preparing the Offer_ID column\n",
    "    prep_offer_ID = df['Offer_ID'].astype('category').cat.categories.tolist()\n",
    "    preped_offer = {'Offer_ID' : {k: v for k,v in zip(prep_offer_ID,list(range(1,len(prep_offer_ID)+1)))}}\n",
    "    df.replace({'Offer_ID':'preped_offer'}, inplace = True)\n",
    "    #Prepare the customer_ID column\n",
    "    prep_customer_ID = df['Customer_ID'].astype('category').cat.categories.tolist()\n",
    "    preped_customer = {'Customer_ID' : {k: v for k,v in zip(prep_customer_ID,list(range(1,len(prep_customer_ID)+1)))}}\n",
    "    df.replace({'Customer_ID':'preped_customer'}, inplace = True)\n",
    "    #Splitting the joining date into monthly and yearly basis to be int datatype and removing the joining date column\n",
    "    df['Monthly_date'] = df['joining_date'].apply(lambda x: x.day)\n",
    "    df['Yearly_date'] = df['joining_date'].apply(lambda x: x.year)\n",
    "    df.drop(['joining_date'], axis = 1, inplace = True)\n",
    "    #Normalizing the event column:\n",
    "    df['event'] = df['event'].map({'offer received':1,'offer viewed':2,'offer completed':3})\n",
    "    #Normalizing the gender column\n",
    "    df['gender'] = df['gender'].map({'M':1, 'F':2, 'O': 3})\n",
    "    #Creating a scaler to normalize the data (MinMaxScaler with min = 0 and max = 1)\n",
    "    scaler = MinMaxScaler()\n",
    "    data = ['duration','Customer_income','reward','time','Loss','Profit','difficulty']\n",
    "    df[data] = scaler.fit_transform(df[data])\n",
    "    \n",
    "    return df\n",
    "    \n",
    "    "
   ]
  },
  {
   "cell_type": "code",
   "execution_count": 65,
   "metadata": {},
   "outputs": [],
   "source": [
    "preped_data = prepare(df)"
   ]
  },
  {
   "cell_type": "code",
   "execution_count": 66,
   "metadata": {},
   "outputs": [
    {
     "name": "stdout",
     "output_type": "stream",
     "text": [
      "<class 'pandas.core.frame.DataFrame'>\n",
      "Int64Index: 148805 entries, 0 to 148804\n",
      "Data columns (total 25 columns):\n",
      " #   Column                    Non-Null Count   Dtype  \n",
      "---  ------                    --------------   -----  \n",
      " 0   reward                    148805 non-null  float64\n",
      " 1   difficulty                148805 non-null  float64\n",
      " 2   duration                  148805 non-null  float64\n",
      " 3   Offer_ID                  148805 non-null  object \n",
      " 4   Customer_ID               148805 non-null  object \n",
      " 5   event                     148805 non-null  int64  \n",
      " 6   time                      148805 non-null  float64\n",
      " 7   Profit                    148805 non-null  float64\n",
      " 8   Loss                      148805 non-null  float64\n",
      " 9   gender                    148805 non-null  int64  \n",
      " 10  age                       148805 non-null  int64  \n",
      " 11  Customer_income           148805 non-null  float64\n",
      " 12  offer_type_bogo           148805 non-null  uint8  \n",
      " 13  offer_type_discount       148805 non-null  uint8  \n",
      " 14  offer_type_informational  148805 non-null  uint8  \n",
      " 15  Group_Mid_Aged_Adult      148805 non-null  uint8  \n",
      " 16  Group_Old_Aged_Adult      148805 non-null  uint8  \n",
      " 17  Group_Teenager            148805 non-null  uint8  \n",
      " 18  Group_Young_Adult         148805 non-null  uint8  \n",
      " 19  email                     148805 non-null  int64  \n",
      " 20  mobile                    148805 non-null  int64  \n",
      " 21  social                    148805 non-null  int64  \n",
      " 22  web                       148805 non-null  int64  \n",
      " 23  Monthly_date              148805 non-null  int64  \n",
      " 24  Yearly_date               148805 non-null  int64  \n",
      "dtypes: float64(7), int64(9), object(2), uint8(7)\n",
      "memory usage: 27.6+ MB\n"
     ]
    }
   ],
   "source": [
    "preped_data.info()"
   ]
  },
  {
   "cell_type": "code",
   "execution_count": 67,
   "metadata": {},
   "outputs": [
    {
     "data": {
      "text/plain": [
       "(148805, 25)"
      ]
     },
     "execution_count": 67,
     "metadata": {},
     "output_type": "execute_result"
    }
   ],
   "source": [
    "preped_data.shape"
   ]
  },
  {
   "cell_type": "code",
   "execution_count": 68,
   "metadata": {},
   "outputs": [
    {
     "data": {
      "text/html": [
       "<div>\n",
       "<style scoped>\n",
       "    .dataframe tbody tr th:only-of-type {\n",
       "        vertical-align: middle;\n",
       "    }\n",
       "\n",
       "    .dataframe tbody tr th {\n",
       "        vertical-align: top;\n",
       "    }\n",
       "\n",
       "    .dataframe thead th {\n",
       "        text-align: right;\n",
       "    }\n",
       "</style>\n",
       "<table border=\"1\" class=\"dataframe\">\n",
       "  <thead>\n",
       "    <tr style=\"text-align: right;\">\n",
       "      <th></th>\n",
       "      <th>reward</th>\n",
       "      <th>difficulty</th>\n",
       "      <th>duration</th>\n",
       "      <th>event</th>\n",
       "      <th>time</th>\n",
       "      <th>Profit</th>\n",
       "      <th>Loss</th>\n",
       "      <th>gender</th>\n",
       "      <th>age</th>\n",
       "      <th>Customer_income</th>\n",
       "      <th>...</th>\n",
       "      <th>Group_Mid_Aged_Adult</th>\n",
       "      <th>Group_Old_Aged_Adult</th>\n",
       "      <th>Group_Teenager</th>\n",
       "      <th>Group_Young_Adult</th>\n",
       "      <th>email</th>\n",
       "      <th>mobile</th>\n",
       "      <th>social</th>\n",
       "      <th>web</th>\n",
       "      <th>Monthly_date</th>\n",
       "      <th>Yearly_date</th>\n",
       "    </tr>\n",
       "  </thead>\n",
       "  <tbody>\n",
       "    <tr>\n",
       "      <th>count</th>\n",
       "      <td>148805.000000</td>\n",
       "      <td>148805.000000</td>\n",
       "      <td>148805.000000</td>\n",
       "      <td>148805.000000</td>\n",
       "      <td>148805.000000</td>\n",
       "      <td>148805.000000</td>\n",
       "      <td>148805.0</td>\n",
       "      <td>148805.000000</td>\n",
       "      <td>148805.000000</td>\n",
       "      <td>148805.000000</td>\n",
       "      <td>...</td>\n",
       "      <td>148805.000000</td>\n",
       "      <td>148805.000000</td>\n",
       "      <td>148805.000000</td>\n",
       "      <td>148805.000000</td>\n",
       "      <td>148805.0</td>\n",
       "      <td>148805.000000</td>\n",
       "      <td>148805.000000</td>\n",
       "      <td>148805.000000</td>\n",
       "      <td>148805.000000</td>\n",
       "      <td>148805.000000</td>\n",
       "    </tr>\n",
       "    <tr>\n",
       "      <th>mean</th>\n",
       "      <td>0.444244</td>\n",
       "      <td>0.394528</td>\n",
       "      <td>0.517887</td>\n",
       "      <td>1.771130</td>\n",
       "      <td>0.496597</td>\n",
       "      <td>0.107887</td>\n",
       "      <td>0.0</td>\n",
       "      <td>1.457639</td>\n",
       "      <td>54.779282</td>\n",
       "      <td>0.404601</td>\n",
       "      <td>...</td>\n",
       "      <td>0.399395</td>\n",
       "      <td>0.401741</td>\n",
       "      <td>0.012721</td>\n",
       "      <td>0.186143</td>\n",
       "      <td>1.0</td>\n",
       "      <td>0.917160</td>\n",
       "      <td>0.658311</td>\n",
       "      <td>0.806747</td>\n",
       "      <td>15.892436</td>\n",
       "      <td>2016.576365</td>\n",
       "    </tr>\n",
       "    <tr>\n",
       "      <th>std</th>\n",
       "      <td>0.337236</td>\n",
       "      <td>0.252067</td>\n",
       "      <td>0.304719</td>\n",
       "      <td>0.782658</td>\n",
       "      <td>0.277747</td>\n",
       "      <td>0.245254</td>\n",
       "      <td>0.0</td>\n",
       "      <td>0.526917</td>\n",
       "      <td>17.193533</td>\n",
       "      <td>0.238855</td>\n",
       "      <td>...</td>\n",
       "      <td>0.489776</td>\n",
       "      <td>0.490252</td>\n",
       "      <td>0.112070</td>\n",
       "      <td>0.389223</td>\n",
       "      <td>0.0</td>\n",
       "      <td>0.275641</td>\n",
       "      <td>0.474277</td>\n",
       "      <td>0.394851</td>\n",
       "      <td>8.733781</td>\n",
       "      <td>1.186534</td>\n",
       "    </tr>\n",
       "    <tr>\n",
       "      <th>min</th>\n",
       "      <td>0.000000</td>\n",
       "      <td>0.000000</td>\n",
       "      <td>0.000000</td>\n",
       "      <td>1.000000</td>\n",
       "      <td>0.000000</td>\n",
       "      <td>0.000000</td>\n",
       "      <td>0.0</td>\n",
       "      <td>1.000000</td>\n",
       "      <td>18.000000</td>\n",
       "      <td>0.000000</td>\n",
       "      <td>...</td>\n",
       "      <td>0.000000</td>\n",
       "      <td>0.000000</td>\n",
       "      <td>0.000000</td>\n",
       "      <td>0.000000</td>\n",
       "      <td>1.0</td>\n",
       "      <td>0.000000</td>\n",
       "      <td>0.000000</td>\n",
       "      <td>0.000000</td>\n",
       "      <td>1.000000</td>\n",
       "      <td>2013.000000</td>\n",
       "    </tr>\n",
       "    <tr>\n",
       "      <th>25%</th>\n",
       "      <td>0.200000</td>\n",
       "      <td>0.250000</td>\n",
       "      <td>0.285714</td>\n",
       "      <td>1.000000</td>\n",
       "      <td>0.235294</td>\n",
       "      <td>0.000000</td>\n",
       "      <td>0.0</td>\n",
       "      <td>1.000000</td>\n",
       "      <td>43.000000</td>\n",
       "      <td>0.233333</td>\n",
       "      <td>...</td>\n",
       "      <td>0.000000</td>\n",
       "      <td>0.000000</td>\n",
       "      <td>0.000000</td>\n",
       "      <td>0.000000</td>\n",
       "      <td>1.0</td>\n",
       "      <td>1.000000</td>\n",
       "      <td>0.000000</td>\n",
       "      <td>1.000000</td>\n",
       "      <td>8.000000</td>\n",
       "      <td>2016.000000</td>\n",
       "    </tr>\n",
       "    <tr>\n",
       "      <th>50%</th>\n",
       "      <td>0.500000</td>\n",
       "      <td>0.500000</td>\n",
       "      <td>0.571429</td>\n",
       "      <td>2.000000</td>\n",
       "      <td>0.571429</td>\n",
       "      <td>0.000000</td>\n",
       "      <td>0.0</td>\n",
       "      <td>1.000000</td>\n",
       "      <td>56.000000</td>\n",
       "      <td>0.388889</td>\n",
       "      <td>...</td>\n",
       "      <td>0.000000</td>\n",
       "      <td>0.000000</td>\n",
       "      <td>0.000000</td>\n",
       "      <td>0.000000</td>\n",
       "      <td>1.0</td>\n",
       "      <td>1.000000</td>\n",
       "      <td>1.000000</td>\n",
       "      <td>1.000000</td>\n",
       "      <td>16.000000</td>\n",
       "      <td>2017.000000</td>\n",
       "    </tr>\n",
       "    <tr>\n",
       "      <th>75%</th>\n",
       "      <td>0.500000</td>\n",
       "      <td>0.500000</td>\n",
       "      <td>0.571429</td>\n",
       "      <td>2.000000</td>\n",
       "      <td>0.714286</td>\n",
       "      <td>0.000000</td>\n",
       "      <td>0.0</td>\n",
       "      <td>2.000000</td>\n",
       "      <td>67.000000</td>\n",
       "      <td>0.566667</td>\n",
       "      <td>...</td>\n",
       "      <td>1.000000</td>\n",
       "      <td>1.000000</td>\n",
       "      <td>0.000000</td>\n",
       "      <td>0.000000</td>\n",
       "      <td>1.0</td>\n",
       "      <td>1.000000</td>\n",
       "      <td>1.000000</td>\n",
       "      <td>1.000000</td>\n",
       "      <td>23.000000</td>\n",
       "      <td>2017.000000</td>\n",
       "    </tr>\n",
       "    <tr>\n",
       "      <th>max</th>\n",
       "      <td>1.000000</td>\n",
       "      <td>1.000000</td>\n",
       "      <td>1.000000</td>\n",
       "      <td>3.000000</td>\n",
       "      <td>1.000000</td>\n",
       "      <td>1.000000</td>\n",
       "      <td>0.0</td>\n",
       "      <td>3.000000</td>\n",
       "      <td>101.000000</td>\n",
       "      <td>1.000000</td>\n",
       "      <td>...</td>\n",
       "      <td>1.000000</td>\n",
       "      <td>1.000000</td>\n",
       "      <td>1.000000</td>\n",
       "      <td>1.000000</td>\n",
       "      <td>1.0</td>\n",
       "      <td>1.000000</td>\n",
       "      <td>1.000000</td>\n",
       "      <td>1.000000</td>\n",
       "      <td>31.000000</td>\n",
       "      <td>2018.000000</td>\n",
       "    </tr>\n",
       "  </tbody>\n",
       "</table>\n",
       "<p>8 rows × 23 columns</p>\n",
       "</div>"
      ],
      "text/plain": [
       "              reward     difficulty       duration          event  \\\n",
       "count  148805.000000  148805.000000  148805.000000  148805.000000   \n",
       "mean        0.444244       0.394528       0.517887       1.771130   \n",
       "std         0.337236       0.252067       0.304719       0.782658   \n",
       "min         0.000000       0.000000       0.000000       1.000000   \n",
       "25%         0.200000       0.250000       0.285714       1.000000   \n",
       "50%         0.500000       0.500000       0.571429       2.000000   \n",
       "75%         0.500000       0.500000       0.571429       2.000000   \n",
       "max         1.000000       1.000000       1.000000       3.000000   \n",
       "\n",
       "                time         Profit      Loss         gender            age  \\\n",
       "count  148805.000000  148805.000000  148805.0  148805.000000  148805.000000   \n",
       "mean        0.496597       0.107887       0.0       1.457639      54.779282   \n",
       "std         0.277747       0.245254       0.0       0.526917      17.193533   \n",
       "min         0.000000       0.000000       0.0       1.000000      18.000000   \n",
       "25%         0.235294       0.000000       0.0       1.000000      43.000000   \n",
       "50%         0.571429       0.000000       0.0       1.000000      56.000000   \n",
       "75%         0.714286       0.000000       0.0       2.000000      67.000000   \n",
       "max         1.000000       1.000000       0.0       3.000000     101.000000   \n",
       "\n",
       "       Customer_income  ...  Group_Mid_Aged_Adult  Group_Old_Aged_Adult  \\\n",
       "count    148805.000000  ...         148805.000000         148805.000000   \n",
       "mean          0.404601  ...              0.399395              0.401741   \n",
       "std           0.238855  ...              0.489776              0.490252   \n",
       "min           0.000000  ...              0.000000              0.000000   \n",
       "25%           0.233333  ...              0.000000              0.000000   \n",
       "50%           0.388889  ...              0.000000              0.000000   \n",
       "75%           0.566667  ...              1.000000              1.000000   \n",
       "max           1.000000  ...              1.000000              1.000000   \n",
       "\n",
       "       Group_Teenager  Group_Young_Adult     email         mobile  \\\n",
       "count   148805.000000      148805.000000  148805.0  148805.000000   \n",
       "mean         0.012721           0.186143       1.0       0.917160   \n",
       "std          0.112070           0.389223       0.0       0.275641   \n",
       "min          0.000000           0.000000       1.0       0.000000   \n",
       "25%          0.000000           0.000000       1.0       1.000000   \n",
       "50%          0.000000           0.000000       1.0       1.000000   \n",
       "75%          0.000000           0.000000       1.0       1.000000   \n",
       "max          1.000000           1.000000       1.0       1.000000   \n",
       "\n",
       "              social            web   Monthly_date    Yearly_date  \n",
       "count  148805.000000  148805.000000  148805.000000  148805.000000  \n",
       "mean        0.658311       0.806747      15.892436    2016.576365  \n",
       "std         0.474277       0.394851       8.733781       1.186534  \n",
       "min         0.000000       0.000000       1.000000    2013.000000  \n",
       "25%         0.000000       1.000000       8.000000    2016.000000  \n",
       "50%         1.000000       1.000000      16.000000    2017.000000  \n",
       "75%         1.000000       1.000000      23.000000    2017.000000  \n",
       "max         1.000000       1.000000      31.000000    2018.000000  \n",
       "\n",
       "[8 rows x 23 columns]"
      ]
     },
     "execution_count": 68,
     "metadata": {},
     "output_type": "execute_result"
    }
   ],
   "source": [
    "preped_data.describe()"
   ]
  },
  {
   "cell_type": "code",
   "execution_count": 69,
   "metadata": {},
   "outputs": [],
   "source": [
    "#### converting the offer_ID column from string to an integer to be fed to the model"
   ]
  },
  {
   "cell_type": "code",
   "execution_count": 70,
   "metadata": {},
   "outputs": [],
   "source": [
    "prep_offer_id = preped_data['Offer_ID'].astype('category').cat.categories.tolist()\n",
    "updated_offer_id = {'Offer_ID' : {k: v for k,v in zip(prep_offer_id,list(range(1,len(prep_offer_id)+1)))}}"
   ]
  },
  {
   "cell_type": "code",
   "execution_count": 71,
   "metadata": {},
   "outputs": [
    {
     "data": {
      "text/plain": [
       "{'Offer_ID': {'0b1e1539f2cc45b7b9fa7c272da2e1d7': 1,\n",
       "  '2298d6c36e964ae4a3e7e9706d1fb8c2': 2,\n",
       "  '2906b810c7d4411798c6938adc9daaa5': 3,\n",
       "  '3f207df678b143eea3cee63160fa8bed': 4,\n",
       "  '4d5c57ea9a6940dd891ad53e9dbe8da0': 5,\n",
       "  '5a8bc65990b245e5a138643cd4eb9837': 6,\n",
       "  '9b98b8c7a33c4b65b9aebfe6a799e6d9': 7,\n",
       "  'ae264e3637204a6fb9bb56bc8210ddfd': 8,\n",
       "  'f19421c1d4aa40978ebb69ca19b0e20d': 9,\n",
       "  'fafdcd668e3743c1bb461111dcafc2a4': 10}}"
      ]
     },
     "execution_count": 71,
     "metadata": {},
     "output_type": "execute_result"
    }
   ],
   "source": [
    "updated_offer_id"
   ]
  },
  {
   "cell_type": "code",
   "execution_count": 72,
   "metadata": {},
   "outputs": [],
   "source": [
    "preped_data.replace(updated_offer_id, inplace=True)"
   ]
  },
  {
   "cell_type": "code",
   "execution_count": 73,
   "metadata": {},
   "outputs": [],
   "source": [
    "prep_customer_id = preped_data['Customer_ID'].astype('category').cat.categories.tolist()\n",
    "updated_customer_id = {'Customer_ID' : {k: v for k,v in zip(prep_customer_id,list(range(1,len(prep_customer_id)+1)))}}"
   ]
  },
  {
   "cell_type": "code",
   "execution_count": 74,
   "metadata": {},
   "outputs": [
    {
     "data": {
      "text/plain": [
       "{'Customer_ID': {'0009655768c64bdeb2e877511632db8f': 1,\n",
       "  '0011e0d4e6b944f998e987f904e8c1e5': 2,\n",
       "  '0020c2b971eb4e9188eac86d93036a77': 3,\n",
       "  '0020ccbbb6d84e358d3414a3ff76cffd': 4,\n",
       "  '003d66b6608740288d6cc97a6903f4f0': 5,\n",
       "  '00426fe3ffde4c6b9cb9ad6d077a13ea': 6,\n",
       "  '004b041fbfe44859945daa2c7f79ee64': 7,\n",
       "  '004c5799adbf42868b9cff0396190900': 8,\n",
       "  '005500a7188546ff8a767329a2f7c76a': 9,\n",
       "  '0056df74b63b4298809f0b375a304cf4': 10,\n",
       "  '00715b6e55c3431cb56ff7307eb19675': 11,\n",
       "  '0082fd87c18f45f2be70dbcbb0fb8aad': 12,\n",
       "  '00840a2ca5d2408e982d56544dc14ffd': 13,\n",
       "  '00857b24b13f4fe0ad17b605f00357f5': 14,\n",
       "  '008d7088107b468893889da0ede0df5c': 15,\n",
       "  '0091d2b6a5ea4defaa8393e4e816db60': 16,\n",
       "  '0099bf30e4cb4265875266eb3eb25eab': 17,\n",
       "  '00a794f62b9a48beb58f8f6c02c2f1a6': 18,\n",
       "  '00ae03011f9f49b8a4b3e6d416678b0b': 19,\n",
       "  '00aee28bbb3848dd8a31f0c91dc267dd': 20,\n",
       "  '00b18b535d6d4f779dea4dc9ac451478': 21,\n",
       "  '00b3400e4ff64ee68ce9ada1d0c222f0': 22,\n",
       "  '00b3c376db2a4115af3aef34a02f61d6': 23,\n",
       "  '00b901d68f8f4fd68075184cd0f772d2': 24,\n",
       "  '00bbce6533f44ddeaf4dd32bcab55441': 25,\n",
       "  '00bc42a62f884b41a13cc595856cf7c3': 26,\n",
       "  '00bc983061d3471e8c8e74d31b7c8b6f': 27,\n",
       "  '00c20a9202d5475190b31a24de6fb06d': 28,\n",
       "  '00c2f812f4604c8893152a5c6572030e': 29,\n",
       "  '00c32a104f0c4065b5b552895fb22e34': 30,\n",
       "  '00c5a385c71a4d3db5e9b4e31e430943': 31,\n",
       "  '00c6035df45840038a72766c6d27a0db': 32,\n",
       "  '00c91f31f5f74e769fa7a359b63e1a9f': 33,\n",
       "  '00ceaf16a40341e6996d543d04daa2c2': 34,\n",
       "  '00cf1bbec83f4a658f8994e556db4633': 35,\n",
       "  '00cf471ed1aa42a8bdde5561d67da2b1': 36,\n",
       "  '00d6dc87be4146ceb47fcd4baaaf6477': 37,\n",
       "  '00d791e20c564add8056498e40eb56cc': 38,\n",
       "  '00d7c95f793a4212af44e632fdc1e431': 39,\n",
       "  '00d91c5919514448bc4f718e4e3f26ab': 40,\n",
       "  '00e20b4ca129458aaab0f4727ef3513a': 41,\n",
       "  '00e52682848542c3a6f59b7824e9a5c5': 42,\n",
       "  '00e8d701c583461e81cc10053681a12b': 43,\n",
       "  '00e9f403afa641889cd034ee7c7ca6e9': 44,\n",
       "  '00ed7e22b32749cfafbfd88592d401d4': 45,\n",
       "  '00ee2ca6421c4af0aeca60a1b3e00f6c': 46,\n",
       "  '00ee69db83964d6da32f8109b32a1ce7': 47,\n",
       "  '00fac72fd6ad448e8019b175267023df': 48,\n",
       "  '00fbb9b5edb94f02afbaf1eb49bb4d7d': 49,\n",
       "  '00fdd4416dec40b49180814c0a7c8d76': 50,\n",
       "  '0103de989e084e0fab400e80678d7591': 51,\n",
       "  '01162252405b4524a8fa1bf8e6d5f04b': 52,\n",
       "  '01176ee7289b48e39ee6261d5c071a07': 53,\n",
       "  '0118fbb66dd2443a9dd407d2c99a7672': 54,\n",
       "  '0121fe001b7a404fa9cbe486f8944baf': 55,\n",
       "  '0123564dbaf144a88a418c33b6350c17': 56,\n",
       "  '013094309e1b49e095c098df412d125d': 57,\n",
       "  '01380da907f8495496679c795867790b': 58,\n",
       "  '013f2c82889f4641a9b847a48861cce0': 59,\n",
       "  '0141d3870a424c03a20390040efad826': 60,\n",
       "  '01443a2afce54939a323c978f467c540': 61,\n",
       "  '014899c751254a62a96ce676eb11ddc2': 62,\n",
       "  '0157e63b39c5456393026c6c03f3d84a': 63,\n",
       "  '015c3d28c67e46aa95e9ec97c27220e8': 64,\n",
       "  '015ef929e016415098eeae8ce59da721': 65,\n",
       "  '015fb0b3fbaa4aceb910fbdf272f7547': 66,\n",
       "  '016086228d58476599d0b47881c25509': 67,\n",
       "  '01613170f679422a8acfa96f0f19fdf2': 68,\n",
       "  '01633b71b3a2457aa7d35d8bcc3afb5a': 69,\n",
       "  '016871ea865d4338975026ae08d221d0': 70,\n",
       "  '016b37032984457fb33ba2767fcc8c9f': 71,\n",
       "  '016edb1d1d67477391c5337545a5d98a': 72,\n",
       "  '017160c1cdb845d48abec3c330b4427e': 73,\n",
       "  '01772eae932447f9a853461a60820dc6': 74,\n",
       "  '01784d3e205548a594ba3fcdbdaaf17d': 75,\n",
       "  '017a93d1204f457bbe85f5e7de062b56': 76,\n",
       "  '017febbe52e64ac19cf28cf0d44386e4': 77,\n",
       "  '01873cc8de734961949af7c04b2e9872': 78,\n",
       "  '01887dcd32b64feb807e2436548b6c87': 79,\n",
       "  '018a49ffb8cf4812903e7c1f56fbb0b0': 80,\n",
       "  '018b8f83176d471db63d9733c741fc8a': 81,\n",
       "  '01925607d99c460996c281f17cdbb9e2': 82,\n",
       "  '01956670cf414b309675aa73368b94a9': 83,\n",
       "  '0196d2062b8d4d019b8d96292266e8a4': 84,\n",
       "  '0199681637524988a14245632b8376af': 85,\n",
       "  '019be0c6f8fd4000b1967c7308b4bdf4': 86,\n",
       "  '019cc78d8fed432ca6df71c132c72a99': 87,\n",
       "  '019ed95d987446e3947da0246cdab831': 88,\n",
       "  '01a202a9021e40aeaa5451a5d134c16c': 89,\n",
       "  '01a5e8b57bc04e0292525f3e2817fa17': 90,\n",
       "  '01ab25c31f034f85bc4ac9d286fb7a76': 91,\n",
       "  '01ac633821f0498893320b41b5b22dfc': 92,\n",
       "  '01b6d7e8f0884deb936a8a7f15dba895': 93,\n",
       "  '01d26f638c274aa0b965d24cefe3183f': 94,\n",
       "  '01d7da27b8934ba1b3602a0153e4415f': 95,\n",
       "  '01de69b5edab4b89859ea8a7214ba35a': 96,\n",
       "  '01e09d713abe4a36a70a33fe4b40534e': 97,\n",
       "  '01e57718fc6b49b2875a9c02b32905b1': 98,\n",
       "  '01e8739670a042b3877f8e843bdf55a7': 99,\n",
       "  '01e97a4633bf4963838a4aa9ed1dce3e': 100,\n",
       "  '01ef4c6618b64334a15914ff9963eaac': 101,\n",
       "  '01f33ff554d0443a9841adfd66d253f6': 102,\n",
       "  '01f46a5191424005af436cdf48a5da7c': 103,\n",
       "  '01f663b988964a4caca8b19abecb551d': 104,\n",
       "  '01fe5ec668f241608eb2f7ec374cb1b7': 105,\n",
       "  '01ff6c5d8d014dbd8c120e2b43a065ea': 106,\n",
       "  '0200f61c69da4c2ea078842cdaf234e6': 107,\n",
       "  '0206e1388c34454caba2b7fce3123943': 108,\n",
       "  '020be6e9805649858595dfbaab15ccd7': 109,\n",
       "  '020be8b0fafa446ebcce6449b20bc92c': 110,\n",
       "  '020cd0f8047142e18a754303f9337d53': 111,\n",
       "  '020d72e77c704c42bb0a858c1aaa3bcd': 112,\n",
       "  '0215efe5136d4a038cb81eae92d59368': 113,\n",
       "  '021616b8deea46438e3badc7fca5894d': 114,\n",
       "  '0217c4393fd54e74a523b63c0fcc3da5': 115,\n",
       "  '0218964095c94da0bfac44cf40c9343f': 116,\n",
       "  '021adce38ab34ede96422ae107643fd5': 117,\n",
       "  '021c1940868647efbcb40ccdb942813b': 118,\n",
       "  '0222d267445f4f078bc325224e471766': 119,\n",
       "  '0225045e245f4b7289cc55c0b5870ae2': 120,\n",
       "  '022f5553a0704b53ba26f2d23cb1234d': 121,\n",
       "  '0231c913a51e420783be6bdeb75aa842': 122,\n",
       "  '023411b8a45a4715979dae6cec425a8b': 123,\n",
       "  '023a42cf62f742b795a975d56955e220': 124,\n",
       "  '023fd15e56184ec19e23ed5a31c87543': 125,\n",
       "  '024218e67fa549a4a0a99b32b7b6fbf9': 126,\n",
       "  '0246e7cc7a3d4a98a940cb13776b5b55': 127,\n",
       "  '0246f8fdf0b64014a98822b70231c58d': 128,\n",
       "  '0247953d899b4a99acab74fa0a807c0f': 129,\n",
       "  '0251876076024444864473545adce065': 130,\n",
       "  '0252aa6f0dee4585ba886945c60f48f5': 131,\n",
       "  '02557fafcf334c30a22c312c5647f71a': 132,\n",
       "  '026876bc8c6a4e0c8e330342c92cc844': 133,\n",
       "  '027596e6ed19471392923eb833b25fd3': 134,\n",
       "  '02765747959045a0a7c452888b2f31eb': 135,\n",
       "  '0276c9a3092d4f79a29d61a1462f9b4d': 136,\n",
       "  '027c18923c0146e58ccd615f6a62d82f': 137,\n",
       "  '02865fee714e466e99f9bb7a7203887b': 138,\n",
       "  '028a12f0ee584455850300886174f3d7': 139,\n",
       "  '028c88a958e54c36a31c4800fd6e887b': 140,\n",
       "  '029e063479234fb1b6c8727c3d45de62': 141,\n",
       "  '02a3aa431c1047be8eafec3dcd6b5fd0': 142,\n",
       "  '02a458e1233342b79caff81edbcc30a9': 143,\n",
       "  '02abd909ebc94aca8766f3f0ee39db80': 144,\n",
       "  '02b5aa5725f94bcb94ca58208015b7bc': 145,\n",
       "  '02b6895b3cab4f79a116bddc1c70b5c3': 146,\n",
       "  '02b7a80a321c4b078af92d494cc0f012': 147,\n",
       "  '02ba8c272f284139abef53e0290bfb67': 148,\n",
       "  '02c083884c7d45b39cc68e1314fec56c': 149,\n",
       "  '02c6daf74a49491ca397f105ef944784': 150,\n",
       "  '02c89861ce2c4010bf4ed63f6f6d5df3': 151,\n",
       "  '02c8c9806a8c44f792a218fb2e8756b3': 152,\n",
       "  '02db8af535e54416a01aff51836d166f': 153,\n",
       "  '02dd040b77914163b1fd02efc3976d55': 154,\n",
       "  '02e2211319524b9e8bd09794d00d8513': 155,\n",
       "  '02e4c9dff62e4857a429a4be3ba73ed0': 156,\n",
       "  '02e5396559f94469b6d03e40d85830c7': 157,\n",
       "  '02e6dbe7c694441a88f9160b6b0e1a35': 158,\n",
       "  '02e6dd10b22c43fcb5a2dfc0038dac22': 159,\n",
       "  '02eba2268a3640bb8e85880e12617c5f': 160,\n",
       "  '02efe2a67be247a686f79ba1cbce42f1': 161,\n",
       "  '02efe413dd194069ab58abde38ab5e02': 162,\n",
       "  '02f638a6c98241c98b24a06ca489aac0': 163,\n",
       "  '03019e49a5164723ae527bbd6949e0c1': 164,\n",
       "  '0305b52a24744a9bb660bffc6b39e884': 165,\n",
       "  '030c30c1955f4a17be09b692caf5ec5f': 166,\n",
       "  '03118ab70a404fada1a433cd6abaa491': 167,\n",
       "  '031387fa9cfd47e88f4e4b4b4cb71925': 168,\n",
       "  '03257d4fcb6641aebaa46d5605d205ca': 169,\n",
       "  '0335d274249f4eb6b3c51527f02a3216': 170,\n",
       "  '03374e3f14564b36a7138154ed8c194a': 171,\n",
       "  '033bf5269a494dd787e5e9f4a45b843c': 172,\n",
       "  '033d0a511a5c452ea2be37a23f8c6dcb': 173,\n",
       "  '033f0ee2250e475b87f70115e7895957': 174,\n",
       "  '033fed8bb1504885b866429db25543a0': 175,\n",
       "  '0340f0361285411ab60a24823b020112': 176,\n",
       "  '0342c7c449a84440b3f7a80ad095761a': 177,\n",
       "  '0345b2da6507473ca4400ed84dc6725a': 178,\n",
       "  '034946bd82b34a219b556a47f1200828': 179,\n",
       "  '034b962ed61d4da1bb0baaec84cc2e85': 180,\n",
       "  '034ce97360c6485ab990d903343f9f08': 181,\n",
       "  '034dcdec0a0547a19d77dcf2bc8ecc48': 182,\n",
       "  '0355c6a5fdbc429ea5b05e8a9ecd2eae': 183,\n",
       "  '03566626393f43a88c55de21c61761d0': 184,\n",
       "  '03568fe0e51b41a9bd752ec8be307ba5': 185,\n",
       "  '03575a43a3da4691998de01fff617f99': 186,\n",
       "  '035d5aa3c23a4059ae663b4c07aa26ce': 187,\n",
       "  '03637e48ffda4bf9b73b079d03c0bbe3': 188,\n",
       "  '03676dc08a0a4899b0af5030bb6da6f5': 189,\n",
       "  '036c34e6a32a463db11ebb398a8719b6': 190,\n",
       "  '036e4bedca2045afad50fda2d3b505ab': 191,\n",
       "  '036f1e5cca91478685c8cef24cc8b076': 192,\n",
       "  '03716dbf46394867ba126ebe1ebc202e': 193,\n",
       "  '0375600415e24e0a9fd83ec191d5955d': 194,\n",
       "  '037c3e0c1cd6477dbe15812a05619fc5': 195,\n",
       "  '0383a12d3a2d4fbb86ec83bd0c25eead': 196,\n",
       "  '03887756866f4ea9b74b7e1b83ffac44': 197,\n",
       "  '038d32f25cff4833ab44c5123e42583a': 198,\n",
       "  '0390715ee2a4443eac8582a5941d61a9': 199,\n",
       "  '03922ce960124f4a8c4acd2a332ef296': 200,\n",
       "  '039e0c539c2f4fc582423412a8bceb40': 201,\n",
       "  '03a6837af25144b18936719d7afd5a58': 202,\n",
       "  '03adb16f61e44e6594d6d8e38d0a3e64': 203,\n",
       "  '03af4a51012e4a00809df85c9279e4e4': 204,\n",
       "  '03b0358ba8d945b3ac283f25969a0cca': 205,\n",
       "  '03b326a99f5345df8b4d21ed26bdb0da': 206,\n",
       "  '03b810ec338c4a85b063449f40c7b9cc': 207,\n",
       "  '03bbce97de8240359c2706a4c9f537f2': 208,\n",
       "  '03c0b69b3db24c70bba1622bc8dd8459': 209,\n",
       "  '03c23b2ec84f4c5296e99c939288bcd4': 210,\n",
       "  '03cc530b458e4fb180c222777916e9b5': 211,\n",
       "  '03cd7c3f955a4c47bd3caf4e9a2db37c': 212,\n",
       "  '03deb7cf0ebd4c7889a8a9e44df1c50a': 213,\n",
       "  '03e507f56bd34d3dacdecb5eb87111f7': 214,\n",
       "  '03e67807671e4cb4bb34f2ebabc97d28': 215,\n",
       "  '03e866224ec641c58bc93a69be00de9c': 216,\n",
       "  '03ef53e2d3e1436eb3b2042a4825adec': 217,\n",
       "  '03f1ad04292f47b2b1299cc92f8f2a5d': 218,\n",
       "  '03f75ac6db7a457dbd6086e6b86a4fd1': 219,\n",
       "  '03fbbeecf81b468684b50dbe63ac4587': 220,\n",
       "  '03fe8e9f855846c88fd01c4b7b147db7': 221,\n",
       "  '03ff3cf4aec84162be697c28346bdd5a': 222,\n",
       "  '040704e99ab84cd08977858fab9b9276': 223,\n",
       "  '0409252539634eca8a8d1b5407caa582': 224,\n",
       "  '0409df7f3af74e8c813d975fbd4ceb02': 225,\n",
       "  '040b2e6d3e914d609f6764b34b5a3a88': 226,\n",
       "  '0414fcebbd7f4a19bca352622b1c84e2': 227,\n",
       "  '04189492f0aa46f2b6fefe34ffbc7062': 228,\n",
       "  '041967ceb80841ddbd306958d4f744ac': 229,\n",
       "  '041fd7c6b796430a867c4e03d2ff8f4d': 230,\n",
       "  '042d7ab61d1143fe9230bcb1af34aa5a': 231,\n",
       "  '04326bc8a2e94fe09557d30388647e52': 232,\n",
       "  '04362cece3104f4ebcb3d49ef0bc7e9c': 233,\n",
       "  '043702ae29bc426e9f65ef7beb6cd08a': 234,\n",
       "  '043b6b6be98c412d901f7f376e0548d0': 235,\n",
       "  '043bcfeacb874bbc837300701ce25870': 236,\n",
       "  '04452c214f5f401bb1418313c1526cbb': 237,\n",
       "  '044a7e5bbe7f4c66a898ad1dc4bc0049': 238,\n",
       "  '044f41cfd98940119477d73c81f973a3': 239,\n",
       "  '0454292436bd4cee98e8ec873e30433e': 240,\n",
       "  '0456cf6870f849cc9e1ac5ea9e02dccd': 241,\n",
       "  '04698a1182a24807ad4c36f12b67c5ef': 242,\n",
       "  '046a2f9c32c14e7e9ad508f811ebfa2e': 243,\n",
       "  '0471fe94846d40e9b5bc8ec77293720c': 244,\n",
       "  '047a2de0c17849c89d04248c357cab52': 245,\n",
       "  '047ad0135cfe4c0ea5ba019da4de9c52': 246,\n",
       "  '047db31ef98140149f97667abee20860': 247,\n",
       "  '04837bcb97e241769a747cd71c50fe2f': 248,\n",
       "  '048bf07732684843b6334f8f157af033': 249,\n",
       "  '0494aa6671414fab9837fa3cd45e72bc': 250,\n",
       "  '04a19ef08c9c4648a587d64ff72bf6df': 251,\n",
       "  '04aa84f9a46a4920b70386c3fe60165d': 252,\n",
       "  '04bd9be0d1374492800aca71e512ed51': 253,\n",
       "  '04c143b7068e4c32995e1031173bea43': 254,\n",
       "  '04c3b99e274c40b4898ed7653e09cb62': 255,\n",
       "  '04c4f933a8864cccbd4560e090355657': 256,\n",
       "  '04c66db4925042a5bb103fec87225370': 257,\n",
       "  '04ca4f4a66934cec9d3bbd8833572cf7': 258,\n",
       "  '04ca68b26ef14fbc96eb01ab1f2d1fc2': 259,\n",
       "  '04cb9d0033f142efa2a367f4ef273460': 260,\n",
       "  '04cfc7c495c1419f9a316c2a9876af97': 261,\n",
       "  '04dc393b52714269877cf4ceda3f78f8': 262,\n",
       "  '04dc7c54fc8147069875a5def52d711e': 263,\n",
       "  '04e0842b079c4113a759aa6e09ea17ed': 264,\n",
       "  '04e0eff0b4704fc291bbe1275f01fb7a': 265,\n",
       "  '04e34b1c5fe64fbcb76bfe47ebbbf015': 266,\n",
       "  '04e39b3e8fc449cfbcafd7dba2429f1c': 267,\n",
       "  '04e4f53f9be74c09a9751838010386e5': 268,\n",
       "  '04e5255c9e754c66b83c06ec70f62203': 269,\n",
       "  '04ea45ec66574a618b0918834ee08fed': 270,\n",
       "  '04ec49d81d154a70b3f0d5f280da3756': 271,\n",
       "  '04f1f44632cd409cace939fa62b5fc7a': 272,\n",
       "  '04f2e86f182d4fc4b7b1a1858c280a38': 273,\n",
       "  '04f59344d54947ed8aa82c25effc9487': 274,\n",
       "  '04fa747cd2d841bcaf08f0a64e82bbef': 275,\n",
       "  '04fad15f96d446f483823ad08857e752': 276,\n",
       "  '04fb6b47e11640139f3ef5d74d7a79a1': 277,\n",
       "  '04fcbc5e1faf4b7bba20116ecb30ca17': 278,\n",
       "  '05018c82b3d241328a5b0558dada3286': 279,\n",
       "  '05037de294c540d3ba92aa627b992066': 280,\n",
       "  '050a57f4d675402ba1a06c8c49a4a200': 281,\n",
       "  '050cdb2d5b4b4bb3b1c612e17e0e8c1b': 282,\n",
       "  '051006a0cddf40e0a973d9317c032086': 283,\n",
       "  '051066a2c1284e23a1e3a2cc1389f23f': 284,\n",
       "  '0514e61ffb1c4b52b8f0bf5ed2a348c7': 285,\n",
       "  '0517e2aca44d4327875c3bb8478e492e': 286,\n",
       "  '051b92f5a9f94328a8721e86905c1d3d': 287,\n",
       "  '051e221bbd75481c8d935f6adcee2edc': 288,\n",
       "  '05298f5390c7417c8dbbcbef9f081800': 289,\n",
       "  '052f1e4cb527405facdb09a0b7e70861': 290,\n",
       "  '05313b089485492aa50683d7f00fcbdd': 291,\n",
       "  '0537e8df8a5a418ab1fd28c2063ad6f8': 292,\n",
       "  '0538071eb35247af8c2816ec75a3c87c': 293,\n",
       "  '053ba80f39aa4e4394ecf2d64d8ca85f': 294,\n",
       "  '053de26a38684d628b83fef38eae0c69': 295,\n",
       "  '054244238c794ca380a197a21b2fd6e6': 296,\n",
       "  '054a387e28fb4939abfe484ea801ff3f': 297,\n",
       "  '054cfa16ec4a4757a41b1a4d0fb8add7': 298,\n",
       "  '0552370c278345298835cc70e616c96c': 299,\n",
       "  '0555eeabf1284cfd85c306caf9360d05': 300,\n",
       "  '055640cd12d04eb4b8a51ec67d451fc7': 301,\n",
       "  '055a06b9a6ad42fcaa1fe7706b5e21aa': 302,\n",
       "  '055eab487b874f38b65f3edf31b5eb41': 303,\n",
       "  '055fe39c422643d89a93cf05cf610b2e': 304,\n",
       "  '0561e602225b441aac45ff6e5bb74037': 305,\n",
       "  '056495e7cd754a6c81b25d4ae5ca5e02': 306,\n",
       "  '0565285a6b374513b887f9a6af7fa5bb': 307,\n",
       "  '05703c17280649238ea5005898dc7076': 308,\n",
       "  '0578d2389a8f4e4a81f4d2648b85293e': 309,\n",
       "  '057f6741e0e0438e827cc0b18c601160': 310,\n",
       "  '0580b842b328497ea4bd463af56c17e2': 311,\n",
       "  '0581b31e87c64c92a64e1eb91bca5dc7': 312,\n",
       "  '058406afd91541fbae0060827c0ac156': 313,\n",
       "  '0585b57db9514fc786b29008e693a49d': 314,\n",
       "  '05894078f0a84797a81049d3c3f04402': 315,\n",
       "  '058b4e5020734ba7b48b0b43119bab0f': 316,\n",
       "  '058e689c3b554eaf868897c8cef80c82': 317,\n",
       "  '058e76ac9080489993e6adfbb943fd8d': 318,\n",
       "  '059de3bbf78b497fa190ecbc20d26521': 319,\n",
       "  '059df2ccba4a442eb5537fbd8519569b': 320,\n",
       "  '05a009c95e8d477cbed5c1661343bbb9': 321,\n",
       "  '05a490c5df01453fb33e6ddd7e1744be': 322,\n",
       "  '05a4da5c46034e42abb4495507d293bd': 323,\n",
       "  '05a4f70725804ceab1daa9dc73734827': 324,\n",
       "  '05aca359cfb04309a05362db256954ae': 325,\n",
       "  '05ad6da25fcf4ea483562a4233cc345f': 326,\n",
       "  '05b0cd60c07e4ffdb1829da2010b55ee': 327,\n",
       "  '05b1e22c61c849c4bddd497795f2ac37': 328,\n",
       "  '05bbe7decb6d43b684221df448979612': 329,\n",
       "  '05bedc6bbcc64a41b1745f6efe00776d': 330,\n",
       "  '05beec1cbeb8481d9bfb5844343ba374': 331,\n",
       "  '05c001b0be8a436dba8f7fdb7ac9273b': 332,\n",
       "  '05c64ce569db467a939173b41889a77a': 333,\n",
       "  '05dedca5b2034055a64979a2c28b3477': 334,\n",
       "  '05e14ffbb5234affb70068da5fafbb25': 335,\n",
       "  '05e3b4ecea3b45adb9734a2793eeb26f': 336,\n",
       "  '05e42f14818d4e82911557052b334e05': 337,\n",
       "  '05e6bcb70fe14e0da4730527ca35a4ae': 338,\n",
       "  '05e96e45ce6045edbf84b14a6b557a18': 339,\n",
       "  '05ea8d8a95eb4b209a6e048878470df1': 340,\n",
       "  '05f33951bb1047f2a5b277d84c675cab': 341,\n",
       "  '05f4d69f73024172a23a350e611166b4': 342,\n",
       "  '05fc000adcf544ed9a726f45adac5896': 343,\n",
       "  '05fc9b1280454d84a712d8cb763c7c79': 344,\n",
       "  '0607b32041f94d65a07835fc9a13416a': 345,\n",
       "  '060f8becdb7543ed82d9ef1afd10e274': 346,\n",
       "  '0610b486422d4921ae7d2bf64640c50b': 347,\n",
       "  '06131d1c0a154320bd9b24af9f51f76d': 348,\n",
       "  '06186260c2554978a92be071e4fe3c79': 349,\n",
       "  '061afeca89524537b960b57b0a609533': 350,\n",
       "  '061e7367906a4d0087b8e8f2f92a313e': 351,\n",
       "  '0622afdf88de4cb4b0b59f08312c344c': 352,\n",
       "  '062964a129f64110a3919595cd731141': 353,\n",
       "  '062bebd7d15a422aacfbe41412c1bbd5': 354,\n",
       "  '062d468f10ff4489822fbdd647e57398': 355,\n",
       "  '0632e74a24484c819d06eb086298c406': 356,\n",
       "  '06476b6b8d2a46a4a6a010ad0bb41698': 357,\n",
       "  '0647d8018845486094ce99b6ca99eb6c': 358,\n",
       "  '064c75dd2f664b5f9c1daa3d588d3073': 359,\n",
       "  '064fd993498c4d628348de2085e9d569': 360,\n",
       "  '0650c7a4df92429f8b695a4b646aa195': 361,\n",
       "  '0651e2ab376f4608886a5b4a310944fc': 362,\n",
       "  '0653f4c3e0524329896a2cbb7a423090': 363,\n",
       "  '065467da18c743a7b8a87c9fd2d536d9': 364,\n",
       "  '06546973bb7942f9bac814496d70678c': 365,\n",
       "  '06609f295aba4e42abdaf07c2f758303': 366,\n",
       "  '066146d1b92b4bd88ca2e7e0729bce5c': 367,\n",
       "  '06647904f5c84f299ec20efa1cf923f4': 368,\n",
       "  '066eb63659fa4f63b80eb829237dfbc4': 369,\n",
       "  '0671319b6dde4602abbab1278752768d': 370,\n",
       "  '0673e9690e874b7b842da2be63d2de84': 371,\n",
       "  '0679b66105224a0c960efdb95f19ee1d': 372,\n",
       "  '067d00749d234d72946b07f1f472fcba': 373,\n",
       "  '067d163ebd2748cf954bd1ccc4cfa4af': 374,\n",
       "  '067ee299952e49328b06da73e2ba1965': 375,\n",
       "  '0681388282b14555ac390bef6c526ed7': 376,\n",
       "  '06833436ed1a4cc1bda33978472e4444': 377,\n",
       "  '06ab01a0775d4b35bceca2d607271874': 378,\n",
       "  '06b14580b3d44014b99214631b841e66': 379,\n",
       "  '06b81e95ef4b41d494b03f4832b2c82e': 380,\n",
       "  '06b99e8cc24b426f8a578c749974b88a': 381,\n",
       "  '06c2a531fef542cd89877cb9fb10aaeb': 382,\n",
       "  '06ccdaa9fbaa4c21b4321c83bcd2a000': 383,\n",
       "  '06d34b0fb66e4feea9b2c765755a8e1f': 384,\n",
       "  '06d7f5abc31b4a02836349333ac02f33': 385,\n",
       "  '06d95051c47a42f1a0704fca3be979be': 386,\n",
       "  '06de851506d44f9f803058b8e01d4392': 387,\n",
       "  '06e2f7db27064b629f73908f6b187561': 388,\n",
       "  '06ed8e3c641e4e8e803f336e5b20ddd7': 389,\n",
       "  '06f4bfb1cb4c4c968add3d9980a279fa': 390,\n",
       "  '0707c762ab764cb2a29fec7f1cb798ba': 391,\n",
       "  '070a3bb5f2874b9da388626c84b4b64a': 392,\n",
       "  '070c6e10c833437d9e28ea80b0af48d8': 393,\n",
       "  '07220f70535d46459cbe0ca0e2c85dec': 394,\n",
       "  '07223b7cc9d448b196562395c8f8d4c7': 395,\n",
       "  '072731be403a472883bed6c38a8e7aa8': 396,\n",
       "  '072ee847d4c348db9c24669902dc6abb': 397,\n",
       "  '073190b534ba4e36803151ebe0e5ee27': 398,\n",
       "  '073e3ef64e344bc8891732b558582492': 399,\n",
       "  '073fce5708884b30a28b65b3cb15a919': 400,\n",
       "  '073ff5dc4bee4e8c97ab421c19e50549': 401,\n",
       "  '07455479fc8c4b5aba6c50955a5ca60f': 402,\n",
       "  '074b758a424a4d618f97e18bf3e2e4a8': 403,\n",
       "  '074c30edf3194b0e9cebaf64256bcfe1': 404,\n",
       "  '074c9939731945d5a71735d8997a22c5': 405,\n",
       "  '074e7e5b342a4254ad649dc6aeb6fa04': 406,\n",
       "  '0750f076ecc945a99bcec8c00d1291e9': 407,\n",
       "  '0758cd8721ca4bb88a32162e244d715f': 408,\n",
       "  '075d0096867d4a08901e1715c038eaa5': 409,\n",
       "  '07636351f331428d8dca7e8c29efa73b': 410,\n",
       "  '07637d5afb234025bc95687f69fc6356': 411,\n",
       "  '076c88aa6fcb464f801327263f961370': 412,\n",
       "  '0777ced8b2004b7e8e33a3cbe0ee3be6': 413,\n",
       "  '07805efd53494b8fa08f661e311dad9e': 414,\n",
       "  '0785f1fce0b04ba08e01c7d2ebab4917': 415,\n",
       "  '078808d49ac341a0a303212f258a3410': 416,\n",
       "  '078d8748630a4a66ba59d6ed6cc023bf': 417,\n",
       "  '078e2d4d278f4525ac4c2ea51bdb66e6': 418,\n",
       "  '0794f1312de44cc3afca03add293fb24': 419,\n",
       "  '0799a98aeb994b8d9a719deccd90ed39': 420,\n",
       "  '079a60e8e7694ffb8d9a4ddf45e85897': 421,\n",
       "  '079bc7a16fe94907911fcac3b93754d5': 422,\n",
       "  '07a00827302441ee968555e2fd20dbcd': 423,\n",
       "  '07adfad3f0c54e738d60fd5a51285486': 424,\n",
       "  '07b37c82377e4e5ba8cf8eb6ed39d052': 425,\n",
       "  '07b3cbbeea81414b9024bea5bc229daa': 426,\n",
       "  '07b78a8616714b58ad3a9ed94126c459': 427,\n",
       "  '07b89f3fed16463b9fb391f40d6e1c58': 428,\n",
       "  '07b9aa69f88a493f91add35a5a87d426': 429,\n",
       "  '07bdb81f215b4ef19653675c6eb2c447': 430,\n",
       "  '07be3211a22c4ff7a09a1944693fefb7': 431,\n",
       "  '07c21f323f2b41e7abf75e9b66d7ec2c': 432,\n",
       "  '07c44df054f241aab553723ed855ca21': 433,\n",
       "  '07d157fd060949a38730a1872b668c05': 434,\n",
       "  '07d1d0df6d1e467ba9e23844145b1477': 435,\n",
       "  '07dc543bf5d24eb9893c1a3f199f275f': 436,\n",
       "  '07df8065f7894333b51f57c1999dfb6c': 437,\n",
       "  '07e29d02d0074da28b430e1dc40cc1fc': 438,\n",
       "  '07e7d74b98e9496eae8226d4af05f33b': 439,\n",
       "  '07ebe89c877e4328b60f4e5676452ee1': 440,\n",
       "  '07f1d6d949634863bb93b0e9fd0dc8f0': 441,\n",
       "  '07f4ec4a70cd456583e224bb6d2d1787': 442,\n",
       "  '08031f6005104429b664b7abd3a54136': 443,\n",
       "  '08081f80dad246c29d7ef266ff3f4765': 444,\n",
       "  '08083d179b0b4c1e895c27261aca17a7': 445,\n",
       "  '0809ff2ff8fe461ea8996377a7abd46d': 446,\n",
       "  '080fc5e11b2a4dbeb88e1ffa952cb638': 447,\n",
       "  '0821c517c4544631b2f540933caeb98b': 448,\n",
       "  '08243bf7c8df469591c0b9d29074463d': 449,\n",
       "  '082624ed9a14484e914323d0cd586ca8': 450,\n",
       "  '083145b8b0004b21bd4433134747c6b2': 451,\n",
       "  '08331c061bd140c2ae27b8d735763e79': 452,\n",
       "  '08377118255f4374b173879fa81b8100': 453,\n",
       "  '083977ebbd00410dbc2054e7fd62513b': 454,\n",
       "  '083d316ee57640689731e5e7be9d5c20': 455,\n",
       "  '0842bae0ce7f4dd283c868b01a19f793': 456,\n",
       "  '0844b119bdc542cdb54188f4f10b7eb1': 457,\n",
       "  '0846873e9e4d4d19afa993278b1e8f3d': 458,\n",
       "  '084afe9e774d4e54b5ccaf786cd29f67': 459,\n",
       "  '084c6cf4cd3a46a288e55ab2213e644c': 460,\n",
       "  '0854b236fc3b422d88cee4cb6d44ce0c': 461,\n",
       "  '08579355f46b49efa8412ddacc4ac832': 462,\n",
       "  '0860d25635e84c6a95c6f32cae8b9c37': 463,\n",
       "  '0861b9ca31b741bb8b411b18f82d18f6': 464,\n",
       "  '0864b88ddd1945ff8982d042d520c7fb': 465,\n",
       "  '086948f6255845fca809c982f452e311': 466,\n",
       "  '086dc8a56e3d467d81bf7e47efca0404': 467,\n",
       "  '086f6cec7c6e4f5c9d401b015f39c764': 468,\n",
       "  '0872d0fa41104fcaaf143ddc1b81a420': 469,\n",
       "  '0873c38c2c804bc18f5559e4531f2068': 470,\n",
       "  '087d0fcdbf294f7494a96d8d6a56cf41': 471,\n",
       "  '088debab4050432abc4817f192abc702': 472,\n",
       "  '088fe373367145d291e5b03d483accd7': 473,\n",
       "  '08926f1f08c34a4a9681ab3d6a5ef17e': 474,\n",
       "  '08954e2b550f423a98b664ace2d26c7f': 475,\n",
       "  '089884c069654beba55de2442e32ea82': 476,\n",
       "  '089d00cfd1fc45258ce97ebd2e4779f8': 477,\n",
       "  '08a2693d053b4a18ac8276fdf1b396c7': 478,\n",
       "  '08a5adf50a9b40a9b5bb24019d0a55fc': 479,\n",
       "  '08adbb1879624d0bbe54ecc9748fcd57': 480,\n",
       "  '08b352c3e09a42e1900892a317f2b84e': 481,\n",
       "  '08d03b9d8e3c4e33b87df24433217301': 482,\n",
       "  '08d06b602c844926a037b0b253901d52': 483,\n",
       "  '08d655efbe574f538c445adac44085b3': 484,\n",
       "  '08dc093548804971b6049d7a50a78f21': 485,\n",
       "  '08df8f2800684b3ba9e1e18d76ef51dd': 486,\n",
       "  '08e5303c6da84aeba3cefb6e8fe370eb': 487,\n",
       "  '08e66f9936c545d4aedf21d35b96baf6': 488,\n",
       "  '08e7c2a166ff44e4a009a18b5e8e4b81': 489,\n",
       "  '08e9830fef754fc7aa560823d6127259': 490,\n",
       "  '08eae23115f745e6a388307d62261686': 491,\n",
       "  '08eb126ad33f447ca3ad076482445c05': 492,\n",
       "  '08eb3d097916423f9649e0be727c7d84': 493,\n",
       "  '08f5b62adc9143de953cf983f435536b': 494,\n",
       "  '08fd4c97526a46b58919a0d48ec65434': 495,\n",
       "  '08ff04fc9e9243869a95e447674c31e0': 496,\n",
       "  '08ff7a65c7824da19966319a5cd99bc2': 497,\n",
       "  '090025d59b7d41b590b246ae806a19a9': 498,\n",
       "  '09020cacd73b48a7b1d1310dd9ca004b': 499,\n",
       "  '09064dd864994ff19040ad8c2b2572ee': 500,\n",
       "  '090787edb9ca42a7ac812641fe2ab118': 501,\n",
       "  '091c007c27584fb4850eb5fa0ff890e5': 502,\n",
       "  '09218129551d4929a3beea8d3eafd787': 503,\n",
       "  '0922ba5634c748439e91d5c6ed793d8e': 504,\n",
       "  '09271091511549778c0979d64bf3dfac': 505,\n",
       "  '0934678d34c54056b8fb1203d8bad8ab': 506,\n",
       "  '0934fd310ac249179c6b61292cc14e8c': 507,\n",
       "  '09367ecb1ea4474b8810b7ece379e60c': 508,\n",
       "  '093f0c09cc7242228edbb0e52ca14af6': 509,\n",
       "  '094630a89b2e45129af4384494385492': 510,\n",
       "  '09516b73ace043c395bd5292845912f1': 511,\n",
       "  '0951cc66d2f841e99cce016730c3f6da': 512,\n",
       "  '09531802efb9407586a3061eefd9cfef': 513,\n",
       "  '09533b07fec7435d97fe33fc9aca6428': 514,\n",
       "  '095387dd9436426fa454cda037297d0a': 515,\n",
       "  '0955202f20fc49e0b7d1c2a6843a9011': 516,\n",
       "  '095bc1a9b5f64d0f88ed616df292a3ec': 517,\n",
       "  '095cc9fc7aaa428b99c0ad42b3949fc5': 518,\n",
       "  '0964d4f3fa2344409e792c5ac6885a88': 519,\n",
       "  '0969a11464224731b03c60f287c192e1': 520,\n",
       "  '096d06b35e534a08b20bc00850c31919': 521,\n",
       "  '0973a73fb67147e09659b92bc511eb78': 522,\n",
       "  '09752271072d4a259ee5f35e077bbe3e': 523,\n",
       "  '0975267d50f7470da79d18591352e13d': 524,\n",
       "  '0976fd3ecfb84e1ca92d90b6adc2001c': 525,\n",
       "  '0978745a7e524deeabd326d6e5a13d0c': 526,\n",
       "  '097be133b42b4be1963a109e7ab62417': 527,\n",
       "  '097e0be7292b4349a952e59ee82bab73': 528,\n",
       "  '0982f641668e470d9946a58b8c3ccb88': 529,\n",
       "  '09840ad0df884a18910af206fd90e597': 530,\n",
       "  '098b861b283940bcb24ec4dc78f16cc0': 531,\n",
       "  '098d957407b44982a3debf3337aa6b9c': 532,\n",
       "  '0990624579434298afa4aa83a1202e72': 533,\n",
       "  '09916e16312345b6a9bed4b77e0211c3': 534,\n",
       "  '09926978a42248f08791fe53fc7ac085': 535,\n",
       "  '0999506e6713408b96827816f547f0ff': 536,\n",
       "  '09a232cdf36d4d2b9d23a860493ce998': 537,\n",
       "  '09a5c16b6b9d4aa8a6d1301620c0e900': 538,\n",
       "  '09a6798f587a404c8c44a2cd5fd2d940': 539,\n",
       "  '09ac1d69e9f74deb835ecdfac30ae8f1': 540,\n",
       "  '09bed795bc814b4e9ab2cad8f8b78fc0': 541,\n",
       "  '09c361194dfa428e9b859561d7ea8188': 542,\n",
       "  '09c944213971466cba17010979413eaa': 543,\n",
       "  '09c957e5a4ac4c339b25fe08b12cd921': 544,\n",
       "  '09cb1b009f154a9a93af117920ddb353': 545,\n",
       "  '09ccb706f86c4d1ca7a35d054caa9fb5': 546,\n",
       "  '09ccc48287ba46f59a92d9ed89dec344': 547,\n",
       "  '09d4dc01d9d74d5d87f8b537f2e248b4': 548,\n",
       "  '09dc6bc32ad74886b405dc2f455ddb4e': 549,\n",
       "  '09dee7958cca49c3b32e3b3cf8ed1165': 550,\n",
       "  '09e73eeb14874fe69467f8c123091f50': 551,\n",
       "  '09e7e40eb89943458f4f79fe2e023dd6': 552,\n",
       "  '09eb3e5e84224d018376b4d92b00b815': 553,\n",
       "  '09f02acdfa6f44818fc46ecbbcb7356b': 554,\n",
       "  '09f6c78df51047dbb554388ca1e514b9': 555,\n",
       "  '09f9c7a696c340cf988d9a38c8a495e2': 556,\n",
       "  '0a0034a3fe9644d49d77729378751043': 557,\n",
       "  '0a00603b2632477983033b51a5a05a73': 558,\n",
       "  '0a03ef333feb47db93bf30d6ef41b239': 559,\n",
       "  '0a0730c8bc904102a088b1e2e9b6e7a7': 560,\n",
       "  '0a080bbcdf104247b383fa8fe4e99385': 561,\n",
       "  '0a08679f042649e6b771d3fd7f6d69e7': 562,\n",
       "  '0a0bb27cb9904b638d376ad1c6d09e81': 563,\n",
       "  '0a0e0f2c65304dd2ae36d854baac2cbe': 564,\n",
       "  '0a13150de06440bea92ed6aeaadf5b9d': 565,\n",
       "  '0a16939f97dd42e39272e5ea36163a64': 566,\n",
       "  '0a197ecc873f4c04998372999e80ce79': 567,\n",
       "  '0a20aacc0b0040598997c1a6d829d8e0': 568,\n",
       "  '0a225a4c15904951b5b31d949a0d968a': 569,\n",
       "  '0a28210b220047fb88b58fe001f940c0': 570,\n",
       "  '0a2d08c3970c4d2181711b61f4f9cb31': 571,\n",
       "  '0a2d35d038d04a3698c382cc9cb976f9': 572,\n",
       "  '0a331bcbd92f4719ab8ad2223fd588fe': 573,\n",
       "  '0a34323c7f254960979fb7c6cafa6b3c': 574,\n",
       "  '0a3a378dedac4d5f80aa616e5c8007b3': 575,\n",
       "  '0a3a8cc5e3d64253b7300797cb07c818': 576,\n",
       "  '0a3b7be9b7d44dbc9e02db3b86d19e28': 577,\n",
       "  '0a3c4a0c066d49f1ad4eb52987a0fb05': 578,\n",
       "  '0a3e6bcfc66445babbaeee2ce9a9fd85': 579,\n",
       "  '0a3fe7f225ef42798190a1654b9a43ac': 580,\n",
       "  '0a4153113a484ad8bf54b623d9ab3504': 581,\n",
       "  '0a43626c07724771836f653098a19ec8': 582,\n",
       "  '0a445954a2f749df8f0811d466dd31e0': 583,\n",
       "  '0a47df892c774c7aae037b231baae5db': 584,\n",
       "  '0a4a8c491ba646b89638bd32cb9ed0e3': 585,\n",
       "  '0a514b89adbc4ace99b6c22782c6fd71': 586,\n",
       "  '0a53d7787b594ba79e69cf19de80a8c9': 587,\n",
       "  '0a5431e766764fc09ef2e123c930b212': 588,\n",
       "  '0a56a31dc8614353abf47c5a027e657b': 589,\n",
       "  '0a56aac1e1b34467aabab91930db6786': 590,\n",
       "  '0a570779782948acb54f2f8e31a49c21': 591,\n",
       "  '0a59aabdf1fc4f999711d65fb84c4f90': 592,\n",
       "  '0a5bf99f04044a00b1c51b0ab02201af': 593,\n",
       "  '0a68034a1858477e8053ca18a05c213c': 594,\n",
       "  '0a6d56d11a9b43bdb6aec1be26ae3f52': 595,\n",
       "  '0a73c45eda784402957f033343dabeed': 596,\n",
       "  '0a79a089b9d543438ba577e66e0eea82': 597,\n",
       "  '0a7ac081fbc147cf827c5df27db32f00': 598,\n",
       "  '0a7c7af5e814481b8e4a4a3b6e2f8697': 599,\n",
       "  '0a85562cbc1d4e92b66d6ff67e629d55': 600,\n",
       "  '0a892db1033e4da3bc8ac7435f1646d9': 601,\n",
       "  '0a93a485420b4285949568ff618d10df': 602,\n",
       "  '0a947767586e4587b06b8ca3efc3c8e7': 603,\n",
       "  '0a94b618de1b435dbcfa1989e8c43ce8': 604,\n",
       "  '0a9749f5782748e2933622664a8309af': 605,\n",
       "  '0a97bf47a35e4668bd43d5d9dde64148': 606,\n",
       "  '0a9fe790648c471bb8ee7bd554ce3122': 607,\n",
       "  '0aad47034065492095f29d3a6003c9f2': 608,\n",
       "  '0aaeeafa15f44a7fbd10feb66bb9534e': 609,\n",
       "  '0ab26a89e3494acd922ea9fd0ff938e5': 610,\n",
       "  '0ab5c869c82648e88d2780562e7835d8': 611,\n",
       "  '0ab68614da78404e978ce963c230bd45': 612,\n",
       "  '0abb3f3cf3634fd4866a22052f8c9e5f': 613,\n",
       "  '0abc1b42c9bb48398c8b774e1be725bc': 614,\n",
       "  '0abf09a9470a46c392425e988493ecef': 615,\n",
       "  '0ac22ea0a7234c7898ce445e9a67a73b': 616,\n",
       "  '0ac4004c9f854997b8c9697dc9bbdd8f': 617,\n",
       "  '0ac4ad9e2a114350a35d4bd48cb92617': 618,\n",
       "  '0ac4cc504d9047d3aac00d5c8417f784': 619,\n",
       "  '0ac5ffb0f1624297a453494b845e1a91': 620,\n",
       "  '0ac73ba2449646378b3f72a7a677cc3a': 621,\n",
       "  '0acaa564f18b418ba642e2a4ff3e028d': 622,\n",
       "  '0acca8aae113433999f7de6a5c32497c': 623,\n",
       "  '0ad738158c52421eb5db2d42a1ad166c': 624,\n",
       "  '0ad8a9771c59432f9641e48212b2ccb9': 625,\n",
       "  '0ae0111e8e394788879bd78cd520d8a0': 626,\n",
       "  '0ae29213aca44708a61a65ddac56b0d1': 627,\n",
       "  '0ae3f297443a40f9b081f5dec14e6ad6': 628,\n",
       "  '0ae565c6ebc5417db7f6d2ee5eaabe72': 629,\n",
       "  '0aea37c300ba4262b523881c7112484d': 630,\n",
       "  '0afacad54c614b348139fcf6a6e19c7a': 631,\n",
       "  '0b0e7c84cee54feebc11f81bb2aa8fb9': 632,\n",
       "  '0b1b8fa8117043b09e75518860f3ee8d': 633,\n",
       "  '0b21a1c16247452ba0cb77ad3a8bb370': 634,\n",
       "  '0b250fe9fab14dac96ba542a572da081': 635,\n",
       "  '0b254a1b95384340af47130bc63ee76b': 636,\n",
       "  '0b265c689a2b406095d5aec5b33bded9': 637,\n",
       "  '0b2c053116874c8abe7c1c4aa9af7e24': 638,\n",
       "  '0b321fdc45364a67858a81b59da7f943': 639,\n",
       "  '0b38476159e746b58c10c4090c69fe65': 640,\n",
       "  '0b3878783eed4009993f706e51f19d9e': 641,\n",
       "  '0b46f27233cf4f56b5ed434eccf401aa': 642,\n",
       "  '0b4c43b9cba1408a91dbf48c44b8026a': 643,\n",
       "  '0b506f0a7c814c5f8bddd0634f9fa90c': 644,\n",
       "  '0b538fb7a1b44847a237b9f7eb825755': 645,\n",
       "  '0b54aa822f7b44e6b023cea1a0e8d8a0': 646,\n",
       "  '0b5849cbbac74a1baa249064988f89f1': 647,\n",
       "  '0b5dbd14f53748c0b91f7d72b4ee60e6': 648,\n",
       "  '0b5e0b7de9bb42d9bc4a728be1626509': 649,\n",
       "  '0b5f7c9086c24311a971fef614bafd22': 650,\n",
       "  '0b63d4cabf5f4c1eab0277c6c1b09362': 651,\n",
       "  '0b64be3b241c4407a5c9a71781173829': 652,\n",
       "  '0b680efe1a0a40788ebb6fb2c587b4a7': 653,\n",
       "  '0b6b453772ea4c3a963e92ae2b0817a2': 654,\n",
       "  '0b6c775f84a8435a9083900e1cb43ec9': 655,\n",
       "  '0b73997a269247088b2a63355f53ee58': 656,\n",
       "  '0b7b452e6b9042839d3d6d15c057d23e': 657,\n",
       "  '0b83ad12131140a9bd1b2e5e1ae457e4': 658,\n",
       "  '0b8503be108149b58bdd5f1827612fdc': 659,\n",
       "  '0b854279718f4295a7a6bae7cd7ee2e3': 660,\n",
       "  '0b8684abe074418d9ec08eee090f1859': 661,\n",
       "  '0b86e2ad1f2140db8dc4db1b71e1e73a': 662,\n",
       "  '0b9248aa06a24ff991321150b8b56098': 663,\n",
       "  '0b931f3c0c9049dd825fc371e4d759f9': 664,\n",
       "  '0b99a9ca8c8946cda19fe7b27df89a2b': 665,\n",
       "  '0b99c75c3e0e424fafe2975a64d66e00': 666,\n",
       "  '0b9c42f29edd4e0cbbcdc22ebdeb937c': 667,\n",
       "  '0b9cac742f534951b5af48395dfe6879': 668,\n",
       "  '0b9d749dd7c4461c8b4547eea2ddaa65': 669,\n",
       "  '0ba0d7ac80a94d28b831018681656c8d': 670,\n",
       "  '0ba55f2ffeef4c70b34e1838ee36f920': 671,\n",
       "  '0ba6584a372247e68f0ddcbf98316a0a': 672,\n",
       "  '0ba6e2ad781c4429afd26cf0b35f2d11': 673,\n",
       "  '0ba8b605e9ab4114b55d26c267fdff7f': 674,\n",
       "  '0bab4b4713984db0ac68a9a42f6af163': 675,\n",
       "  '0bb2879db8a0458fa7cb17280a54847f': 676,\n",
       "  '0bb50a84fe1040c69f941f6f34f751b2': 677,\n",
       "  '0bb56cebce3342c0a71fd5aca70abab2': 678,\n",
       "  '0bbcf0985bd04fc4bbf77b4500ada512': 679,\n",
       "  '0bc0a681c7a74a4abd36563d3f3646b2': 680,\n",
       "  '0bc7c49f736c4a7fb104595df8c54d74': 681,\n",
       "  '0bcecfedf7e448b08e5ed4c00f47217d': 682,\n",
       "  '0bd0abaa6fca42d8b186c24c78358fa6': 683,\n",
       "  '0bdd63f5331b4c7eb571a9cbecfb4fb7': 684,\n",
       "  '0be4d6e6e5a64e4eaca901db0b124fbe': 685,\n",
       "  '0be57c9e9b2048a7b769669347c6c138': 686,\n",
       "  '0be7a1517b0549c991926c94869d8fb5': 687,\n",
       "  '0bea4d4182784e1386cb56e0eb3cc35d': 688,\n",
       "  '0bfbad000b9844b3bc6753262251ecd2': 689,\n",
       "  '0bfbcb94ca614b198f1786bd29fc9b4b': 690,\n",
       "  '0bfc794e24c146ceb5c899579e77b940': 691,\n",
       "  '0c027f5f34dd4b9eba0a25785c611273': 692,\n",
       "  '0c0af42e1e804ded94eb5d73dfffbb6f': 693,\n",
       "  '0c1c3ea43216407eb168841c1a140337': 694,\n",
       "  '0c1f4e74e76849b08588f8b5cd3aade7': 695,\n",
       "  '0c286a286b4a4ed982768df3a7e8a8d1': 696,\n",
       "  '0c2ade08c3324036901605a050fc3c69': 697,\n",
       "  '0c3b3be85e534b709670a6652fb30527': 698,\n",
       "  '0c3e283397d74cd9a3f535c7dd1d188c': 699,\n",
       "  '0c41798831f44abfbe474aba2ee0a802': 700,\n",
       "  '0c4469885bf54976a3a595ec6acc3847': 701,\n",
       "  '0c4823420e2a4d53801e6d71874aaa65': 702,\n",
       "  '0c48cec9c44b4b47923a70dcb0641662': 703,\n",
       "  '0c57fbefe3fd4fdf8c275ed3da65f871': 704,\n",
       "  '0c643a90af774f3eb7f730f80f3e5b4c': 705,\n",
       "  '0c6831f7dc144972882bbeaf710e2034': 706,\n",
       "  '0c6ba803d2c84d71b0f0980a03912398': 707,\n",
       "  '0c6ef3d7dde644c897e95f6129b55d86': 708,\n",
       "  '0c74d9a15b9f4b4aa85e150e55b9beb6': 709,\n",
       "  '0c7ba4aca9f3477ba0d105f3763f5871': 710,\n",
       "  '0c88140597254428ba857b1e6782bce1': 711,\n",
       "  '0c89378f14804b42b6e63e4dc26e8d3e': 712,\n",
       "  '0c8cb8d4ccdd4aa2a9bb93c3bf4b3dc4': 713,\n",
       "  '0c8e04f373a04738969178acc25b3238': 714,\n",
       "  '0c8f2163ee564e05a6b07a27adea0ca9': 715,\n",
       "  '0c945946715c4d2d98af6d20786c28e8': 716,\n",
       "  '0c9c4852f7a04dc8be4865dac3e75d5d': 717,\n",
       "  '0c9fe9389f694052a6296b425cdb0d86': 718,\n",
       "  '0ca46c6ce97a4f0eb2b64423527f86b5': 719,\n",
       "  '0caa5fbb22264d78a9608ce3761761e7': 720,\n",
       "  '0cade469f8204713a1ea0ad29d578c0d': 721,\n",
       "  '0cb948aa329f4902afa2e3f19af6dec9': 722,\n",
       "  '0cbb467090b142ca89d238bf9a9a3b4d': 723,\n",
       "  '0cbc5b2f775f4ae69b79196ec2ee061e': 724,\n",
       "  '0cc0066758e647e3adb2e9d06eb7de59': 725,\n",
       "  '0cc00e05b6be41e78d8385f64ccb5e15': 726,\n",
       "  '0cc13b3094c7473aa4fd1a6b35d25652': 727,\n",
       "  '0cc67e089ff64108a2fa117971f666f9': 728,\n",
       "  '0cc6e8553c844c02ab525bc466aa569b': 729,\n",
       "  '0cca2a7a1b6c44c9b0c7b78856dfd40b': 730,\n",
       "  '0cdb6f990b804f3fa1ee88c757bfff86': 731,\n",
       "  '0cdbae04f7394db9b09a905291336ea6': 732,\n",
       "  '0cdc033bb1f44552a01956cbe57a43a6': 733,\n",
       "  '0ce0ba52448e482590a6ddd885050b3d': 734,\n",
       "  '0ce9a07602cc40c298a27089b5f2175a': 735,\n",
       "  '0cebf0c50b1f4aa7a403380b2851109b': 736,\n",
       "  '0cec20d571574e2d810148b0e26b2047': 737,\n",
       "  '0cf2ddcf6c034ac9906831614a360d0d': 738,\n",
       "  '0cf6244daee84b73afb0c96ff4ad3454': 739,\n",
       "  '0cfa52f4335642c9a7602854eb509d9c': 740,\n",
       "  '0cfb5a7caa0e4bc89aeff1849c4f4fe3': 741,\n",
       "  '0cfc8087b52b413f98f20f433ca54b23': 742,\n",
       "  '0cfc87a1aec942fd9c6055add7179075': 743,\n",
       "  '0cfff5bcbc2c4da8b633fb7b06593625': 744,\n",
       "  '0d069e0def304114b261daa9695433ba': 745,\n",
       "  '0d090272e52845acab67d8eaf8960366': 746,\n",
       "  '0d0a9ca9281248a8a35806c9ae68f872': 747,\n",
       "  '0d0c8b66f0954686ad82e5eb8a61baf6': 748,\n",
       "  '0d13a6068f4448799bd2faf79a6f2e95': 749,\n",
       "  '0d15aeb66e044f26b1a50c678cef7fe4': 750,\n",
       "  '0d18c37c8b58459f8aa6af2f7b541357': 751,\n",
       "  '0d1f4bc41883493ba6f72af2485bab65': 752,\n",
       "  '0d20a089f54045539b2ee9b292c0cdc8': 753,\n",
       "  '0d21bafce46a417d9488c090367278e1': 754,\n",
       "  '0d24a49bc2ca4b38834bd30114979ee9': 755,\n",
       "  '0d24afa153544549ac3117f32fdd9072': 756,\n",
       "  '0d2aa8fa2faf49a383bf5b02d67d62da': 757,\n",
       "  '0d2c8f6e2cd441bbbbfaf0036c41630d': 758,\n",
       "  '0d3451dbd862480caf1f408154c18887': 759,\n",
       "  '0d3dc68161a243b3931832164030ff8b': 760,\n",
       "  '0d430e04265c4049809fe2ce680940ee': 761,\n",
       "  '0d50a9abf52442e29e484474cc8d0d68': 762,\n",
       "  '0d52476253874872970140a42a277a2b': 763,\n",
       "  '0d56277b07ed4a8bb3a19325803e3579': 764,\n",
       "  '0d58682ece0e4b788eff41f6d805314e': 765,\n",
       "  '0d5b03d6662f4a789fa24f8383ace671': 766,\n",
       "  '0d5c1536f389406fb476f63658c20fda': 767,\n",
       "  '0d5eac9a9e284f75b81b6d664a65c188': 768,\n",
       "  '0d6c058f1193416781734b5886fcbc4e': 769,\n",
       "  '0d6cc5eb3fb84a05aaa042abfd286945': 770,\n",
       "  '0d71469761604d3688ca099ff09a403f': 771,\n",
       "  '0d732f0791d34ef393aa6dee0b260ede': 772,\n",
       "  '0d74b166a5e54b269795dbaf38c6dfae': 773,\n",
       "  '0d78e1683bdb47f2919a8b4a62e6488d': 774,\n",
       "  '0d837358d66749459ddafd22b85f722f': 775,\n",
       "  '0d8d6d7dbda1470792c74b8fb1f82f36': 776,\n",
       "  '0d8ed206607c4ff98c9222339de108f2': 777,\n",
       "  '0d92e7575a224263927f4f0307284441': 778,\n",
       "  '0d9532ebd7394223a47f93849cc8eee1': 779,\n",
       "  '0d96a963d3e94044aa7934276db005e4': 780,\n",
       "  '0d9a55f4493544deaf6b1dbc007373b8': 781,\n",
       "  '0d9a6758e02e4e11a68d48c22ccd8901': 782,\n",
       "  '0daad40a375348329d90f625a13a1e3f': 783,\n",
       "  '0dab5a72d09e42ee957a574567a5ad3f': 784,\n",
       "  '0dae72f0da8849e9b0f95050e6c69856': 785,\n",
       "  '0db38d21da2e4d17b1b0b43320b7ebab': 786,\n",
       "  '0dc5a10c6c654387b7e1298724a464e1': 787,\n",
       "  '0dc85918181e4c3eb0e412d37fa8a552': 788,\n",
       "  '0dcdc92ac2c74dacb1e53bb046398cec': 789,\n",
       "  '0dce458d31ae427cb2fe83841dc236b4': 790,\n",
       "  '0dd489ee7a524f6c81947243b4ced288': 791,\n",
       "  '0dd96a99c8814d0c9ce06a4f1aadbb9c': 792,\n",
       "  '0de1bbba4f4c4723a088e5739d2fd592': 793,\n",
       "  '0de7e5bda8e84fcfa7c67bf87170c88e': 794,\n",
       "  '0de88a1f670a470ab5dda5e4242bcbb9': 795,\n",
       "  '0def8320fc9e4ec1a74e75bd3e1a993f': 796,\n",
       "  '0df14ab3f3274a0bbc4c76acef224f02': 797,\n",
       "  '0dffd428f9f94f60aaf80dd5ac210206': 798,\n",
       "  '0e03241e165b4686a2e5e546d499e637': 799,\n",
       "  '0e0b661dcd6e456c816747eaf0342057': 800,\n",
       "  '0e14aee174bf42e6821720e733e112de': 801,\n",
       "  '0e1578217ad7455d8cb08509eeee1aee': 802,\n",
       "  '0e18338db3524564870a52ee5cfe68a4': 803,\n",
       "  '0e1ba2f7bef34c4788328679e52fd56c': 804,\n",
       "  '0e1bcbaa5ca64055a1ebc360886b1c17': 805,\n",
       "  '0e1c6bc99dc34d8d82d7a0048de8501e': 806,\n",
       "  '0e1d61a719e54bf596e45f1b4948b3d0': 807,\n",
       "  '0e28b22b5f68463baff0f9e4d8353797': 808,\n",
       "  '0e2a283e9c2247678cd7fb69009b13ac': 809,\n",
       "  '0e3186ea9b0b4c378f89e413ee6ff69b': 810,\n",
       "  '0e389daa5f5b428489ddabfdc0eb9f7b': 811,\n",
       "  '0e3b4b66438c4b52a1b050daa1ae8cc7': 812,\n",
       "  '0e3dc1b57ab447199f7e7f223981a37c': 813,\n",
       "  '0e40f7b94c2b424285625d310311f3d6': 814,\n",
       "  '0e4e14ea66044a9eaee0b5efbff6ca62': 815,\n",
       "  '0e5242be49104c608825b24ee7b85fad': 816,\n",
       "  '0e5b96f4d09a4bad94da8b04b0ed9a4e': 817,\n",
       "  '0e6943735578469cada541e3654a5693': 818,\n",
       "  '0e6d0e08329c4d0c90987d234f0983d2': 819,\n",
       "  '0e6e271d144946de863574da082c1837': 820,\n",
       "  '0e6f81eb2b924f55abc1d7ddcf9e0424': 821,\n",
       "  '0e72fad934a74c2c97a98c525d64f738': 822,\n",
       "  '0e7599f5c84247ea82c1495180158042': 823,\n",
       "  '0e75eea1fe5d40dd822e9f311738400e': 824,\n",
       "  '0e7642435a514809ab74563c86245c61': 825,\n",
       "  '0e79ee043ba442189e07d907c5590c98': 826,\n",
       "  '0e7a9c1d1ebd4ed4a77dee9edaad8093': 827,\n",
       "  '0e7dbeabb5bb42ccafdca4aa7f155485': 828,\n",
       "  '0e7e49b5e82f4003a070c7ba7e5c41ba': 829,\n",
       "  '0e7f9c775784453d8504e4a480d56c8e': 830,\n",
       "  '0e845251823e427c90265e3ca04f1e2f': 831,\n",
       "  '0e881591e52e48c6bf80c9e02e6a2aa8': 832,\n",
       "  '0e957fd8c76e40b8bf5beb169a575412': 833,\n",
       "  '0ea0f06e30bf4802afd33b531f871e6e': 834,\n",
       "  '0ea1f0bb1ba245abbf709b962d326dd7': 835,\n",
       "  '0ea6ca65121843f4832440ccd6c28973': 836,\n",
       "  '0eaa2ea23fff4edaacc67bfad21553e0': 837,\n",
       "  '0eaa9e50ca864649b365f7da4121ed31': 838,\n",
       "  '0eab0b968b7e46898abd1567ad1f7539': 839,\n",
       "  '0eaf4d62f1254762a37507c33aff24dc': 840,\n",
       "  '0eb1e015491241889fd6bfdf0794f052': 841,\n",
       "  '0eb51351d07c4bdba4ed8db8b3fb2392': 842,\n",
       "  '0ebc3c4c39234ab6a2701fe2525705a9': 843,\n",
       "  '0ebdcb7cf7454897882063fcaf6ef948': 844,\n",
       "  '0ebe2aec9774444a9be339aadbb817b4': 845,\n",
       "  '0ec30c57402945a6af2418582bf2c570': 846,\n",
       "  '0ec49da4a6d54229ad3c450cba7701f4': 847,\n",
       "  '0ec92c145b6e46e4b453b0a12099b404': 848,\n",
       "  '0eca500cc9b449f2a134bcd37990d539': 849,\n",
       "  '0ecc8a63f8ce437aaec064b14cd5813f': 850,\n",
       "  '0ed8629b96cf4b1bb5d7375660cd9b04': 851,\n",
       "  '0eda310a2b0c4e808af13f68afc81eea': 852,\n",
       "  '0edd6d3a7fdc444d9a00efe6a024e925': 853,\n",
       "  '0ee730ab06b448d29aff60a13d0709dc': 854,\n",
       "  '0eea703cbb0a47eeace88cfcde0ac89a': 855,\n",
       "  '0eed1b43c7924182a635f0597fdf2adf': 856,\n",
       "  '0ef5270c4e634eccbfcf23a172921a8d': 857,\n",
       "  '0efb3efdcd0d4d8296e1c47265b07660': 858,\n",
       "  '0eff8ea94ef445e09ce45cb22e5f09f8': 859,\n",
       "  '0f040996f2f64f2195dba68117bacde1': 860,\n",
       "  '0f0c770d5eaa4ebe9ca67f8c5c240f76': 861,\n",
       "  '0f0d1325cdf646bea396a91d4868f7dd': 862,\n",
       "  '0f1423b731ae48a2a82253abfc8d8c54': 863,\n",
       "  '0f14c97e012049359320876b8dffef58': 864,\n",
       "  '0f174c618a6f42d59388c6f07d1ef9a6': 865,\n",
       "  '0f1927ad064b43f4ae26d06a9d52416f': 866,\n",
       "  '0f1a6784bf944bd886e4ddcbd229a224': 867,\n",
       "  '0f1af368427e4edb931bf92763762812': 868,\n",
       "  '0f1c35c45ffa45deb5f96ca742409dc1': 869,\n",
       "  '0f1d40baf5fd438ea8d699a721467c1b': 870,\n",
       "  '0f2c815583284499a7045ebb875a4237': 871,\n",
       "  '0f323f6a9ad945fa9fdf0a9085c39ed4': 872,\n",
       "  '0f457f3ccf254eb0af0921ddd996b504': 873,\n",
       "  '0f45882b7ebf44be98626ba118e034a4': 874,\n",
       "  '0f46a272dd8b4b789e31f910653fc8f4': 875,\n",
       "  '0f4a68826e204f45be2a1103dcc5b014': 876,\n",
       "  '0f4a7a715cfc440796175a7c5afb168f': 877,\n",
       "  '0f4ea68d60614ce2a683c039425f160c': 878,\n",
       "  '0f4eeccda01547bdaa30113a09725a2b': 879,\n",
       "  '0f514f07701a4ae99075ba8826c9ba44': 880,\n",
       "  '0f54094029ca4107bfd36203aeb3ed14': 881,\n",
       "  '0f5cb923d0a74415aca9ce5dd0c60e46': 882,\n",
       "  '0f5cd14cf15242bfabac7836af6b1653': 883,\n",
       "  '0f5f04b19ad149eab00dca33360fb8e2': 884,\n",
       "  '0f628df0d3fb4e1192f156de98ec4a0b': 885,\n",
       "  '0f637145a20445b1bfb484df49062340': 886,\n",
       "  '0f6496ef526940d3a2e091ed2a3056d7': 887,\n",
       "  '0f6b76564fbb446c977f5330b3d8567c': 888,\n",
       "  '0f6cf9619c4341e89a099e951300a2ea': 889,\n",
       "  '0f6ff347c72c45ecb8a10010061419cb': 890,\n",
       "  '0f7594c807334a22a181ffe7a0e6f1b9': 891,\n",
       "  '0f792a0ea8cb4a6c86cf52c055f1510f': 892,\n",
       "  '0f805acee74a41569d7a467285231bf0': 893,\n",
       "  '0f876bcb1d2f48b9bb905d31e72ea01c': 894,\n",
       "  '0fa86ae026dc4ed3a9ec0f4676239e9d': 895,\n",
       "  '0fa904f04da74ef5bd2bd52cd22fc792': 896,\n",
       "  '0fa9cb0814914f778995e061d4460e1a': 897,\n",
       "  '0faa918444744117808623014e14ce7e': 898,\n",
       "  '0fb53c5429d54a50a82803a7e1f03f25': 899,\n",
       "  '0fb6a9f16f5d4ef19645892199b798a1': 900,\n",
       "  '0fc637442b954432b13c360af61d4256': 901,\n",
       "  '0fc77fd7b2b24809826e1d3825fed3d8': 902,\n",
       "  '0fc796ac46bb4532bf8d4ef0e43851cc': 903,\n",
       "  '0fc95fc35cb146e7a494f12c47081d20': 904,\n",
       "  '0fca718a20f74f078c4fb7cc1cbd7c77': 905,\n",
       "  '0fd8305cb5f94b369ed682d8940176c9': 906,\n",
       "  '0fd94650b0bd46c29140b2742eed0bea': 907,\n",
       "  '0fda2dbf2fc047ffb6910ca2134cbdd3': 908,\n",
       "  '0fe1d8274f7f42d1b211529b939c7b08': 909,\n",
       "  '0fe517e9c3c841518e39be9bf741807a': 910,\n",
       "  '0feae7e549c7437e9f8d8dfb65423fc6': 911,\n",
       "  '0fef5deff281421ea470b939ffce1e30': 912,\n",
       "  '0ff208c9b551457db756758715073af5': 913,\n",
       "  '0ff34474e5b245b79f396d4c5ddef96c': 914,\n",
       "  '0ff3736229e8441782cd2ff18571e2c5': 915,\n",
       "  '0ff55591a7c54f74b0c125c9ba18590d': 916,\n",
       "  '0ff807928b5a4975befa9d967f31120a': 917,\n",
       "  '100a681a8c534df095ee4aedfe9fdc22': 918,\n",
       "  '100c2a889ba6424f9237fbfe0347c526': 919,\n",
       "  '10293859aee544a8910d06dc0c62c7e7': 920,\n",
       "  '1029b283ed2d4fa8b3a97e2063fc8d4e': 921,\n",
       "  '102e9454054946fda62242d2e176fdce': 922,\n",
       "  '102f765955ad4c28b922dc7858729f16': 923,\n",
       "  '10316535e185400fb093c371d62254e3': 924,\n",
       "  '1037671bee8d419d8bbc2105f4cd00ba': 925,\n",
       "  '1037d130e5e14c1a8b40bbf7219fb9a8': 926,\n",
       "  '103e3c78ecbe43b49640ce8368fae444': 927,\n",
       "  '1040712c862d47c2acd6bc1288e15648': 928,\n",
       "  '1042af9d04334a29beb957a03a850b9e': 929,\n",
       "  '1044403864ed41af9cc17577c185abc4': 930,\n",
       "  '104a73b6d8f049f0bdc9388ef4998526': 931,\n",
       "  '1058819f0dc84deabaa8efb0cba592a8': 932,\n",
       "  '1063ada827b040238f9d076ba71e6522': 933,\n",
       "  '106a0aa3ec754404b210cfce31790970': 934,\n",
       "  '106b6653b9814b478fccecb0a22546f0': 935,\n",
       "  '106c1ac833bc4bf7a9a8a1bf22340cac': 936,\n",
       "  '106ebd92bff94148b4948f52079e87dc': 937,\n",
       "  '1070b290f0474d14ae9c3ea18900662f': 938,\n",
       "  '1072640954974f2a9b4aff013d6c827f': 939,\n",
       "  '107ac28a201644068086b76c5de02fc8': 940,\n",
       "  '107c2d7acb4749428bc169dc0c29733b': 941,\n",
       "  '107e20bafe4c43b9ac081307cb37f9ac': 942,\n",
       "  '108651eb092b490d85cb4f8e492040a4': 943,\n",
       "  '10866c6b50f8488c90749df891cc31ef': 944,\n",
       "  '10983bae435748a3a300222adc9ee9ed': 945,\n",
       "  '109847d6d26e41999625e2db5bacf2ef': 946,\n",
       "  '1099fec5d4bd4c9caf1d9c29619b5a4c': 947,\n",
       "  '109c657e856f4722b46a9183aaaf8c95': 948,\n",
       "  '10a22481775043e1ba9776077e46c483': 949,\n",
       "  '10a5da9c4e80439286db884a52de6618': 950,\n",
       "  '10af934bbfb641a49d9376d61dcb203a': 951,\n",
       "  '10b64048925443fd8ec2792ea63de78c': 952,\n",
       "  '10b65a9ff6c24c45b07de5d3bdcd8e33': 953,\n",
       "  '10b82c47a87a403abe13dde32c5af8fc': 954,\n",
       "  '10ba807d1eba42c1a308633e8918bed3': 955,\n",
       "  '10ba891b9e464523b07bef8eceba125c': 956,\n",
       "  '10c4dfe0dd3940a4bc00b19c3e750764': 957,\n",
       "  '10c7525110514c32bf1b726e5274defe': 958,\n",
       "  '10c856f91710429d96c76e1cb4e0c3a5': 959,\n",
       "  '10c8734cbcc744a1975c581e4382d168': 960,\n",
       "  '10c9361517054a538aade27e19884bbc': 961,\n",
       "  '10cbaa18d359457d899edf285d85a9b4': 962,\n",
       "  '10cdcf9677bf4ee382d6395f4715686a': 963,\n",
       "  '10d6b9fa4ba04fcf81fae5bbf6ccedcb': 964,\n",
       "  '10dd862f7cdf4de196f567140f23d7f6': 965,\n",
       "  '10df5013f7904a138b004993150e4c8a': 966,\n",
       "  '10df92b3876142e8a6745c86276057e7': 967,\n",
       "  '10e4aeef401f4b7d8a700e365cca1a4b': 968,\n",
       "  '10e91caab3de4d23aa61963754483a33': 969,\n",
       "  '10f3c43478264fbab57b9e13c701c05b': 970,\n",
       "  '10f65c82431e4b73bb74ec02be0b60e4': 971,\n",
       "  '10f7af1a6eb943e58c133d1043866c35': 972,\n",
       "  '10f8311374194911a882362458020ebd': 973,\n",
       "  '11035b3619104703a57e7bafeb165163': 974,\n",
       "  '110afab45a7f46d8be78a01b954ad3e7': 975,\n",
       "  '110c4dd23ecd4d5f8fe5d462f4157120': 976,\n",
       "  '1113ece8623c4158abba83a8d6ff280d': 977,\n",
       "  '111b40bd65784e179b2e7ba13c481ca2': 978,\n",
       "  '111b775a2e034c70b33a94936c2a0a73': 979,\n",
       "  '111c0a4934bb4e2d8fb18ced11c5206e': 980,\n",
       "  '111c8272538f468c9801fd22d16ffcdc': 981,\n",
       "  '111e7c7f12e44468be1b5cba95e95a23': 982,\n",
       "  '112332d9986546f8a58ca5b77f9d823e': 983,\n",
       "  '1126f32b64ae44e9af6e0c8ce5f75dd9': 984,\n",
       "  '112b5ae4463b41acac4d1a10fcefe67b': 985,\n",
       "  '112cc38e64174facabfd265a62fc44c5': 986,\n",
       "  '11397ef4dbd94143819baaae093e621a': 987,\n",
       "  '113e6ab5018445b7a02f53e2362df509': 988,\n",
       "  '113f6d5a97c645d7b548104dff643738': 989,\n",
       "  '11423ed89bbb4f78943e6667fa9eee86': 990,\n",
       "  '1148ad32c9a74c2096e4cbbbf8bf681f': 991,\n",
       "  '11502ba3e3604bc1a1eb8b945c3f1eb5': 992,\n",
       "  '115bb87faca04ed7b545f8b8e95b2dd7': 993,\n",
       "  '115ef694cb0b4dd99dbfeebd15cd3b0f': 994,\n",
       "  '11642a741bf64c9f917cb5439cb4d580': 995,\n",
       "  '1166e30906394c4dba2e6dfa7cd7b465': 996,\n",
       "  '116f72494d5e45b794be3caaa31f4675': 997,\n",
       "  '1171d3d36718435a8a69c8c9e7a04867': 998,\n",
       "  '1171da73059e4fc0847181bfcc0fce7f': 999,\n",
       "  '11739d2b18cb43eeaeefb9806a252874': 1000,\n",
       "  ...}}"
      ]
     },
     "execution_count": 74,
     "metadata": {},
     "output_type": "execute_result"
    }
   ],
   "source": [
    "updated_customer_id"
   ]
  },
  {
   "cell_type": "code",
   "execution_count": 75,
   "metadata": {},
   "outputs": [],
   "source": [
    "preped_data.replace(updated_customer_id, inplace=True)"
   ]
  },
  {
   "cell_type": "code",
   "execution_count": 76,
   "metadata": {},
   "outputs": [
    {
     "data": {
      "text/html": [
       "<div>\n",
       "<style scoped>\n",
       "    .dataframe tbody tr th:only-of-type {\n",
       "        vertical-align: middle;\n",
       "    }\n",
       "\n",
       "    .dataframe tbody tr th {\n",
       "        vertical-align: top;\n",
       "    }\n",
       "\n",
       "    .dataframe thead th {\n",
       "        text-align: right;\n",
       "    }\n",
       "</style>\n",
       "<table border=\"1\" class=\"dataframe\">\n",
       "  <thead>\n",
       "    <tr style=\"text-align: right;\">\n",
       "      <th></th>\n",
       "      <th>reward</th>\n",
       "      <th>difficulty</th>\n",
       "      <th>duration</th>\n",
       "      <th>Offer_ID</th>\n",
       "      <th>Customer_ID</th>\n",
       "      <th>event</th>\n",
       "      <th>time</th>\n",
       "      <th>Profit</th>\n",
       "      <th>Loss</th>\n",
       "      <th>gender</th>\n",
       "      <th>...</th>\n",
       "      <th>Group_Mid_Aged_Adult</th>\n",
       "      <th>Group_Old_Aged_Adult</th>\n",
       "      <th>Group_Teenager</th>\n",
       "      <th>Group_Young_Adult</th>\n",
       "      <th>email</th>\n",
       "      <th>mobile</th>\n",
       "      <th>social</th>\n",
       "      <th>web</th>\n",
       "      <th>Monthly_date</th>\n",
       "      <th>Yearly_date</th>\n",
       "    </tr>\n",
       "  </thead>\n",
       "  <tbody>\n",
       "    <tr>\n",
       "      <th>0</th>\n",
       "      <td>1.0</td>\n",
       "      <td>0.5</td>\n",
       "      <td>0.571429</td>\n",
       "      <td>8</td>\n",
       "      <td>4365</td>\n",
       "      <td>1</td>\n",
       "      <td>0.000000</td>\n",
       "      <td>0.0</td>\n",
       "      <td>0.0</td>\n",
       "      <td>1</td>\n",
       "      <td>...</td>\n",
       "      <td>0</td>\n",
       "      <td>1</td>\n",
       "      <td>0</td>\n",
       "      <td>0</td>\n",
       "      <td>1</td>\n",
       "      <td>1</td>\n",
       "      <td>1</td>\n",
       "      <td>0</td>\n",
       "      <td>9</td>\n",
       "      <td>2017</td>\n",
       "    </tr>\n",
       "    <tr>\n",
       "      <th>1</th>\n",
       "      <td>1.0</td>\n",
       "      <td>0.5</td>\n",
       "      <td>0.571429</td>\n",
       "      <td>8</td>\n",
       "      <td>4365</td>\n",
       "      <td>2</td>\n",
       "      <td>0.142857</td>\n",
       "      <td>0.0</td>\n",
       "      <td>0.0</td>\n",
       "      <td>1</td>\n",
       "      <td>...</td>\n",
       "      <td>0</td>\n",
       "      <td>1</td>\n",
       "      <td>0</td>\n",
       "      <td>0</td>\n",
       "      <td>1</td>\n",
       "      <td>1</td>\n",
       "      <td>1</td>\n",
       "      <td>0</td>\n",
       "      <td>9</td>\n",
       "      <td>2017</td>\n",
       "    </tr>\n",
       "    <tr>\n",
       "      <th>2</th>\n",
       "      <td>1.0</td>\n",
       "      <td>0.5</td>\n",
       "      <td>0.571429</td>\n",
       "      <td>8</td>\n",
       "      <td>4365</td>\n",
       "      <td>1</td>\n",
       "      <td>0.705882</td>\n",
       "      <td>0.0</td>\n",
       "      <td>0.0</td>\n",
       "      <td>1</td>\n",
       "      <td>...</td>\n",
       "      <td>0</td>\n",
       "      <td>1</td>\n",
       "      <td>0</td>\n",
       "      <td>0</td>\n",
       "      <td>1</td>\n",
       "      <td>1</td>\n",
       "      <td>1</td>\n",
       "      <td>0</td>\n",
       "      <td>9</td>\n",
       "      <td>2017</td>\n",
       "    </tr>\n",
       "    <tr>\n",
       "      <th>3</th>\n",
       "      <td>1.0</td>\n",
       "      <td>0.5</td>\n",
       "      <td>0.571429</td>\n",
       "      <td>8</td>\n",
       "      <td>4365</td>\n",
       "      <td>2</td>\n",
       "      <td>0.714286</td>\n",
       "      <td>0.0</td>\n",
       "      <td>0.0</td>\n",
       "      <td>1</td>\n",
       "      <td>...</td>\n",
       "      <td>0</td>\n",
       "      <td>1</td>\n",
       "      <td>0</td>\n",
       "      <td>0</td>\n",
       "      <td>1</td>\n",
       "      <td>1</td>\n",
       "      <td>1</td>\n",
       "      <td>0</td>\n",
       "      <td>9</td>\n",
       "      <td>2017</td>\n",
       "    </tr>\n",
       "    <tr>\n",
       "      <th>4</th>\n",
       "      <td>1.0</td>\n",
       "      <td>0.5</td>\n",
       "      <td>0.571429</td>\n",
       "      <td>8</td>\n",
       "      <td>4365</td>\n",
       "      <td>3</td>\n",
       "      <td>0.714286</td>\n",
       "      <td>1.0</td>\n",
       "      <td>0.0</td>\n",
       "      <td>1</td>\n",
       "      <td>...</td>\n",
       "      <td>0</td>\n",
       "      <td>1</td>\n",
       "      <td>0</td>\n",
       "      <td>0</td>\n",
       "      <td>1</td>\n",
       "      <td>1</td>\n",
       "      <td>1</td>\n",
       "      <td>0</td>\n",
       "      <td>9</td>\n",
       "      <td>2017</td>\n",
       "    </tr>\n",
       "    <tr>\n",
       "      <th>5</th>\n",
       "      <td>0.0</td>\n",
       "      <td>0.0</td>\n",
       "      <td>0.142857</td>\n",
       "      <td>4</td>\n",
       "      <td>4365</td>\n",
       "      <td>1</td>\n",
       "      <td>0.571429</td>\n",
       "      <td>0.0</td>\n",
       "      <td>0.0</td>\n",
       "      <td>1</td>\n",
       "      <td>...</td>\n",
       "      <td>0</td>\n",
       "      <td>1</td>\n",
       "      <td>0</td>\n",
       "      <td>0</td>\n",
       "      <td>1</td>\n",
       "      <td>1</td>\n",
       "      <td>0</td>\n",
       "      <td>1</td>\n",
       "      <td>9</td>\n",
       "      <td>2017</td>\n",
       "    </tr>\n",
       "    <tr>\n",
       "      <th>6</th>\n",
       "      <td>0.0</td>\n",
       "      <td>0.0</td>\n",
       "      <td>0.142857</td>\n",
       "      <td>4</td>\n",
       "      <td>4365</td>\n",
       "      <td>2</td>\n",
       "      <td>0.655462</td>\n",
       "      <td>0.0</td>\n",
       "      <td>0.0</td>\n",
       "      <td>1</td>\n",
       "      <td>...</td>\n",
       "      <td>0</td>\n",
       "      <td>1</td>\n",
       "      <td>0</td>\n",
       "      <td>0</td>\n",
       "      <td>1</td>\n",
       "      <td>1</td>\n",
       "      <td>0</td>\n",
       "      <td>1</td>\n",
       "      <td>9</td>\n",
       "      <td>2017</td>\n",
       "    </tr>\n",
       "    <tr>\n",
       "      <th>7</th>\n",
       "      <td>0.5</td>\n",
       "      <td>1.0</td>\n",
       "      <td>1.000000</td>\n",
       "      <td>1</td>\n",
       "      <td>4365</td>\n",
       "      <td>1</td>\n",
       "      <td>0.235294</td>\n",
       "      <td>0.0</td>\n",
       "      <td>0.0</td>\n",
       "      <td>1</td>\n",
       "      <td>...</td>\n",
       "      <td>0</td>\n",
       "      <td>1</td>\n",
       "      <td>0</td>\n",
       "      <td>0</td>\n",
       "      <td>1</td>\n",
       "      <td>0</td>\n",
       "      <td>0</td>\n",
       "      <td>1</td>\n",
       "      <td>9</td>\n",
       "      <td>2017</td>\n",
       "    </tr>\n",
       "    <tr>\n",
       "      <th>8</th>\n",
       "      <td>0.5</td>\n",
       "      <td>1.0</td>\n",
       "      <td>1.000000</td>\n",
       "      <td>1</td>\n",
       "      <td>4365</td>\n",
       "      <td>2</td>\n",
       "      <td>0.243697</td>\n",
       "      <td>0.0</td>\n",
       "      <td>0.0</td>\n",
       "      <td>1</td>\n",
       "      <td>...</td>\n",
       "      <td>0</td>\n",
       "      <td>1</td>\n",
       "      <td>0</td>\n",
       "      <td>0</td>\n",
       "      <td>1</td>\n",
       "      <td>0</td>\n",
       "      <td>0</td>\n",
       "      <td>1</td>\n",
       "      <td>9</td>\n",
       "      <td>2017</td>\n",
       "    </tr>\n",
       "    <tr>\n",
       "      <th>9</th>\n",
       "      <td>0.5</td>\n",
       "      <td>1.0</td>\n",
       "      <td>1.000000</td>\n",
       "      <td>1</td>\n",
       "      <td>4365</td>\n",
       "      <td>3</td>\n",
       "      <td>0.252101</td>\n",
       "      <td>0.5</td>\n",
       "      <td>0.0</td>\n",
       "      <td>1</td>\n",
       "      <td>...</td>\n",
       "      <td>0</td>\n",
       "      <td>1</td>\n",
       "      <td>0</td>\n",
       "      <td>0</td>\n",
       "      <td>1</td>\n",
       "      <td>0</td>\n",
       "      <td>0</td>\n",
       "      <td>1</td>\n",
       "      <td>9</td>\n",
       "      <td>2017</td>\n",
       "    </tr>\n",
       "  </tbody>\n",
       "</table>\n",
       "<p>10 rows × 25 columns</p>\n",
       "</div>"
      ],
      "text/plain": [
       "   reward  difficulty  duration  Offer_ID  Customer_ID  event      time  \\\n",
       "0     1.0         0.5  0.571429         8         4365      1  0.000000   \n",
       "1     1.0         0.5  0.571429         8         4365      2  0.142857   \n",
       "2     1.0         0.5  0.571429         8         4365      1  0.705882   \n",
       "3     1.0         0.5  0.571429         8         4365      2  0.714286   \n",
       "4     1.0         0.5  0.571429         8         4365      3  0.714286   \n",
       "5     0.0         0.0  0.142857         4         4365      1  0.571429   \n",
       "6     0.0         0.0  0.142857         4         4365      2  0.655462   \n",
       "7     0.5         1.0  1.000000         1         4365      1  0.235294   \n",
       "8     0.5         1.0  1.000000         1         4365      2  0.243697   \n",
       "9     0.5         1.0  1.000000         1         4365      3  0.252101   \n",
       "\n",
       "   Profit  Loss  gender  ...  Group_Mid_Aged_Adult  Group_Old_Aged_Adult  \\\n",
       "0     0.0   0.0       1  ...                     0                     1   \n",
       "1     0.0   0.0       1  ...                     0                     1   \n",
       "2     0.0   0.0       1  ...                     0                     1   \n",
       "3     0.0   0.0       1  ...                     0                     1   \n",
       "4     1.0   0.0       1  ...                     0                     1   \n",
       "5     0.0   0.0       1  ...                     0                     1   \n",
       "6     0.0   0.0       1  ...                     0                     1   \n",
       "7     0.0   0.0       1  ...                     0                     1   \n",
       "8     0.0   0.0       1  ...                     0                     1   \n",
       "9     0.5   0.0       1  ...                     0                     1   \n",
       "\n",
       "   Group_Teenager  Group_Young_Adult  email  mobile  social  web  \\\n",
       "0               0                  0      1       1       1    0   \n",
       "1               0                  0      1       1       1    0   \n",
       "2               0                  0      1       1       1    0   \n",
       "3               0                  0      1       1       1    0   \n",
       "4               0                  0      1       1       1    0   \n",
       "5               0                  0      1       1       0    1   \n",
       "6               0                  0      1       1       0    1   \n",
       "7               0                  0      1       0       0    1   \n",
       "8               0                  0      1       0       0    1   \n",
       "9               0                  0      1       0       0    1   \n",
       "\n",
       "   Monthly_date  Yearly_date  \n",
       "0             9         2017  \n",
       "1             9         2017  \n",
       "2             9         2017  \n",
       "3             9         2017  \n",
       "4             9         2017  \n",
       "5             9         2017  \n",
       "6             9         2017  \n",
       "7             9         2017  \n",
       "8             9         2017  \n",
       "9             9         2017  \n",
       "\n",
       "[10 rows x 25 columns]"
      ]
     },
     "execution_count": 76,
     "metadata": {},
     "output_type": "execute_result"
    }
   ],
   "source": [
    "preped_data.head(10)"
   ]
  },
  {
   "cell_type": "code",
   "execution_count": 77,
   "metadata": {},
   "outputs": [
    {
     "data": {
      "text/plain": [
       "Index(['reward', 'difficulty', 'duration', 'Offer_ID', 'Customer_ID', 'event',\n",
       "       'time', 'Profit', 'Loss', 'gender', 'age', 'Customer_income',\n",
       "       'offer_type_bogo', 'offer_type_discount', 'offer_type_informational',\n",
       "       'Group_Mid_Aged_Adult', 'Group_Old_Aged_Adult', 'Group_Teenager',\n",
       "       'Group_Young_Adult', 'email', 'mobile', 'social', 'web', 'Monthly_date',\n",
       "       'Yearly_date'],\n",
       "      dtype='object')"
      ]
     },
     "execution_count": 77,
     "metadata": {},
     "output_type": "execute_result"
    }
   ],
   "source": [
    "preped_data.columns"
   ]
  },
  {
   "cell_type": "markdown",
   "metadata": {},
   "source": [
    "#### Dropping both age and customer income columns as they will consume memory for no reason"
   ]
  },
  {
   "cell_type": "code",
   "execution_count": 78,
   "metadata": {},
   "outputs": [],
   "source": [
    "preped_data.drop(['age','Customer_income'], axis = 1, inplace = True)"
   ]
  },
  {
   "cell_type": "code",
   "execution_count": 79,
   "metadata": {},
   "outputs": [
    {
     "data": {
      "image/png": "[encoded data removed]",
      "text/plain": [
       "<Figure size 432x288 with 1 Axes>"
      ]
     },
     "metadata": {
      "needs_background": "light"
     },
     "output_type": "display_data"
    }
   ],
   "source": [
    "preped_data.event.value_counts().plot.bar(\"count of each event type\");"
   ]
  },
  {
   "cell_type": "code",
   "execution_count": 80,
   "metadata": {},
   "outputs": [
    {
     "name": "stdout",
     "output_type": "stream",
     "text": [
      "<class 'pandas.core.frame.DataFrame'>\n",
      "Int64Index: 148805 entries, 0 to 148804\n",
      "Data columns (total 23 columns):\n",
      " #   Column                    Non-Null Count   Dtype  \n",
      "---  ------                    --------------   -----  \n",
      " 0   reward                    148805 non-null  float64\n",
      " 1   difficulty                148805 non-null  float64\n",
      " 2   duration                  148805 non-null  float64\n",
      " 3   Offer_ID                  148805 non-null  int64  \n",
      " 4   Customer_ID               148805 non-null  int64  \n",
      " 5   event                     148805 non-null  int64  \n",
      " 6   time                      148805 non-null  float64\n",
      " 7   Profit                    148805 non-null  float64\n",
      " 8   Loss                      148805 non-null  float64\n",
      " 9   gender                    148805 non-null  int64  \n",
      " 10  offer_type_bogo           148805 non-null  uint8  \n",
      " 11  offer_type_discount       148805 non-null  uint8  \n",
      " 12  offer_type_informational  148805 non-null  uint8  \n",
      " 13  Group_Mid_Aged_Adult      148805 non-null  uint8  \n",
      " 14  Group_Old_Aged_Adult      148805 non-null  uint8  \n",
      " 15  Group_Teenager            148805 non-null  uint8  \n",
      " 16  Group_Young_Adult         148805 non-null  uint8  \n",
      " 17  email                     148805 non-null  int64  \n",
      " 18  mobile                    148805 non-null  int64  \n",
      " 19  social                    148805 non-null  int64  \n",
      " 20  web                       148805 non-null  int64  \n",
      " 21  Monthly_date              148805 non-null  int64  \n",
      " 22  Yearly_date               148805 non-null  int64  \n",
      "dtypes: float64(6), int64(10), uint8(7)\n",
      "memory usage: 25.3 MB\n"
     ]
    }
   ],
   "source": [
    "preped_data.info()"
   ]
  },
  {
   "cell_type": "markdown",
   "metadata": {},
   "source": [
    "### Split the train & test data"
   ]
  },
  {
   "cell_type": "code",
   "execution_count": 81,
   "metadata": {},
   "outputs": [],
   "source": [
    "preped_data.drop('event', axis = 1)\n",
    "labels = preped_data['event']"
   ]
  },
  {
   "cell_type": "markdown",
   "metadata": {},
   "source": [
    "#### splitting the data into 60% train and 40% for testing"
   ]
  },
  {
   "cell_type": "code",
   "execution_count": 82,
   "metadata": {},
   "outputs": [
    {
     "name": "stdout",
     "output_type": "stream",
     "text": [
      "Size of training data: 89283\n",
      "Size of testing data: 59522\n"
     ]
    }
   ],
   "source": [
    "X_train, X_test, y_train, y_test = train_test_split(preped_data, labels, test_size = 0.4, random_state = 0)\n",
    "\n",
    "print(\"Size of training data: {}\".format(X_train.shape[0]))\n",
    "print(\"Size of testing data: {}\".format(X_test.shape[0]))"
   ]
  },
  {
   "cell_type": "markdown",
   "metadata": {},
   "source": [
    "### Training the data\n",
    "\n",
    "As mentioned in the proposal, I will use F1 Score as the model metric. The F1 score (the weighted average of the precision and recall) will be used for both the benchmark and evaluation model as it provides great assessment about the quality. The score will be between 0 and 1, giving zero to be the lowest quality and 1 to be the highest quality"
   ]
  },
  {
   "cell_type": "code",
   "execution_count": 83,
   "metadata": {},
   "outputs": [],
   "source": [
    "def train_test(estimator):\n",
    "    \"\"\"\n",
    "    Return train and test F1 score along with the model name\n",
    "       \n",
    "    Parameters\n",
    "    --------\n",
    "    estimator: estimator instance\n",
    "    \n",
    "    Returns\n",
    "    --------\n",
    "    train_f1: train data F1 score\n",
    "    test_f1: test data F1 score\n",
    "    name: model name\n",
    "       \n",
    "    \"\"\"\n",
    "    train_predictions =  (estimator.fit(X_train, y_train)).predict(X_train)\n",
    "    test_predictions = (estimator.fit(X_train, y_train)).predict(X_test)\n",
    "    train_f1_score =  accuracy_score(y_train, train_predictions)*100\n",
    "    test_f1_score = f1_score(y_test, test_predictions, average = 'micro')*100\n",
    "    name = estimator.__class__.__name__\n",
    "    \n",
    "    return train_f1_score, test_f1_score, name"
   ]
  },
  {
   "cell_type": "markdown",
   "metadata": {},
   "source": [
    "### Applying the f1 score on a benchmark model (KNeighborsClassifier)"
   ]
  },
  {
   "cell_type": "markdown",
   "metadata": {},
   "source": [
    "#### The main target of using a benchmark is to get an idea about how to model behaves when comparing to other models using the f1 score evaluation metric"
   ]
  },
  {
   "cell_type": "code",
   "execution_count": 84,
   "metadata": {},
   "outputs": [],
   "source": [
    "model1 = KNeighborsClassifier()\n",
    "train_f1_1, test_f1_1, model_1 = train_test(model1)"
   ]
  },
  {
   "cell_type": "code",
   "execution_count": 85,
   "metadata": {},
   "outputs": [],
   "source": [
    "knn = {'Benchmark Model': [ model_1], 'train F1 score':[train_f1_1], 'test F1 score': [test_f1_1]}\n",
    "benchmark_model = pd.DataFrame(knn)"
   ]
  },
  {
   "cell_type": "code",
   "execution_count": 86,
   "metadata": {},
   "outputs": [
    {
     "data": {
      "text/html": [
       "<div>\n",
       "<style scoped>\n",
       "    .dataframe tbody tr th:only-of-type {\n",
       "        vertical-align: middle;\n",
       "    }\n",
       "\n",
       "    .dataframe tbody tr th {\n",
       "        vertical-align: top;\n",
       "    }\n",
       "\n",
       "    .dataframe thead th {\n",
       "        text-align: right;\n",
       "    }\n",
       "</style>\n",
       "<table border=\"1\" class=\"dataframe\">\n",
       "  <thead>\n",
       "    <tr style=\"text-align: right;\">\n",
       "      <th></th>\n",
       "      <th>Benchmark Model</th>\n",
       "      <th>train F1 score</th>\n",
       "      <th>test F1 score</th>\n",
       "    </tr>\n",
       "  </thead>\n",
       "  <tbody>\n",
       "    <tr>\n",
       "      <th>0</th>\n",
       "      <td>KNeighborsClassifier</td>\n",
       "      <td>61.559311</td>\n",
       "      <td>40.665636</td>\n",
       "    </tr>\n",
       "  </tbody>\n",
       "</table>\n",
       "</div>"
      ],
      "text/plain": [
       "        Benchmark Model  train F1 score  test F1 score\n",
       "0  KNeighborsClassifier       61.559311      40.665636"
      ]
     },
     "execution_count": 86,
     "metadata": {},
     "output_type": "execute_result"
    }
   ],
   "source": [
    "benchmark_model"
   ]
  },
  {
   "cell_type": "markdown",
   "metadata": {},
   "source": [
    "#### training on RandomForestClassifier"
   ]
  },
  {
   "cell_type": "code",
   "execution_count": 87,
   "metadata": {},
   "outputs": [],
   "source": [
    "model2 = RandomForestClassifier(random_state = 10)\n",
    "train_f1_2, test_f1_2, model_2 = train_test(model2)"
   ]
  },
  {
   "cell_type": "markdown",
   "metadata": {},
   "source": [
    "#### Training on DecisionTreeClassifier"
   ]
  },
  {
   "cell_type": "code",
   "execution_count": 88,
   "metadata": {},
   "outputs": [],
   "source": [
    "model3 = DecisionTreeClassifier(random_state = 10)\n",
    "train_f1_3, test_f1_3, model_3 = train_test(model3)"
   ]
  },
  {
   "cell_type": "markdown",
   "metadata": {},
   "source": [
    "# Conclusion"
   ]
  },
  {
   "cell_type": "markdown",
   "metadata": {},
   "source": [
    "## 1- Exploratory Data Analysis"
   ]
  },
  {
   "cell_type": "code",
   "execution_count": 89,
   "metadata": {},
   "outputs": [
    {
     "data": {
      "text/plain": [
       "<seaborn.axisgrid.FacetGrid at 0x7f50ae0ec358>"
      ]
     },
     "execution_count": 89,
     "metadata": {},
     "output_type": "execute_result"
    },
    {
     "data": {
      "image/png": "[encoded data removed]",
      "text/plain": [
       "<Figure size 720x1080 with 6 Axes>"
      ]
     },
     "metadata": {
      "needs_background": "light"
     },
     "output_type": "display_data"
    }
   ],
   "source": [
    "c = {'color': ['C5', \"#00FFFF\"]}\n",
    "plots = sns.FacetGrid(gender, row='event', col='gender', hue_kws=c, hue='gender', size=5);\n",
    "plots.map(plt.hist, 'offer_type')"
   ]
  },
  {
   "cell_type": "markdown",
   "metadata": {},
   "source": [
    "## 2- Summary\n",
    "\n",
    "    1- The majority of the customer using the app are both the Old-Aged customers and Mid-Aged customers ranging from (40-75) years old.\n",
    "    2- 56% percent of the customers are men while 44% are women, the percentage of women who received the app and picked the offer is slightly higher than men (24%, 20%) respectively.\n",
    "    3- Those who picked up the offers were mostly Old-Aged customers for both genders.\n",
    "    4- The \"discount\" offer type is the most picked type, followed by the \"BOGO\" offer while the informational offer is hardly picked.\n",
    "\n"
   ]
  },
  {
   "cell_type": "code",
   "execution_count": 90,
   "metadata": {},
   "outputs": [],
   "source": [
    "models_f1_scores = {'Model': ['KNeighborsClassifier (Benchmark)', model_2, model_3], \n",
    "          'train F1 score ':[train_f1_1, train_f1_2, train_f1_3], \n",
    "          'test F1 score': [test_f1_1 , test_f1_2, test_f1_3] }\n",
    "          \n",
    "result = pd.DataFrame(models_f1_scores)"
   ]
  },
  {
   "cell_type": "code",
   "execution_count": 91,
   "metadata": {},
   "outputs": [
    {
     "data": {
      "text/html": [
       "<div>\n",
       "<style scoped>\n",
       "    .dataframe tbody tr th:only-of-type {\n",
       "        vertical-align: middle;\n",
       "    }\n",
       "\n",
       "    .dataframe tbody tr th {\n",
       "        vertical-align: top;\n",
       "    }\n",
       "\n",
       "    .dataframe thead th {\n",
       "        text-align: right;\n",
       "    }\n",
       "</style>\n",
       "<table border=\"1\" class=\"dataframe\">\n",
       "  <thead>\n",
       "    <tr style=\"text-align: right;\">\n",
       "      <th></th>\n",
       "      <th>Model</th>\n",
       "      <th>train F1 score</th>\n",
       "      <th>test F1 score</th>\n",
       "    </tr>\n",
       "  </thead>\n",
       "  <tbody>\n",
       "    <tr>\n",
       "      <th>0</th>\n",
       "      <td>KNeighborsClassifier (Benchmark)</td>\n",
       "      <td>61.559311</td>\n",
       "      <td>40.665636</td>\n",
       "    </tr>\n",
       "    <tr>\n",
       "      <th>1</th>\n",
       "      <td>RandomForestClassifier</td>\n",
       "      <td>100.000000</td>\n",
       "      <td>100.000000</td>\n",
       "    </tr>\n",
       "    <tr>\n",
       "      <th>2</th>\n",
       "      <td>DecisionTreeClassifier</td>\n",
       "      <td>100.000000</td>\n",
       "      <td>100.000000</td>\n",
       "    </tr>\n",
       "  </tbody>\n",
       "</table>\n",
       "</div>"
      ],
      "text/plain": [
       "                              Model  train F1 score   test F1 score\n",
       "0  KNeighborsClassifier (Benchmark)        61.559311      40.665636\n",
       "1            RandomForestClassifier       100.000000     100.000000\n",
       "2            DecisionTreeClassifier       100.000000     100.000000"
      ]
     },
     "execution_count": 91,
     "metadata": {},
     "output_type": "execute_result"
    }
   ],
   "source": [
    "result"
   ]
  },
  {
   "cell_type": "markdown",
   "metadata": {},
   "source": [
    "## 3- Models evaluation using the F1 score metric\n",
    "\n",
    "    1- The bench mark model (Kneighbors) had the lowest train and test F1 score which was predicted as it's a dummy model only used for model comparison.\n",
    "    2- Both the RandomForestClassifier and DecisionTreeClassifier scored 100% F1 score which is really great! \n",
    "    3- Both models can be used for future predictions to determine which offer will be mostly picked by the customer and for future behavioral analysis of the customers.\n"
   ]
  },
  {
   "cell_type": "code",
   "execution_count": null,
   "metadata": {},
   "outputs": [],
   "source": []
  }
 ],
 "metadata": {
  "kernelspec": {
   "display_name": "conda_amazonei_mxnet_p36",
   "language": "python",
   "name": "conda_amazonei_mxnet_p36"
  },
  "language_info": {
   "codemirror_mode": {
    "name": "ipython",
    "version": 3
   },
   "file_extension": ".py",
   "mimetype": "text/x-python",
   "name": "python",
   "nbconvert_exporter": "python",
   "pygments_lexer": "ipython3",
   "version": "3.6.13"
  }
 },
 "nbformat": 4,
 "nbformat_minor": 2
}
